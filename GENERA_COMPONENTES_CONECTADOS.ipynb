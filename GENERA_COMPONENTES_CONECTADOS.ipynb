{
 "cells": [
  {
   "cell_type": "code",
   "execution_count": 1,
   "id": "5cbabef7-d917-4f4e-bc71-56997f2a9aeb",
   "metadata": {
    "tags": []
   },
   "outputs": [
    {
     "name": "stdout",
     "output_type": "stream",
     "text": [
      "Procesada la imagen: objetos_color_azul_rey_2022-01-02 00:00:00.png\n",
      "Procesada la imagen: contornos_objetos_color_azul_rey_2022-01-08 00:00:00.png\n",
      "Procesada la imagen: objetos_color_azul_rey_2022-01-07 00:00:00.png\n",
      "Procesada la imagen: contornos_objetos_color_azul_rey_2022-01-04 00:00:00.png\n",
      "Procesada la imagen: objetos_color_azul_rey_2022-01-03 00:00:00.png\n",
      "Procesada la imagen: objetos_color_azul_rey_2022-01-10 00:00:00.png\n",
      "Procesada la imagen: contornos_objetos_color_azul_rey_2022-01-06 00:00:00.png\n",
      "Procesada la imagen: objetos_color_azul_rey_2022-01-04 00:00:00.png\n",
      "Procesada la imagen: contornos_objetos_color_azul_rey_2022-01-09 00:00:00.png\n",
      "Procesada la imagen: objetos_color_azul_rey_2022-01-06 00:00:00.png\n",
      "Procesada la imagen: objetos_color_azul_rey_2022-01-08 00:00:00.png\n",
      "Procesada la imagen: objetos_color_azul_rey_2022-01-01 00:00:00.png\n",
      "Procesada la imagen: contornos_objetos_color_azul_rey_2022-01-07 00:00:00.png\n",
      "Procesada la imagen: contornos_objetos_color_azul_rey_2022-01-01 00:00:00.png\n",
      "Procesada la imagen: contornos_objetos_color_azul_rey_2022-01-10 00:00:00.png\n",
      "Procesada la imagen: contornos_objetos_color_azul_rey_2022-01-03 00:00:00.png\n",
      "Procesada la imagen: objetos_color_azul_rey_2022-01-05 00:00:00.png\n",
      "Procesada la imagen: contornos_objetos_color_azul_rey_2022-01-02 00:00:00.png\n",
      "Procesada la imagen: contornos_objetos_color_azul_rey_2022-01-05 00:00:00.png\n",
      "Procesada la imagen: objetos_color_azul_rey_2022-01-09 00:00:00.png\n",
      "Procesamiento completado.\n"
     ]
    }
   ],
   "source": [
    "import cv2\n",
    "import numpy as np\n",
    "import os\n",
    "from skimage.morphology import skeletonize\n",
    "\n",
    "def obtener_nubes_blancas(imagen):\n",
    "    \"\"\"Obtiene las nubes blancas de la imagen.\"\"\"\n",
    "    hsv = cv2.cvtColor(imagen, cv2.COLOR_BGR2HSV)\n",
    "    blanco_bajo = np.array([0, 0, 200])\n",
    "    blanco_alto = np.array([255, 30, 255])\n",
    "    mascara_blanca = cv2.inRange(hsv, blanco_bajo, blanco_alto)\n",
    "    return mascara_blanca\n",
    "\n",
    "def binarizar_imagen(imagen, tamano_objeto):\n",
    "    \"\"\"Binaria la imagen de las nubes.\"\"\"\n",
    "    # Umbral de la imagen\n",
    "    _, imagen_binaria = cv2.threshold(imagen, 1, 255, cv2.THRESH_BINARY)\n",
    "    # Dilata la imagen para rellenar los huecos\n",
    "    imagen_binaria = cv2.dilate(imagen_binaria, np.ones((tamano_objeto, tamano_objeto), np.uint8))\n",
    "    return imagen_binaria\n",
    "\n",
    "def esqueletonizar_imagen(imagen_binaria):\n",
    "    \"\"\"Obtiene el esqueleto de la imagen.\"\"\"\n",
    "    return skeletonize(imagen_binaria)\n",
    "\n",
    "# Carpeta de entrada y salida\n",
    "carpeta_entrada = \"objetos_binarizados\"\n",
    "carpeta_salida = \"objetos_componentes_conectados\"\n",
    "os.makedirs(carpeta_salida, exist_ok=True)\n",
    "\n",
    "# Obtener la lista de archivos en la carpeta de imágenes binarizadas\n",
    "archivos_en_carpeta = os.listdir(carpeta_entrada)\n",
    "\n",
    "for archivo in archivos_en_carpeta:\n",
    "    # Filtrar solo los archivos de imagen (por ejemplo, con extensión .jpg o .png)\n",
    "    if archivo.lower().endswith(('.jpg', '.png', '.jpeg')):\n",
    "        # Construir la ruta completa de la imagen\n",
    "        ruta_imagen = os.path.join(carpeta_entrada, archivo)\n",
    "\n",
    "        # Cargar la imagen\n",
    "        imagen = cv2.imread(ruta_imagen)\n",
    "\n",
    "        if imagen is None:\n",
    "            print(f\"No se pudo cargar la imagen {ruta_imagen}, asegúrate de que la ruta sea correcta.\")\n",
    "            continue\n",
    "\n",
    "        # Realizar el procesamiento de la imagen como en tu código original\n",
    "        mascara_nubes_blancas = obtener_nubes_blancas(imagen)\n",
    "        nubes_binarias = binarizar_imagen(imagen, 10)\n",
    "        nubes_esqueleto = esqueletonizar_imagen(nubes_binarias)\n",
    "\n",
    "        # Guardar la imagen binaria y su esqueleto en la carpeta de salida\n",
    "        nombre_binaria = f'nubes_binarias_{archivo}'\n",
    "        nombre_esqueleto = f'nubes_esqueleto_{archivo}'\n",
    "        cv2.imwrite(os.path.join(carpeta_salida, nombre_binaria), nubes_binarias)\n",
    "        cv2.imwrite(os.path.join(carpeta_salida, nombre_esqueleto), nubes_esqueleto)\n",
    "\n",
    "        print(f\"Procesada la imagen: {archivo}\")\n",
    "\n",
    "print(\"Procesamiento completado.\")\n",
    "\n"
   ]
  }
 ],
 "metadata": {
  "kernelspec": {
   "display_name": "Python 3 (ipykernel)",
   "language": "python",
   "name": "python3"
  },
  "language_info": {
   "codemirror_mode": {
    "name": "ipython",
    "version": 3
   },
   "file_extension": ".py",
   "mimetype": "text/x-python",
   "name": "python",
   "nbconvert_exporter": "python",
   "pygments_lexer": "ipython3",
   "version": "3.9.18"
  }
 },
 "nbformat": 4,
 "nbformat_minor": 5
}
