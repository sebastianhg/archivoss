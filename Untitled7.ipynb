{
 "cells": [
  {
   "cell_type": "code",
   "execution_count": 1,
   "id": "0cf5b77f-50c9-4c18-9a56-dbd3012e6747",
   "metadata": {},
   "outputs": [
    {
     "name": "stdout",
     "output_type": "stream",
     "text": [
      "El desplazamiento total de las nubes en los 5 días es: 6.886438578367233\n"
     ]
    }
   ],
   "source": [
    "import os\n",
    "import cv2\n",
    "import numpy as np\n",
    "\n",
    "# Función para calcular el desplazamiento entre dos imágenes\n",
    "def calcular_desplazamiento(img1, img2):\n",
    "    # Convertir las imágenes a escala de grises\n",
    "    gray1 = cv2.cvtColor(img1, cv2.COLOR_BGR2GRAY)\n",
    "    gray2 = cv2.cvtColor(img2, cv2.COLOR_BGR2GRAY)\n",
    "    \n",
    "    # Calcular el flujo óptico\n",
    "    flow = cv2.calcOpticalFlowFarneback(gray1, gray2, None, 0.5, 3, 15, 3, 5, 1.2, 0)\n",
    "    \n",
    "    # Calcular la magnitud y dirección del flujo\n",
    "    magnitud, angulo = cv2.cartToPolar(flow[..., 0], flow[..., 1])\n",
    "    \n",
    "    # Calcular el desplazamiento promedio\n",
    "    desplazamiento_promedio = np.mean(magnitud)\n",
    "    \n",
    "    return desplazamiento_promedio\n",
    "\n",
    "# Directorio donde se encuentran las imágenes\n",
    "directorio = \"time6\"\n",
    "\n",
    "# Obtener la lista de nombres de archivos de imágenes en el directorio\n",
    "archivos = sorted(os.listdir(directorio))\n",
    "\n",
    "# Lista para almacenar las imágenes\n",
    "imagenes = []\n",
    "\n",
    "# Cargar las imágenes desde el directorio\n",
    "for archivo in archivos:\n",
    "    if archivo.endswith(\".jpg\") or archivo.endswith(\".png\"):  # Asegurarse de cargar solo archivos de imagen\n",
    "        ruta = os.path.join(directorio, archivo)\n",
    "        img = cv2.imread(ruta)\n",
    "        imagenes.append(img)\n",
    "\n",
    "# Calcular el desplazamiento entre imágenes consecutivas\n",
    "desplazamientos = []\n",
    "for i in range(len(imagenes) - 1):\n",
    "    desplazamiento = calcular_desplazamiento(imagenes[i], imagenes[i + 1])\n",
    "    desplazamientos.append(desplazamiento)\n",
    "\n",
    "# Calcular el desplazamiento total en los 5 días\n",
    "desplazamiento_total = sum(desplazamientos)\n",
    "\n",
    "print(\"El desplazamiento total de las nubes en los 5 días es:\", desplazamiento_total)\n"
   ]
  }
 ],
 "metadata": {
  "kernelspec": {
   "display_name": "Python 3 (ipykernel)",
   "language": "python",
   "name": "python3"
  },
  "language_info": {
   "codemirror_mode": {
    "name": "ipython",
    "version": 3
   },
   "file_extension": ".py",
   "mimetype": "text/x-python",
   "name": "python",
   "nbconvert_exporter": "python",
   "pygments_lexer": "ipython3",
   "version": "3.9.18"
  }
 },
 "nbformat": 4,
 "nbformat_minor": 5
}
