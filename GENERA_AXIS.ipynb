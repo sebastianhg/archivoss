{
 "cells": [
  {
   "cell_type": "code",
   "execution_count": null,
   "id": "20c66b18-f945-448a-8889-298436413653",
   "metadata": {},
   "outputs": [
    {
     "ename": "IndexError",
     "evalue": "tuple index out of range",
     "output_type": "error",
     "traceback": [
      "\u001b[0;31m---------------------------------------------------------------------------\u001b[0m",
      "\u001b[0;31mIndexError\u001b[0m                                Traceback (most recent call last)",
      "Cell \u001b[0;32mIn[2], line 43\u001b[0m\n\u001b[1;32m     40\u001b[0m eje_mas_largo \u001b[38;5;241m=\u001b[39m encontrar_eje_mas_largo(imagen)\n\u001b[1;32m     42\u001b[0m \u001b[38;5;66;03m# Guardar el eje más largo como una línea en la carpeta de salida\u001b[39;00m\n\u001b[0;32m---> 43\u001b[0m punto1 \u001b[38;5;241m=\u001b[39m (\u001b[38;5;28mint\u001b[39m(\u001b[43meje_mas_largo\u001b[49m\u001b[43m[\u001b[49m\u001b[38;5;241;43m2\u001b[39;49m\u001b[43m]\u001b[49m \u001b[38;5;241m-\u001b[39m \u001b[38;5;241m1000\u001b[39m \u001b[38;5;241m*\u001b[39m eje_mas_largo[\u001b[38;5;241m0\u001b[39m]), \u001b[38;5;28mint\u001b[39m(eje_mas_largo[\u001b[38;5;241m3\u001b[39m] \u001b[38;5;241m-\u001b[39m \u001b[38;5;241m1000\u001b[39m \u001b[38;5;241m*\u001b[39m eje_mas_largo[\u001b[38;5;241m1\u001b[39m]))\n\u001b[1;32m     44\u001b[0m punto2 \u001b[38;5;241m=\u001b[39m (\u001b[38;5;28mint\u001b[39m(eje_mas_largo[\u001b[38;5;241m2\u001b[39m] \u001b[38;5;241m+\u001b[39m \u001b[38;5;241m1000\u001b[39m \u001b[38;5;241m*\u001b[39m eje_mas_largo[\u001b[38;5;241m0\u001b[39m]), \u001b[38;5;28mint\u001b[39m(eje_mas_largo[\u001b[38;5;241m3\u001b[39m] \u001b[38;5;241m+\u001b[39m \u001b[38;5;241m1000\u001b[39m \u001b[38;5;241m*\u001b[39m eje_mas_largo[\u001b[38;5;241m1\u001b[39m]))\n\u001b[1;32m     45\u001b[0m imagen_con_eje \u001b[38;5;241m=\u001b[39m cv2\u001b[38;5;241m.\u001b[39mline(cv2\u001b[38;5;241m.\u001b[39mcvtColor(imagen, cv2\u001b[38;5;241m.\u001b[39mCOLOR_GRAY2BGR), punto1, punto2, (\u001b[38;5;241m0\u001b[39m, \u001b[38;5;241m0\u001b[39m, \u001b[38;5;241m255\u001b[39m), \u001b[38;5;241m2\u001b[39m)\n",
      "\u001b[0;31mIndexError\u001b[0m: tuple index out of range"
     ]
    }
   ],
   "source": [
    "import cv2\n",
    "import numpy as np\n",
    "from skimage.morphology import skeletonize\n",
    "import os\n",
    "\n",
    "# Carpeta de entrada y salida\n",
    "carpeta_entrada = \"objetos_binarizados\"\n",
    "carpeta_salida = \"objetos_axis\"\n",
    "os.makedirs(carpeta_salida, exist_ok=True)\n",
    "\n",
    "def obtener_nubes_blancas(imagen):\n",
    "    \"\"\"Obtiene las nubes blancas de la imagen.\"\"\"\n",
    "    hsv = cv2.cvtColor(imagen, cv2.COLOR_BGR2HSV)\n",
    "    blanco_bajo = np.array([0, 0, 200])\n",
    "    blanco_alto = np.array([255, 30, 255])\n",
    "    mascara_blanca = cv2.inRange(hsv, blanco_bajo, blanco_alto)\n",
    "    return mascara_blanca\n",
    "\n",
    "def binarizar_imagen(imagen, tamano_objeto):\n",
    "    \"\"\"Binaria la imagen de las nubes.\"\"\"\n",
    "    # Umbral de la imagen\n",
    "    _, imagen_binaria = cv2.threshold(imagen, 1, 255, cv2.THRESH_BINARY)\n",
    "    # Dilata la imagen para rellenar los huecos\n",
    "    imagen_binaria = cv2.dilate(imagen_binaria, np.ones((tamano_objeto, tamano_objeto), np.uint8))\n",
    "    return imagen_binaria\n",
    "\n",
    "def esqueletonizar_imagen(imagen_binaria):\n",
    "    \"\"\"Obtiene el esqueleto de la imagen.\"\"\"\n",
    "    return skeletonize(imagen_binaria)\n",
    "\n",
    "# Obtener la lista de archivos en la carpeta de imágenes binarizadas\n",
    "archivos_en_carpeta = os.listdir(carpeta_entrada)\n",
    "\n",
    "for archivo in archivos_en_carpeta:\n",
    "    # Filtrar solo los archivos de imagen (por ejemplo, con extensión .jpg o .png)\n",
    "    if archivo.lower().endswith(('.jpg', '.png', '.jpeg')):\n",
    "        # Construir la ruta completa de la imagen\n",
    "        ruta_imagen = os.path.join(carpeta_entrada, archivo)\n",
    "\n",
    "        # Cargar la imagen\n",
    "        imagen = cv2.imread(ruta_imagen)\n",
    "\n",
    "        if imagen is None:\n",
    "            print(f\"No se pudo cargar la imagen {ruta_imagen}, asegúrate de que la ruta sea correcta.\")\n",
    "            continue\n",
    "\n",
    "        # Realizar el procesamiento de la imagen para eliminar el eje o esqueleto\n",
    "        mascara_nubes_blancas = obtener_nubes_blancas(imagen)\n",
    "        nubes_binarias = binarizar_imagen(mascara_nubes_blancas, 10)\n",
    "        nubes_sin_eje = esqueletonizar_imagen(nubes_binarias)\n",
    "\n",
    "        # Convertir la imagen a un tipo de datos compatible para su guardado\n",
    "        nubes_sin_eje = np.uint8(nubes_sin_eje) * 255\n",
    "\n",
    "        # Guardar la imagen sin eje en la carpeta de salida\n",
    "        nombre_salida = f'nubes_sin_eje_{archivo}'\n",
    "        cv2.imwrite(os.path.join(carpeta_salida, nombre_salida), nubes_sin_eje)\n",
    "\n",
    "        print(f\"Procesada la imagen: {archivo}\")\n",
    "\n",
    "print(\"Procesamiento completado.\")\n",
    "\n"
   ]
  }
 ],
 "metadata": {
  "kernelspec": {
   "display_name": "Python 3 (ipykernel)",
   "language": "python",
   "name": "python3"
  },
  "language_info": {
   "codemirror_mode": {
    "name": "ipython",
    "version": 3
   },
   "file_extension": ".py",
   "mimetype": "text/x-python",
   "name": "python",
   "nbconvert_exporter": "python",
   "pygments_lexer": "ipython3",
   "version": "3.9.18"
  }
 },
 "nbformat": 4,
 "nbformat_minor": 5
}
