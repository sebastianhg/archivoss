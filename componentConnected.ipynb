{
 "cells": [
  {
   "cell_type": "code",
   "execution_count": 2,
   "id": "35a4c76d-eb76-41c7-828a-866d23107c8d",
   "metadata": {},
   "outputs": [
    {
     "ename": "error",
     "evalue": "OpenCV(4.8.0) /io/opencv/modules/imgproc/src/color.cpp:182: error: (-215:Assertion failed) !_src.empty() in function 'cvtColor'\n",
     "output_type": "error",
     "traceback": [
      "\u001b[0;31m---------------------------------------------------------------------------\u001b[0m",
      "\u001b[0;31merror\u001b[0m                                     Traceback (most recent call last)",
      "Cell \u001b[0;32mIn[2], line 7\u001b[0m\n\u001b[1;32m      4\u001b[0m imagen \u001b[38;5;241m=\u001b[39m cv2\u001b[38;5;241m.\u001b[39mimread(\u001b[38;5;124m'\u001b[39m\u001b[38;5;124m/home/sebastian/Documentos/analisisNETCDF/años/2021/IVT_2021_01.nc\u001b[39m\u001b[38;5;124m'\u001b[39m)\n\u001b[1;32m      5\u001b[0m \u001b[38;5;66;03m# cv2.imshow(\"objeto\", imagen)\u001b[39;00m\n\u001b[0;32m----> 7\u001b[0m imgGris \u001b[38;5;241m=\u001b[39m \u001b[43mcv2\u001b[49m\u001b[38;5;241;43m.\u001b[39;49m\u001b[43mcvtColor\u001b[49m\u001b[43m(\u001b[49m\u001b[43mimagen\u001b[49m\u001b[43m,\u001b[49m\u001b[43m \u001b[49m\u001b[43mcv2\u001b[49m\u001b[38;5;241;43m.\u001b[39;49m\u001b[43mCOLOR_BGR2GRAY\u001b[49m\u001b[43m)\u001b[49m\n\u001b[1;32m      8\u001b[0m \u001b[38;5;66;03m# cv2.imshow(\"objeto\", imgGris)\u001b[39;00m\n\u001b[1;32m      9\u001b[0m \n\u001b[1;32m     10\u001b[0m \u001b[38;5;66;03m# umbral = 150\u001b[39;00m\n\u001b[1;32m     11\u001b[0m umbral, imagenMetodo \u001b[38;5;241m=\u001b[39m cv2\u001b[38;5;241m.\u001b[39mthreshold(imgGris, \u001b[38;5;241m0\u001b[39m, \u001b[38;5;241m255\u001b[39m, cv2\u001b[38;5;241m.\u001b[39mTHRESH_OTSU)\n",
      "\u001b[0;31merror\u001b[0m: OpenCV(4.8.0) /io/opencv/modules/imgproc/src/color.cpp:182: error: (-215:Assertion failed) !_src.empty() in function 'cvtColor'\n"
     ]
    }
   ],
   "source": [
    "import cv2\n",
    "import numpy as np\n",
    "\n",
    "imagen = cv2.imread('/home/sebastian/Documentos/analisisNETCDF/años/2021/IVT_2021_01.nc')\n",
    "# cv2.imshow(\"objeto\", imagen)\n",
    "\n",
    "imgGris = cv2.cvtColor(imagen, cv2.COLOR_BGR2GRAY)\n",
    "# cv2.imshow(\"objeto\", imgGris)\n",
    "\n",
    "# umbral = 150\n",
    "umbral, imagenMetodo = cv2.threshold(imgGris, 0, 255, cv2.THRESH_OTSU)\n",
    "mascara = np.uint8((imgGris < umbral) * 255)\n",
    "# cv2.imshow(\"objeto (imagen binaria)\", mascara)\n",
    "# cv2.imshow(\"objeto (imagenMetoto\", imagenMetodo)\n",
    "\n",
    "num_labels, labels, stats, centroids = cv2.connectedComponentsWithStats(mascara, 4, cv2.CV_32S)"
   ]
  },
  {
   "cell_type": "code",
   "execution_count": null,
   "id": "81fb4a7e-d8c2-4a6f-918d-716ad803a3c8",
   "metadata": {},
   "outputs": [],
   "source": []
  }
 ],
 "metadata": {
  "kernelspec": {
   "display_name": "Python 3 (ipykernel)",
   "language": "python",
   "name": "python3"
  },
  "language_info": {
   "codemirror_mode": {
    "name": "ipython",
    "version": 3
   },
   "file_extension": ".py",
   "mimetype": "text/x-python",
   "name": "python",
   "nbconvert_exporter": "python",
   "pygments_lexer": "ipython3",
   "version": "3.10.9"
  }
 },
 "nbformat": 4,
 "nbformat_minor": 5
}
