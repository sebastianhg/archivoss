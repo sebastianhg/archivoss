{
 "cells": [
  {
   "cell_type": "code",
   "execution_count": 5,
   "id": "d14da8fb-f5f0-45cb-802d-a65501c5df3a",
   "metadata": {
    "tags": []
   },
   "outputs": [
    {
     "name": "stdout",
     "output_type": "stream",
     "text": [
      "Faltan 1 imágenes por procesar.\n",
      "Proceso completo.\n"
     ]
    }
   ],
   "source": [
    "import os\n",
    "import cv2\n",
    "import numpy as np\n",
    "from skimage import measure\n",
    "\n",
    "# Ruta de la carpeta que contiene las imágenes\n",
    "ruta_carpeta = '/home/sebastian/Documentos/analisisNETCDF/datosGraficados/2022/2022-01'\n",
    "\n",
    "# Ruta de la carpeta donde se guardarán las imágenes binarizadas\n",
    "carpeta_salida = '/home/sebastian/Documentos/analisisNETCDF/datosGraficados/2022-01_binarizado'\n",
    "\n",
    "# Crear la carpeta de salida si no existe\n",
    "if not os.path.exists(carpeta_salida):\n",
    "    os.makedirs(carpeta_salida)\n",
    "\n",
    "# Lista de archivos en la carpeta\n",
    "archivos = os.listdir(ruta_carpeta)\n",
    "\n",
    "# Variable para rastrear las imágenes procesadas\n",
    "imagenes_procesadas = 0\n",
    "\n",
    "# Iterar sobre los archivos en la carpeta\n",
    "for archivo in archivos:\n",
    "    # Ruta completa del archivo\n",
    "    ruta_archivo = os.path.join(ruta_carpeta, archivo)\n",
    "    \n",
    "    # Verificar si el archivo es una imagen (puede ser útil si hay otros tipos de archivos en la carpeta)\n",
    "    if not archivo.lower().endswith(('.png', '.jpg', '.jpeg', '.gif')):\n",
    "        continue\n",
    "    \n",
    "    # Lee la imagen en escala de grises\n",
    "    imagen = cv2.imread(ruta_archivo, 0)\n",
    "    \n",
    "    if imagen is None:\n",
    "        print(f\"No se pudo leer la imagen: {archivo}\")\n",
    "        continue\n",
    "    \n",
    "    # Aplica umbralización para binarizar la imagen\n",
    "    _, binarizada = cv2.threshold(imagen, 128, 255, cv2.THRESH_BINARY)\n",
    "    \n",
    "    # Invierte los colores de la imagen binarizada\n",
    "    binarizada_invertida = cv2.bitwise_not(binarizada)\n",
    "    \n",
    "    # Encuentra los componentes conectados en la imagen binarizada invertida\n",
    "    componentes = measure.label(binarizada_invertida, connectivity=2)\n",
    "    \n",
    "    # Encuentra el centroide del componente más grande (número en el centro)\n",
    "    propiedades = measure.regionprops(componentes)\n",
    "    centroide = propiedades[0].centroid\n",
    "    \n",
    "    # Crea una imagen en blanco y negro para mostrar los bits\n",
    "    imagen_bits = np.zeros((binarizada.shape[0], binarizada.shape[1]), dtype=np.uint8)\n",
    "    \n",
    "    # Asigna los valores binarizados a la imagen de bits\n",
    "    imagen_bits[binarizada_invertida == 255] = 1\n",
    "    \n",
    "    binarizada_invertida = np.bool_(binarizada_invertida)\n",
    "\n",
    "    # Dibuja un círculo en el centroide del número\n",
    "    imagen_visualizacion = cv2.cvtColor(imagen_bits * 255, cv2.COLOR_GRAY2BGR)\n",
    "    cv2.circle(imagen_visualizacion, (int(centroide[1]), int(centroide[0])), 5, (0, 255, 0), -1)\n",
    "    \n",
    "    # Ruta de salida para la imagen binarizada\n",
    "    ruta_salida = os.path.join(carpeta_salida, archivo)\n",
    "    \n",
    "    # Guarda la imagen binarizada en la carpeta de salida\n",
    "    cv2.imwrite(ruta_salida, imagen_visualizacion)\n",
    "    \n",
    "    # Incrementar el contador de imágenes procesadas\n",
    "    imagenes_procesadas += 1\n",
    "\n",
    "# Verificar si faltaron imágenes por procesar\n",
    "if imagenes_procesadas < len(archivos):\n",
    "    print(f\"Faltan {len(archivos) - imagenes_procesadas} imágenes por procesar.\")\n",
    "\n",
    "print(\"Proceso completo.\")\n"
   ]
  }
 ],
 "metadata": {
  "kernelspec": {
   "display_name": "Python 3 (ipykernel)",
   "language": "python",
   "name": "python3"
  },
  "language_info": {
   "codemirror_mode": {
    "name": "ipython",
    "version": 3
   },
   "file_extension": ".py",
   "mimetype": "text/x-python",
   "name": "python",
   "nbconvert_exporter": "python",
   "pygments_lexer": "ipython3",
   "version": "3.10.9"
  }
 },
 "nbformat": 4,
 "nbformat_minor": 5
}
