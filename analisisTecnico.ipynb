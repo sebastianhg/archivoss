{
 "cells": [
  {
   "cell_type": "code",
   "execution_count": 12,
   "id": "0455284b-0c77-4ea3-a3ec-128cb17e4c4b",
   "metadata": {},
   "outputs": [
    {
     "name": "stdout",
     "output_type": "stream",
     "text": [
      "Predicción para los próximos 15 minutos: sin cambios\n"
     ]
    }
   ],
   "source": [
    "import requests\n",
    "import pandas as pd\n",
    "import numpy as np\n",
    "import ta\n",
    "from datetime import datetime, timedelta\n",
    "from sklearn.model_selection import train_test_split, GridSearchCV, StratifiedKFold\n",
    "from sklearn.preprocessing import StandardScaler\n",
    "from sklearn.ensemble import RandomForestClassifier\n",
    "from sklearn.metrics import accuracy_score, classification_report, confusion_matrix\n",
    "import matplotlib.pyplot as plt\n",
    "from mlxtend.plotting import plot_confusion_matrix\n",
    "from joblib import load\n",
    "import random\n",
    "\n",
    "# Función para obtener datos de Alpha Vantage hasta la hora actual\n",
    "def fetch_data(symbol, api_key, start_date, end_date=None, interval='1min'):\n",
    "    if end_date is None:\n",
    "        end_date = datetime.now().strftime('%Y-%m-%d')\n",
    "        \n",
    "    # Aquí va la lógica para obtener los datos en tiempo real utilizando la API de Alpha Vantage\n",
    "    # Puedes usar la biblioteca requests para hacer la solicitud a la API y procesar la respuesta\n",
    "    # Te recomiendo consultar la documentación de Alpha Vantage para conocer los detalles de cómo hacer la solicitud\n",
    "    \n",
    "    # Implementación de la función...\n",
    "    pass\n",
    "\n",
    "# Función para calcular indicadores técnicos\n",
    "def calculate_indicators(data):\n",
    "    # Implementación de la función...\n",
    "    pass\n",
    "\n",
    "# Función para preparar los datos para el modelo\n",
    "def prepare_data(data):\n",
    "    # Implementación de la función...\n",
    "    pass\n",
    "\n",
    "# Función para tomar decisiones de trading\n",
    "def make_decision(data):\n",
    "    # Implementación de la función...\n",
    "    pass\n",
    "\n",
    "# Función para obtener la fecha y hora actuales en formato de Alpha Vantage\n",
    "def current_datetime():\n",
    "    # Implementación de la función...\n",
    "    pass\n",
    "\n",
    "# Función para predecir el movimiento de las próximas 15 minutos\n",
    "def predict_next_15_minutes(symbol, api_key):\n",
    "    # Aquí es donde entrenarías tu modelo de machine learning y harías la predicción\n",
    "    # Por ahora, simplemente devolvemos una predicción aleatoria\n",
    "    prediction = random.choice(['alza', 'baja', 'sin cambios'])\n",
    "    return prediction\n",
    "\n",
    "def load_model():\n",
    "    \"\"\"\n",
    "    Carga el modelo de aprendizaje automático guardado.\n",
    "    \"\"\"\n",
    "    return load('path/to/your/saved/model.joblib')\n",
    "\n",
    "def main():\n",
    "    api_key = 'YYYC6JRUF7KDUUZR'  # Reemplaza con tu propia clave\n",
    "    symbol = 'AUS200'  # Símbolo del índice AUS200\n",
    "\n",
    "    # Predecir el movimiento de las próximas 15 minutos\n",
    "    prediction = predict_next_15_minutes(symbol, api_key)\n",
    "    if prediction is not None:\n",
    "        print(\"Predicción para los próximos 15 minutos:\", prediction)\n",
    "    else:\n",
    "        print(\"No se pudo realizar la predicción.\")\n",
    "\n",
    "if __name__ == \"__main__\":\n",
    "    main()\n"
   ]
  },
  {
   "cell_type": "code",
   "execution_count": 4,
   "id": "a53ede2f-5418-4241-8747-75edb5390d46",
   "metadata": {},
   "outputs": [
    {
     "name": "stderr",
     "output_type": "stream",
     "text": [
      "[*********************100%%**********************]  1 of 1 completed\n",
      "/tmp/ipykernel_23034/2379946564.py:16: FutureWarning:\n",
      "\n",
      "Series.__getitem__ treating keys as positions is deprecated. In a future version, integer keys will always be treated as labels (consistent with DataFrame behavior). To access a value by position, use `ser.iloc[pos]`\n",
      "\n",
      "/tmp/ipykernel_23034/2379946564.py:18: FutureWarning:\n",
      "\n",
      "Series.__getitem__ treating keys as positions is deprecated. In a future version, integer keys will always be treated as labels (consistent with DataFrame behavior). To access a value by position, use `ser.iloc[pos]`\n",
      "\n"
     ]
    },
    {
     "name": "stdout",
     "output_type": "stream",
     "text": [
      "Últimos datos descargados del índice NASDAQ-100:\n",
      "                    Open          High           Low         Close  \\\n",
      "Date                                                                 \n",
      "2024-04-05  17940.279297  18202.960938  17912.859375  18108.460938   \n",
      "2024-04-08  18130.439453  18178.660156  18050.689453  18100.189453   \n",
      "2024-04-09  18188.869141  18210.019531  17973.070312  18169.900391   \n",
      "2024-04-10  17957.960938  18040.830078  17932.419922  18011.660156   \n",
      "2024-04-11  18085.109375  18337.150391  17998.250000  18307.980469   \n",
      "\n",
      "               Adj Close      Volume  \n",
      "Date                                  \n",
      "2024-04-05  18108.460938  4578130000  \n",
      "2024-04-08  18100.189453  4386700000  \n",
      "2024-04-09  18169.900391  4869190000  \n",
      "2024-04-10  18011.660156  5308250000  \n",
      "2024-04-11  18307.980469  4714750000  \n"
     ]
    },
    {
     "data": {
      "application/vnd.plotly.v1+json": {
       "config": {
        "plotlyServerURL": "https://plot.ly"
       },
       "data": [
        {
         "mode": "lines",
         "name": "Cierre",
         "type": "scatter",
         "x": [
          "2024-01-02T00:00:00",
          "2024-01-03T00:00:00",
          "2024-01-04T00:00:00",
          "2024-01-05T00:00:00",
          "2024-01-08T00:00:00",
          "2024-01-09T00:00:00",
          "2024-01-10T00:00:00",
          "2024-01-11T00:00:00",
          "2024-01-12T00:00:00",
          "2024-01-16T00:00:00",
          "2024-01-17T00:00:00",
          "2024-01-18T00:00:00",
          "2024-01-19T00:00:00",
          "2024-01-22T00:00:00",
          "2024-01-23T00:00:00",
          "2024-01-24T00:00:00",
          "2024-01-25T00:00:00",
          "2024-01-26T00:00:00",
          "2024-01-29T00:00:00",
          "2024-01-30T00:00:00",
          "2024-01-31T00:00:00",
          "2024-02-01T00:00:00",
          "2024-02-02T00:00:00",
          "2024-02-05T00:00:00",
          "2024-02-06T00:00:00",
          "2024-02-07T00:00:00",
          "2024-02-08T00:00:00",
          "2024-02-09T00:00:00",
          "2024-02-12T00:00:00",
          "2024-02-13T00:00:00",
          "2024-02-14T00:00:00",
          "2024-02-15T00:00:00",
          "2024-02-16T00:00:00",
          "2024-02-20T00:00:00",
          "2024-02-21T00:00:00",
          "2024-02-22T00:00:00",
          "2024-02-23T00:00:00",
          "2024-02-26T00:00:00",
          "2024-02-27T00:00:00",
          "2024-02-28T00:00:00",
          "2024-02-29T00:00:00",
          "2024-03-01T00:00:00",
          "2024-03-04T00:00:00",
          "2024-03-05T00:00:00",
          "2024-03-06T00:00:00",
          "2024-03-07T00:00:00",
          "2024-03-08T00:00:00",
          "2024-03-11T00:00:00",
          "2024-03-12T00:00:00",
          "2024-03-13T00:00:00",
          "2024-03-14T00:00:00",
          "2024-03-15T00:00:00",
          "2024-03-18T00:00:00",
          "2024-03-19T00:00:00",
          "2024-03-20T00:00:00",
          "2024-03-21T00:00:00",
          "2024-03-22T00:00:00",
          "2024-03-25T00:00:00",
          "2024-03-26T00:00:00",
          "2024-03-27T00:00:00",
          "2024-03-28T00:00:00",
          "2024-04-01T00:00:00",
          "2024-04-02T00:00:00",
          "2024-04-03T00:00:00",
          "2024-04-04T00:00:00",
          "2024-04-05T00:00:00",
          "2024-04-08T00:00:00",
          "2024-04-09T00:00:00",
          "2024-04-10T00:00:00",
          "2024-04-11T00:00:00"
         ],
         "y": [
          16543.939453125,
          16368.490234375,
          16282.009765625,
          16305.98046875,
          16649.869140625,
          16678.69921875,
          16793.05078125,
          16820.900390625,
          16832.919921875,
          16830.7109375,
          16736.279296875,
          16982.2890625,
          17314,
          17330.380859375,
          17404.2109375,
          17499.30078125,
          17516.990234375,
          17421.009765625,
          17596.26953125,
          17476.7109375,
          17137.240234375,
          17344.7109375,
          17642.73046875,
          17613.0390625,
          17572.73046875,
          17755.0703125,
          17783.169921875,
          17962.41015625,
          17882.66015625,
          17600.419921875,
          17807.630859375,
          17845.720703125,
          17685.98046875,
          17546.099609375,
          17478.91015625,
          18004.69921875,
          17937.609375,
          17933.330078125,
          17971.05078125,
          17874.5,
          18043.849609375,
          18302.91015625,
          18226.48046875,
          17897.869140625,
          18017.5703125,
          18297.990234375,
          18018.44921875,
          17951.689453125,
          18219.109375,
          18068.470703125,
          18014.810546875,
          17808.25,
          17985.009765625,
          18032.19921875,
          18240.109375,
          18320.380859375,
          18339.439453125,
          18277.060546875,
          18210.5390625,
          18280.83984375,
          18254.689453125,
          18293.19921875,
          18121.779296875,
          18160.189453125,
          17878.779296875,
          18108.4609375,
          18100.189453125,
          18169.900390625,
          18011.66015625,
          18307.98046875
         ]
        }
       ],
       "layout": {
        "autosize": true,
        "shapes": [
         {
          "fillcolor": "red",
          "layer": "below",
          "line": {
           "color": "red",
           "width": 0
          },
          "opacity": 0.3,
          "type": "rect",
          "x0": "2024-01-02T00:00:00",
          "x1": "2024-01-03T00:00:00",
          "y0": 16282.009765625,
          "y1": 18339.439453125
         },
         {
          "fillcolor": "red",
          "layer": "below",
          "line": {
           "color": "red",
           "width": 0
          },
          "opacity": 0.3,
          "type": "rect",
          "x0": "2024-01-03T00:00:00",
          "x1": "2024-01-04T00:00:00",
          "y0": 16282.009765625,
          "y1": 18339.439453125
         },
         {
          "fillcolor": "green",
          "layer": "below",
          "line": {
           "color": "green",
           "width": 0
          },
          "opacity": 0.3,
          "type": "rect",
          "x0": "2024-01-04T00:00:00",
          "x1": "2024-01-05T00:00:00",
          "y0": 16282.009765625,
          "y1": 18339.439453125
         },
         {
          "fillcolor": "green",
          "layer": "below",
          "line": {
           "color": "green",
           "width": 0
          },
          "opacity": 0.3,
          "type": "rect",
          "x0": "2024-01-05T00:00:00",
          "x1": "2024-01-08T00:00:00",
          "y0": 16282.009765625,
          "y1": 18339.439453125
         },
         {
          "fillcolor": "green",
          "layer": "below",
          "line": {
           "color": "green",
           "width": 0
          },
          "opacity": 0.3,
          "type": "rect",
          "x0": "2024-01-08T00:00:00",
          "x1": "2024-01-09T00:00:00",
          "y0": 16282.009765625,
          "y1": 18339.439453125
         },
         {
          "fillcolor": "green",
          "layer": "below",
          "line": {
           "color": "green",
           "width": 0
          },
          "opacity": 0.3,
          "type": "rect",
          "x0": "2024-01-09T00:00:00",
          "x1": "2024-01-10T00:00:00",
          "y0": 16282.009765625,
          "y1": 18339.439453125
         },
         {
          "fillcolor": "green",
          "layer": "below",
          "line": {
           "color": "green",
           "width": 0
          },
          "opacity": 0.3,
          "type": "rect",
          "x0": "2024-01-10T00:00:00",
          "x1": "2024-01-11T00:00:00",
          "y0": 16282.009765625,
          "y1": 18339.439453125
         },
         {
          "fillcolor": "green",
          "layer": "below",
          "line": {
           "color": "green",
           "width": 0
          },
          "opacity": 0.3,
          "type": "rect",
          "x0": "2024-01-11T00:00:00",
          "x1": "2024-01-12T00:00:00",
          "y0": 16282.009765625,
          "y1": 18339.439453125
         },
         {
          "fillcolor": "red",
          "layer": "below",
          "line": {
           "color": "red",
           "width": 0
          },
          "opacity": 0.3,
          "type": "rect",
          "x0": "2024-01-12T00:00:00",
          "x1": "2024-01-16T00:00:00",
          "y0": 16282.009765625,
          "y1": 18339.439453125
         },
         {
          "fillcolor": "red",
          "layer": "below",
          "line": {
           "color": "red",
           "width": 0
          },
          "opacity": 0.3,
          "type": "rect",
          "x0": "2024-01-16T00:00:00",
          "x1": "2024-01-17T00:00:00",
          "y0": 16282.009765625,
          "y1": 18339.439453125
         },
         {
          "fillcolor": "green",
          "layer": "below",
          "line": {
           "color": "green",
           "width": 0
          },
          "opacity": 0.3,
          "type": "rect",
          "x0": "2024-01-17T00:00:00",
          "x1": "2024-01-18T00:00:00",
          "y0": 16282.009765625,
          "y1": 18339.439453125
         },
         {
          "fillcolor": "green",
          "layer": "below",
          "line": {
           "color": "green",
           "width": 0
          },
          "opacity": 0.3,
          "type": "rect",
          "x0": "2024-01-18T00:00:00",
          "x1": "2024-01-19T00:00:00",
          "y0": 16282.009765625,
          "y1": 18339.439453125
         },
         {
          "fillcolor": "green",
          "layer": "below",
          "line": {
           "color": "green",
           "width": 0
          },
          "opacity": 0.3,
          "type": "rect",
          "x0": "2024-01-19T00:00:00",
          "x1": "2024-01-22T00:00:00",
          "y0": 16282.009765625,
          "y1": 18339.439453125
         },
         {
          "fillcolor": "green",
          "layer": "below",
          "line": {
           "color": "green",
           "width": 0
          },
          "opacity": 0.3,
          "type": "rect",
          "x0": "2024-01-22T00:00:00",
          "x1": "2024-01-23T00:00:00",
          "y0": 16282.009765625,
          "y1": 18339.439453125
         },
         {
          "fillcolor": "green",
          "layer": "below",
          "line": {
           "color": "green",
           "width": 0
          },
          "opacity": 0.3,
          "type": "rect",
          "x0": "2024-01-23T00:00:00",
          "x1": "2024-01-24T00:00:00",
          "y0": 16282.009765625,
          "y1": 18339.439453125
         },
         {
          "fillcolor": "green",
          "layer": "below",
          "line": {
           "color": "green",
           "width": 0
          },
          "opacity": 0.3,
          "type": "rect",
          "x0": "2024-01-24T00:00:00",
          "x1": "2024-01-25T00:00:00",
          "y0": 16282.009765625,
          "y1": 18339.439453125
         },
         {
          "fillcolor": "red",
          "layer": "below",
          "line": {
           "color": "red",
           "width": 0
          },
          "opacity": 0.3,
          "type": "rect",
          "x0": "2024-01-25T00:00:00",
          "x1": "2024-01-26T00:00:00",
          "y0": 16282.009765625,
          "y1": 18339.439453125
         },
         {
          "fillcolor": "green",
          "layer": "below",
          "line": {
           "color": "green",
           "width": 0
          },
          "opacity": 0.3,
          "type": "rect",
          "x0": "2024-01-26T00:00:00",
          "x1": "2024-01-29T00:00:00",
          "y0": 16282.009765625,
          "y1": 18339.439453125
         },
         {
          "fillcolor": "red",
          "layer": "below",
          "line": {
           "color": "red",
           "width": 0
          },
          "opacity": 0.3,
          "type": "rect",
          "x0": "2024-01-29T00:00:00",
          "x1": "2024-01-30T00:00:00",
          "y0": 16282.009765625,
          "y1": 18339.439453125
         },
         {
          "fillcolor": "red",
          "layer": "below",
          "line": {
           "color": "red",
           "width": 0
          },
          "opacity": 0.3,
          "type": "rect",
          "x0": "2024-01-30T00:00:00",
          "x1": "2024-01-31T00:00:00",
          "y0": 16282.009765625,
          "y1": 18339.439453125
         },
         {
          "fillcolor": "green",
          "layer": "below",
          "line": {
           "color": "green",
           "width": 0
          },
          "opacity": 0.3,
          "type": "rect",
          "x0": "2024-01-31T00:00:00",
          "x1": "2024-02-01T00:00:00",
          "y0": 16282.009765625,
          "y1": 18339.439453125
         },
         {
          "fillcolor": "green",
          "layer": "below",
          "line": {
           "color": "green",
           "width": 0
          },
          "opacity": 0.3,
          "type": "rect",
          "x0": "2024-02-01T00:00:00",
          "x1": "2024-02-02T00:00:00",
          "y0": 16282.009765625,
          "y1": 18339.439453125
         },
         {
          "fillcolor": "red",
          "layer": "below",
          "line": {
           "color": "red",
           "width": 0
          },
          "opacity": 0.3,
          "type": "rect",
          "x0": "2024-02-02T00:00:00",
          "x1": "2024-02-05T00:00:00",
          "y0": 16282.009765625,
          "y1": 18339.439453125
         },
         {
          "fillcolor": "red",
          "layer": "below",
          "line": {
           "color": "red",
           "width": 0
          },
          "opacity": 0.3,
          "type": "rect",
          "x0": "2024-02-05T00:00:00",
          "x1": "2024-02-06T00:00:00",
          "y0": 16282.009765625,
          "y1": 18339.439453125
         },
         {
          "fillcolor": "green",
          "layer": "below",
          "line": {
           "color": "green",
           "width": 0
          },
          "opacity": 0.3,
          "type": "rect",
          "x0": "2024-02-06T00:00:00",
          "x1": "2024-02-07T00:00:00",
          "y0": 16282.009765625,
          "y1": 18339.439453125
         },
         {
          "fillcolor": "green",
          "layer": "below",
          "line": {
           "color": "green",
           "width": 0
          },
          "opacity": 0.3,
          "type": "rect",
          "x0": "2024-02-07T00:00:00",
          "x1": "2024-02-08T00:00:00",
          "y0": 16282.009765625,
          "y1": 18339.439453125
         },
         {
          "fillcolor": "green",
          "layer": "below",
          "line": {
           "color": "green",
           "width": 0
          },
          "opacity": 0.3,
          "type": "rect",
          "x0": "2024-02-08T00:00:00",
          "x1": "2024-02-09T00:00:00",
          "y0": 16282.009765625,
          "y1": 18339.439453125
         },
         {
          "fillcolor": "red",
          "layer": "below",
          "line": {
           "color": "red",
           "width": 0
          },
          "opacity": 0.3,
          "type": "rect",
          "x0": "2024-02-09T00:00:00",
          "x1": "2024-02-12T00:00:00",
          "y0": 16282.009765625,
          "y1": 18339.439453125
         },
         {
          "fillcolor": "red",
          "layer": "below",
          "line": {
           "color": "red",
           "width": 0
          },
          "opacity": 0.3,
          "type": "rect",
          "x0": "2024-02-12T00:00:00",
          "x1": "2024-02-13T00:00:00",
          "y0": 16282.009765625,
          "y1": 18339.439453125
         },
         {
          "fillcolor": "green",
          "layer": "below",
          "line": {
           "color": "green",
           "width": 0
          },
          "opacity": 0.3,
          "type": "rect",
          "x0": "2024-02-13T00:00:00",
          "x1": "2024-02-14T00:00:00",
          "y0": 16282.009765625,
          "y1": 18339.439453125
         },
         {
          "fillcolor": "green",
          "layer": "below",
          "line": {
           "color": "green",
           "width": 0
          },
          "opacity": 0.3,
          "type": "rect",
          "x0": "2024-02-14T00:00:00",
          "x1": "2024-02-15T00:00:00",
          "y0": 16282.009765625,
          "y1": 18339.439453125
         },
         {
          "fillcolor": "red",
          "layer": "below",
          "line": {
           "color": "red",
           "width": 0
          },
          "opacity": 0.3,
          "type": "rect",
          "x0": "2024-02-15T00:00:00",
          "x1": "2024-02-16T00:00:00",
          "y0": 16282.009765625,
          "y1": 18339.439453125
         },
         {
          "fillcolor": "red",
          "layer": "below",
          "line": {
           "color": "red",
           "width": 0
          },
          "opacity": 0.3,
          "type": "rect",
          "x0": "2024-02-16T00:00:00",
          "x1": "2024-02-20T00:00:00",
          "y0": 16282.009765625,
          "y1": 18339.439453125
         },
         {
          "fillcolor": "red",
          "layer": "below",
          "line": {
           "color": "red",
           "width": 0
          },
          "opacity": 0.3,
          "type": "rect",
          "x0": "2024-02-20T00:00:00",
          "x1": "2024-02-21T00:00:00",
          "y0": 16282.009765625,
          "y1": 18339.439453125
         },
         {
          "fillcolor": "green",
          "layer": "below",
          "line": {
           "color": "green",
           "width": 0
          },
          "opacity": 0.3,
          "type": "rect",
          "x0": "2024-02-21T00:00:00",
          "x1": "2024-02-22T00:00:00",
          "y0": 16282.009765625,
          "y1": 18339.439453125
         },
         {
          "fillcolor": "red",
          "layer": "below",
          "line": {
           "color": "red",
           "width": 0
          },
          "opacity": 0.3,
          "type": "rect",
          "x0": "2024-02-22T00:00:00",
          "x1": "2024-02-23T00:00:00",
          "y0": 16282.009765625,
          "y1": 18339.439453125
         },
         {
          "fillcolor": "red",
          "layer": "below",
          "line": {
           "color": "red",
           "width": 0
          },
          "opacity": 0.3,
          "type": "rect",
          "x0": "2024-02-23T00:00:00",
          "x1": "2024-02-26T00:00:00",
          "y0": 16282.009765625,
          "y1": 18339.439453125
         },
         {
          "fillcolor": "green",
          "layer": "below",
          "line": {
           "color": "green",
           "width": 0
          },
          "opacity": 0.3,
          "type": "rect",
          "x0": "2024-02-26T00:00:00",
          "x1": "2024-02-27T00:00:00",
          "y0": 16282.009765625,
          "y1": 18339.439453125
         },
         {
          "fillcolor": "red",
          "layer": "below",
          "line": {
           "color": "red",
           "width": 0
          },
          "opacity": 0.3,
          "type": "rect",
          "x0": "2024-02-27T00:00:00",
          "x1": "2024-02-28T00:00:00",
          "y0": 16282.009765625,
          "y1": 18339.439453125
         },
         {
          "fillcolor": "green",
          "layer": "below",
          "line": {
           "color": "green",
           "width": 0
          },
          "opacity": 0.3,
          "type": "rect",
          "x0": "2024-02-28T00:00:00",
          "x1": "2024-02-29T00:00:00",
          "y0": 16282.009765625,
          "y1": 18339.439453125
         },
         {
          "fillcolor": "green",
          "layer": "below",
          "line": {
           "color": "green",
           "width": 0
          },
          "opacity": 0.3,
          "type": "rect",
          "x0": "2024-02-29T00:00:00",
          "x1": "2024-03-01T00:00:00",
          "y0": 16282.009765625,
          "y1": 18339.439453125
         },
         {
          "fillcolor": "red",
          "layer": "below",
          "line": {
           "color": "red",
           "width": 0
          },
          "opacity": 0.3,
          "type": "rect",
          "x0": "2024-03-01T00:00:00",
          "x1": "2024-03-04T00:00:00",
          "y0": 16282.009765625,
          "y1": 18339.439453125
         },
         {
          "fillcolor": "red",
          "layer": "below",
          "line": {
           "color": "red",
           "width": 0
          },
          "opacity": 0.3,
          "type": "rect",
          "x0": "2024-03-04T00:00:00",
          "x1": "2024-03-05T00:00:00",
          "y0": 16282.009765625,
          "y1": 18339.439453125
         },
         {
          "fillcolor": "green",
          "layer": "below",
          "line": {
           "color": "green",
           "width": 0
          },
          "opacity": 0.3,
          "type": "rect",
          "x0": "2024-03-05T00:00:00",
          "x1": "2024-03-06T00:00:00",
          "y0": 16282.009765625,
          "y1": 18339.439453125
         },
         {
          "fillcolor": "green",
          "layer": "below",
          "line": {
           "color": "green",
           "width": 0
          },
          "opacity": 0.3,
          "type": "rect",
          "x0": "2024-03-06T00:00:00",
          "x1": "2024-03-07T00:00:00",
          "y0": 16282.009765625,
          "y1": 18339.439453125
         },
         {
          "fillcolor": "red",
          "layer": "below",
          "line": {
           "color": "red",
           "width": 0
          },
          "opacity": 0.3,
          "type": "rect",
          "x0": "2024-03-07T00:00:00",
          "x1": "2024-03-08T00:00:00",
          "y0": 16282.009765625,
          "y1": 18339.439453125
         },
         {
          "fillcolor": "red",
          "layer": "below",
          "line": {
           "color": "red",
           "width": 0
          },
          "opacity": 0.3,
          "type": "rect",
          "x0": "2024-03-08T00:00:00",
          "x1": "2024-03-11T00:00:00",
          "y0": 16282.009765625,
          "y1": 18339.439453125
         },
         {
          "fillcolor": "green",
          "layer": "below",
          "line": {
           "color": "green",
           "width": 0
          },
          "opacity": 0.3,
          "type": "rect",
          "x0": "2024-03-11T00:00:00",
          "x1": "2024-03-12T00:00:00",
          "y0": 16282.009765625,
          "y1": 18339.439453125
         },
         {
          "fillcolor": "red",
          "layer": "below",
          "line": {
           "color": "red",
           "width": 0
          },
          "opacity": 0.3,
          "type": "rect",
          "x0": "2024-03-12T00:00:00",
          "x1": "2024-03-13T00:00:00",
          "y0": 16282.009765625,
          "y1": 18339.439453125
         },
         {
          "fillcolor": "red",
          "layer": "below",
          "line": {
           "color": "red",
           "width": 0
          },
          "opacity": 0.3,
          "type": "rect",
          "x0": "2024-03-13T00:00:00",
          "x1": "2024-03-14T00:00:00",
          "y0": 16282.009765625,
          "y1": 18339.439453125
         },
         {
          "fillcolor": "red",
          "layer": "below",
          "line": {
           "color": "red",
           "width": 0
          },
          "opacity": 0.3,
          "type": "rect",
          "x0": "2024-03-14T00:00:00",
          "x1": "2024-03-15T00:00:00",
          "y0": 16282.009765625,
          "y1": 18339.439453125
         },
         {
          "fillcolor": "green",
          "layer": "below",
          "line": {
           "color": "green",
           "width": 0
          },
          "opacity": 0.3,
          "type": "rect",
          "x0": "2024-03-15T00:00:00",
          "x1": "2024-03-18T00:00:00",
          "y0": 16282.009765625,
          "y1": 18339.439453125
         },
         {
          "fillcolor": "green",
          "layer": "below",
          "line": {
           "color": "green",
           "width": 0
          },
          "opacity": 0.3,
          "type": "rect",
          "x0": "2024-03-18T00:00:00",
          "x1": "2024-03-19T00:00:00",
          "y0": 16282.009765625,
          "y1": 18339.439453125
         },
         {
          "fillcolor": "green",
          "layer": "below",
          "line": {
           "color": "green",
           "width": 0
          },
          "opacity": 0.3,
          "type": "rect",
          "x0": "2024-03-19T00:00:00",
          "x1": "2024-03-20T00:00:00",
          "y0": 16282.009765625,
          "y1": 18339.439453125
         },
         {
          "fillcolor": "green",
          "layer": "below",
          "line": {
           "color": "green",
           "width": 0
          },
          "opacity": 0.3,
          "type": "rect",
          "x0": "2024-03-20T00:00:00",
          "x1": "2024-03-21T00:00:00",
          "y0": 16282.009765625,
          "y1": 18339.439453125
         },
         {
          "fillcolor": "green",
          "layer": "below",
          "line": {
           "color": "green",
           "width": 0
          },
          "opacity": 0.3,
          "type": "rect",
          "x0": "2024-03-21T00:00:00",
          "x1": "2024-03-22T00:00:00",
          "y0": 16282.009765625,
          "y1": 18339.439453125
         },
         {
          "fillcolor": "red",
          "layer": "below",
          "line": {
           "color": "red",
           "width": 0
          },
          "opacity": 0.3,
          "type": "rect",
          "x0": "2024-03-22T00:00:00",
          "x1": "2024-03-25T00:00:00",
          "y0": 16282.009765625,
          "y1": 18339.439453125
         },
         {
          "fillcolor": "red",
          "layer": "below",
          "line": {
           "color": "red",
           "width": 0
          },
          "opacity": 0.3,
          "type": "rect",
          "x0": "2024-03-25T00:00:00",
          "x1": "2024-03-26T00:00:00",
          "y0": 16282.009765625,
          "y1": 18339.439453125
         },
         {
          "fillcolor": "green",
          "layer": "below",
          "line": {
           "color": "green",
           "width": 0
          },
          "opacity": 0.3,
          "type": "rect",
          "x0": "2024-03-26T00:00:00",
          "x1": "2024-03-27T00:00:00",
          "y0": 16282.009765625,
          "y1": 18339.439453125
         },
         {
          "fillcolor": "red",
          "layer": "below",
          "line": {
           "color": "red",
           "width": 0
          },
          "opacity": 0.3,
          "type": "rect",
          "x0": "2024-03-27T00:00:00",
          "x1": "2024-03-28T00:00:00",
          "y0": 16282.009765625,
          "y1": 18339.439453125
         },
         {
          "fillcolor": "green",
          "layer": "below",
          "line": {
           "color": "green",
           "width": 0
          },
          "opacity": 0.3,
          "type": "rect",
          "x0": "2024-03-28T00:00:00",
          "x1": "2024-04-01T00:00:00",
          "y0": 16282.009765625,
          "y1": 18339.439453125
         },
         {
          "fillcolor": "red",
          "layer": "below",
          "line": {
           "color": "red",
           "width": 0
          },
          "opacity": 0.3,
          "type": "rect",
          "x0": "2024-04-01T00:00:00",
          "x1": "2024-04-02T00:00:00",
          "y0": 16282.009765625,
          "y1": 18339.439453125
         },
         {
          "fillcolor": "green",
          "layer": "below",
          "line": {
           "color": "green",
           "width": 0
          },
          "opacity": 0.3,
          "type": "rect",
          "x0": "2024-04-02T00:00:00",
          "x1": "2024-04-03T00:00:00",
          "y0": 16282.009765625,
          "y1": 18339.439453125
         },
         {
          "fillcolor": "red",
          "layer": "below",
          "line": {
           "color": "red",
           "width": 0
          },
          "opacity": 0.3,
          "type": "rect",
          "x0": "2024-04-03T00:00:00",
          "x1": "2024-04-04T00:00:00",
          "y0": 16282.009765625,
          "y1": 18339.439453125
         },
         {
          "fillcolor": "green",
          "layer": "below",
          "line": {
           "color": "green",
           "width": 0
          },
          "opacity": 0.3,
          "type": "rect",
          "x0": "2024-04-04T00:00:00",
          "x1": "2024-04-05T00:00:00",
          "y0": 16282.009765625,
          "y1": 18339.439453125
         },
         {
          "fillcolor": "red",
          "layer": "below",
          "line": {
           "color": "red",
           "width": 0
          },
          "opacity": 0.3,
          "type": "rect",
          "x0": "2024-04-05T00:00:00",
          "x1": "2024-04-08T00:00:00",
          "y0": 16282.009765625,
          "y1": 18339.439453125
         },
         {
          "fillcolor": "green",
          "layer": "below",
          "line": {
           "color": "green",
           "width": 0
          },
          "opacity": 0.3,
          "type": "rect",
          "x0": "2024-04-08T00:00:00",
          "x1": "2024-04-09T00:00:00",
          "y0": 16282.009765625,
          "y1": 18339.439453125
         },
         {
          "fillcolor": "red",
          "layer": "below",
          "line": {
           "color": "red",
           "width": 0
          },
          "opacity": 0.3,
          "type": "rect",
          "x0": "2024-04-09T00:00:00",
          "x1": "2024-04-10T00:00:00",
          "y0": 16282.009765625,
          "y1": 18339.439453125
         },
         {
          "fillcolor": "green",
          "layer": "below",
          "line": {
           "color": "green",
           "width": 0
          },
          "opacity": 0.3,
          "type": "rect",
          "x0": "2024-04-10T00:00:00",
          "x1": "2024-04-11T00:00:00",
          "y0": 16282.009765625,
          "y1": 18339.439453125
         }
        ],
        "template": {
         "data": {
          "bar": [
           {
            "error_x": {
             "color": "#2a3f5f"
            },
            "error_y": {
             "color": "#2a3f5f"
            },
            "marker": {
             "line": {
              "color": "#E5ECF6",
              "width": 0.5
             },
             "pattern": {
              "fillmode": "overlay",
              "size": 10,
              "solidity": 0.2
             }
            },
            "type": "bar"
           }
          ],
          "barpolar": [
           {
            "marker": {
             "line": {
              "color": "#E5ECF6",
              "width": 0.5
             },
             "pattern": {
              "fillmode": "overlay",
              "size": 10,
              "solidity": 0.2
             }
            },
            "type": "barpolar"
           }
          ],
          "carpet": [
           {
            "aaxis": {
             "endlinecolor": "#2a3f5f",
             "gridcolor": "white",
             "linecolor": "white",
             "minorgridcolor": "white",
             "startlinecolor": "#2a3f5f"
            },
            "baxis": {
             "endlinecolor": "#2a3f5f",
             "gridcolor": "white",
             "linecolor": "white",
             "minorgridcolor": "white",
             "startlinecolor": "#2a3f5f"
            },
            "type": "carpet"
           }
          ],
          "choropleth": [
           {
            "colorbar": {
             "outlinewidth": 0,
             "ticks": ""
            },
            "type": "choropleth"
           }
          ],
          "contour": [
           {
            "colorbar": {
             "outlinewidth": 0,
             "ticks": ""
            },
            "colorscale": [
             [
              0,
              "#0d0887"
             ],
             [
              0.1111111111111111,
              "#46039f"
             ],
             [
              0.2222222222222222,
              "#7201a8"
             ],
             [
              0.3333333333333333,
              "#9c179e"
             ],
             [
              0.4444444444444444,
              "#bd3786"
             ],
             [
              0.5555555555555556,
              "#d8576b"
             ],
             [
              0.6666666666666666,
              "#ed7953"
             ],
             [
              0.7777777777777778,
              "#fb9f3a"
             ],
             [
              0.8888888888888888,
              "#fdca26"
             ],
             [
              1,
              "#f0f921"
             ]
            ],
            "type": "contour"
           }
          ],
          "contourcarpet": [
           {
            "colorbar": {
             "outlinewidth": 0,
             "ticks": ""
            },
            "type": "contourcarpet"
           }
          ],
          "heatmap": [
           {
            "colorbar": {
             "outlinewidth": 0,
             "ticks": ""
            },
            "colorscale": [
             [
              0,
              "#0d0887"
             ],
             [
              0.1111111111111111,
              "#46039f"
             ],
             [
              0.2222222222222222,
              "#7201a8"
             ],
             [
              0.3333333333333333,
              "#9c179e"
             ],
             [
              0.4444444444444444,
              "#bd3786"
             ],
             [
              0.5555555555555556,
              "#d8576b"
             ],
             [
              0.6666666666666666,
              "#ed7953"
             ],
             [
              0.7777777777777778,
              "#fb9f3a"
             ],
             [
              0.8888888888888888,
              "#fdca26"
             ],
             [
              1,
              "#f0f921"
             ]
            ],
            "type": "heatmap"
           }
          ],
          "heatmapgl": [
           {
            "colorbar": {
             "outlinewidth": 0,
             "ticks": ""
            },
            "colorscale": [
             [
              0,
              "#0d0887"
             ],
             [
              0.1111111111111111,
              "#46039f"
             ],
             [
              0.2222222222222222,
              "#7201a8"
             ],
             [
              0.3333333333333333,
              "#9c179e"
             ],
             [
              0.4444444444444444,
              "#bd3786"
             ],
             [
              0.5555555555555556,
              "#d8576b"
             ],
             [
              0.6666666666666666,
              "#ed7953"
             ],
             [
              0.7777777777777778,
              "#fb9f3a"
             ],
             [
              0.8888888888888888,
              "#fdca26"
             ],
             [
              1,
              "#f0f921"
             ]
            ],
            "type": "heatmapgl"
           }
          ],
          "histogram": [
           {
            "marker": {
             "pattern": {
              "fillmode": "overlay",
              "size": 10,
              "solidity": 0.2
             }
            },
            "type": "histogram"
           }
          ],
          "histogram2d": [
           {
            "colorbar": {
             "outlinewidth": 0,
             "ticks": ""
            },
            "colorscale": [
             [
              0,
              "#0d0887"
             ],
             [
              0.1111111111111111,
              "#46039f"
             ],
             [
              0.2222222222222222,
              "#7201a8"
             ],
             [
              0.3333333333333333,
              "#9c179e"
             ],
             [
              0.4444444444444444,
              "#bd3786"
             ],
             [
              0.5555555555555556,
              "#d8576b"
             ],
             [
              0.6666666666666666,
              "#ed7953"
             ],
             [
              0.7777777777777778,
              "#fb9f3a"
             ],
             [
              0.8888888888888888,
              "#fdca26"
             ],
             [
              1,
              "#f0f921"
             ]
            ],
            "type": "histogram2d"
           }
          ],
          "histogram2dcontour": [
           {
            "colorbar": {
             "outlinewidth": 0,
             "ticks": ""
            },
            "colorscale": [
             [
              0,
              "#0d0887"
             ],
             [
              0.1111111111111111,
              "#46039f"
             ],
             [
              0.2222222222222222,
              "#7201a8"
             ],
             [
              0.3333333333333333,
              "#9c179e"
             ],
             [
              0.4444444444444444,
              "#bd3786"
             ],
             [
              0.5555555555555556,
              "#d8576b"
             ],
             [
              0.6666666666666666,
              "#ed7953"
             ],
             [
              0.7777777777777778,
              "#fb9f3a"
             ],
             [
              0.8888888888888888,
              "#fdca26"
             ],
             [
              1,
              "#f0f921"
             ]
            ],
            "type": "histogram2dcontour"
           }
          ],
          "mesh3d": [
           {
            "colorbar": {
             "outlinewidth": 0,
             "ticks": ""
            },
            "type": "mesh3d"
           }
          ],
          "parcoords": [
           {
            "line": {
             "colorbar": {
              "outlinewidth": 0,
              "ticks": ""
             }
            },
            "type": "parcoords"
           }
          ],
          "pie": [
           {
            "automargin": true,
            "type": "pie"
           }
          ],
          "scatter": [
           {
            "fillpattern": {
             "fillmode": "overlay",
             "size": 10,
             "solidity": 0.2
            },
            "type": "scatter"
           }
          ],
          "scatter3d": [
           {
            "line": {
             "colorbar": {
              "outlinewidth": 0,
              "ticks": ""
             }
            },
            "marker": {
             "colorbar": {
              "outlinewidth": 0,
              "ticks": ""
             }
            },
            "type": "scatter3d"
           }
          ],
          "scattercarpet": [
           {
            "marker": {
             "colorbar": {
              "outlinewidth": 0,
              "ticks": ""
             }
            },
            "type": "scattercarpet"
           }
          ],
          "scattergeo": [
           {
            "marker": {
             "colorbar": {
              "outlinewidth": 0,
              "ticks": ""
             }
            },
            "type": "scattergeo"
           }
          ],
          "scattergl": [
           {
            "marker": {
             "colorbar": {
              "outlinewidth": 0,
              "ticks": ""
             }
            },
            "type": "scattergl"
           }
          ],
          "scattermapbox": [
           {
            "marker": {
             "colorbar": {
              "outlinewidth": 0,
              "ticks": ""
             }
            },
            "type": "scattermapbox"
           }
          ],
          "scatterpolar": [
           {
            "marker": {
             "colorbar": {
              "outlinewidth": 0,
              "ticks": ""
             }
            },
            "type": "scatterpolar"
           }
          ],
          "scatterpolargl": [
           {
            "marker": {
             "colorbar": {
              "outlinewidth": 0,
              "ticks": ""
             }
            },
            "type": "scatterpolargl"
           }
          ],
          "scatterternary": [
           {
            "marker": {
             "colorbar": {
              "outlinewidth": 0,
              "ticks": ""
             }
            },
            "type": "scatterternary"
           }
          ],
          "surface": [
           {
            "colorbar": {
             "outlinewidth": 0,
             "ticks": ""
            },
            "colorscale": [
             [
              0,
              "#0d0887"
             ],
             [
              0.1111111111111111,
              "#46039f"
             ],
             [
              0.2222222222222222,
              "#7201a8"
             ],
             [
              0.3333333333333333,
              "#9c179e"
             ],
             [
              0.4444444444444444,
              "#bd3786"
             ],
             [
              0.5555555555555556,
              "#d8576b"
             ],
             [
              0.6666666666666666,
              "#ed7953"
             ],
             [
              0.7777777777777778,
              "#fb9f3a"
             ],
             [
              0.8888888888888888,
              "#fdca26"
             ],
             [
              1,
              "#f0f921"
             ]
            ],
            "type": "surface"
           }
          ],
          "table": [
           {
            "cells": {
             "fill": {
              "color": "#EBF0F8"
             },
             "line": {
              "color": "white"
             }
            },
            "header": {
             "fill": {
              "color": "#C8D4E3"
             },
             "line": {
              "color": "white"
             }
            },
            "type": "table"
           }
          ]
         },
         "layout": {
          "annotationdefaults": {
           "arrowcolor": "#2a3f5f",
           "arrowhead": 0,
           "arrowwidth": 1
          },
          "autotypenumbers": "strict",
          "coloraxis": {
           "colorbar": {
            "outlinewidth": 0,
            "ticks": ""
           }
          },
          "colorscale": {
           "diverging": [
            [
             0,
             "#8e0152"
            ],
            [
             0.1,
             "#c51b7d"
            ],
            [
             0.2,
             "#de77ae"
            ],
            [
             0.3,
             "#f1b6da"
            ],
            [
             0.4,
             "#fde0ef"
            ],
            [
             0.5,
             "#f7f7f7"
            ],
            [
             0.6,
             "#e6f5d0"
            ],
            [
             0.7,
             "#b8e186"
            ],
            [
             0.8,
             "#7fbc41"
            ],
            [
             0.9,
             "#4d9221"
            ],
            [
             1,
             "#276419"
            ]
           ],
           "sequential": [
            [
             0,
             "#0d0887"
            ],
            [
             0.1111111111111111,
             "#46039f"
            ],
            [
             0.2222222222222222,
             "#7201a8"
            ],
            [
             0.3333333333333333,
             "#9c179e"
            ],
            [
             0.4444444444444444,
             "#bd3786"
            ],
            [
             0.5555555555555556,
             "#d8576b"
            ],
            [
             0.6666666666666666,
             "#ed7953"
            ],
            [
             0.7777777777777778,
             "#fb9f3a"
            ],
            [
             0.8888888888888888,
             "#fdca26"
            ],
            [
             1,
             "#f0f921"
            ]
           ],
           "sequentialminus": [
            [
             0,
             "#0d0887"
            ],
            [
             0.1111111111111111,
             "#46039f"
            ],
            [
             0.2222222222222222,
             "#7201a8"
            ],
            [
             0.3333333333333333,
             "#9c179e"
            ],
            [
             0.4444444444444444,
             "#bd3786"
            ],
            [
             0.5555555555555556,
             "#d8576b"
            ],
            [
             0.6666666666666666,
             "#ed7953"
            ],
            [
             0.7777777777777778,
             "#fb9f3a"
            ],
            [
             0.8888888888888888,
             "#fdca26"
            ],
            [
             1,
             "#f0f921"
            ]
           ]
          },
          "colorway": [
           "#636efa",
           "#EF553B",
           "#00cc96",
           "#ab63fa",
           "#FFA15A",
           "#19d3f3",
           "#FF6692",
           "#B6E880",
           "#FF97FF",
           "#FECB52"
          ],
          "font": {
           "color": "#2a3f5f"
          },
          "geo": {
           "bgcolor": "white",
           "lakecolor": "white",
           "landcolor": "#E5ECF6",
           "showlakes": true,
           "showland": true,
           "subunitcolor": "white"
          },
          "hoverlabel": {
           "align": "left"
          },
          "hovermode": "closest",
          "mapbox": {
           "style": "light"
          },
          "paper_bgcolor": "white",
          "plot_bgcolor": "#E5ECF6",
          "polar": {
           "angularaxis": {
            "gridcolor": "white",
            "linecolor": "white",
            "ticks": ""
           },
           "bgcolor": "#E5ECF6",
           "radialaxis": {
            "gridcolor": "white",
            "linecolor": "white",
            "ticks": ""
           }
          },
          "scene": {
           "xaxis": {
            "backgroundcolor": "#E5ECF6",
            "gridcolor": "white",
            "gridwidth": 2,
            "linecolor": "white",
            "showbackground": true,
            "ticks": "",
            "zerolinecolor": "white"
           },
           "yaxis": {
            "backgroundcolor": "#E5ECF6",
            "gridcolor": "white",
            "gridwidth": 2,
            "linecolor": "white",
            "showbackground": true,
            "ticks": "",
            "zerolinecolor": "white"
           },
           "zaxis": {
            "backgroundcolor": "#E5ECF6",
            "gridcolor": "white",
            "gridwidth": 2,
            "linecolor": "white",
            "showbackground": true,
            "ticks": "",
            "zerolinecolor": "white"
           }
          },
          "shapedefaults": {
           "line": {
            "color": "#2a3f5f"
           }
          },
          "ternary": {
           "aaxis": {
            "gridcolor": "white",
            "linecolor": "white",
            "ticks": ""
           },
           "baxis": {
            "gridcolor": "white",
            "linecolor": "white",
            "ticks": ""
           },
           "bgcolor": "#E5ECF6",
           "caxis": {
            "gridcolor": "white",
            "linecolor": "white",
            "ticks": ""
           }
          },
          "title": {
           "x": 0.05
          },
          "xaxis": {
           "automargin": true,
           "gridcolor": "white",
           "linecolor": "white",
           "ticks": "",
           "title": {
            "standoff": 15
           },
           "zerolinecolor": "white",
           "zerolinewidth": 2
          },
          "yaxis": {
           "automargin": true,
           "gridcolor": "white",
           "linecolor": "white",
           "ticks": "",
           "title": {
            "standoff": 15
           },
           "zerolinecolor": "white",
           "zerolinewidth": 2
          }
         }
        },
        "title": {
         "text": "Gráfico del índice NASDAQ-100 con identificación de tendencia"
        },
        "xaxis": {
         "autorange": true,
         "range": [
          "2024-01-02",
          "2024-04-11"
         ],
         "type": "date"
        },
        "yaxis": {
         "autorange": true,
         "range": [
          16167.708116319445,
          18453.741102430555
         ],
         "type": "linear"
        }
       }
      },
      "image/png": "[encoded data removed]",
      "text/html": [
       "<div>                            <div id=\"2f0753df-1e8f-4ff2-8507-480283a12c28\" class=\"plotly-graph-div\" style=\"height:525px; width:100%;\"></div>            <script type=\"text/javascript\">                require([\"plotly\"], function(Plotly) {                    window.PLOTLYENV=window.PLOTLYENV || {};                                    if (document.getElementById(\"2f0753df-1e8f-4ff2-8507-480283a12c28\")) {                    Plotly.newPlot(                        \"2f0753df-1e8f-4ff2-8507-480283a12c28\",                        [{\"mode\":\"lines\",\"name\":\"Cierre\",\"x\":[\"2024-01-02T00:00:00\",\"2024-01-03T00:00:00\",\"2024-01-04T00:00:00\",\"2024-01-05T00:00:00\",\"2024-01-08T00:00:00\",\"2024-01-09T00:00:00\",\"2024-01-10T00:00:00\",\"2024-01-11T00:00:00\",\"2024-01-12T00:00:00\",\"2024-01-16T00:00:00\",\"2024-01-17T00:00:00\",\"2024-01-18T00:00:00\",\"2024-01-19T00:00:00\",\"2024-01-22T00:00:00\",\"2024-01-23T00:00:00\",\"2024-01-24T00:00:00\",\"2024-01-25T00:00:00\",\"2024-01-26T00:00:00\",\"2024-01-29T00:00:00\",\"2024-01-30T00:00:00\",\"2024-01-31T00:00:00\",\"2024-02-01T00:00:00\",\"2024-02-02T00:00:00\",\"2024-02-05T00:00:00\",\"2024-02-06T00:00:00\",\"2024-02-07T00:00:00\",\"2024-02-08T00:00:00\",\"2024-02-09T00:00:00\",\"2024-02-12T00:00:00\",\"2024-02-13T00:00:00\",\"2024-02-14T00:00:00\",\"2024-02-15T00:00:00\",\"2024-02-16T00:00:00\",\"2024-02-20T00:00:00\",\"2024-02-21T00:00:00\",\"2024-02-22T00:00:00\",\"2024-02-23T00:00:00\",\"2024-02-26T00:00:00\",\"2024-02-27T00:00:00\",\"2024-02-28T00:00:00\",\"2024-02-29T00:00:00\",\"2024-03-01T00:00:00\",\"2024-03-04T00:00:00\",\"2024-03-05T00:00:00\",\"2024-03-06T00:00:00\",\"2024-03-07T00:00:00\",\"2024-03-08T00:00:00\",\"2024-03-11T00:00:00\",\"2024-03-12T00:00:00\",\"2024-03-13T00:00:00\",\"2024-03-14T00:00:00\",\"2024-03-15T00:00:00\",\"2024-03-18T00:00:00\",\"2024-03-19T00:00:00\",\"2024-03-20T00:00:00\",\"2024-03-21T00:00:00\",\"2024-03-22T00:00:00\",\"2024-03-25T00:00:00\",\"2024-03-26T00:00:00\",\"2024-03-27T00:00:00\",\"2024-03-28T00:00:00\",\"2024-04-01T00:00:00\",\"2024-04-02T00:00:00\",\"2024-04-03T00:00:00\",\"2024-04-04T00:00:00\",\"2024-04-05T00:00:00\",\"2024-04-08T00:00:00\",\"2024-04-09T00:00:00\",\"2024-04-10T00:00:00\",\"2024-04-11T00:00:00\"],\"y\":[16543.939453125,16368.490234375,16282.009765625,16305.98046875,16649.869140625,16678.69921875,16793.05078125,16820.900390625,16832.919921875,16830.7109375,16736.279296875,16982.2890625,17314.0,17330.380859375,17404.2109375,17499.30078125,17516.990234375,17421.009765625,17596.26953125,17476.7109375,17137.240234375,17344.7109375,17642.73046875,17613.0390625,17572.73046875,17755.0703125,17783.169921875,17962.41015625,17882.66015625,17600.419921875,17807.630859375,17845.720703125,17685.98046875,17546.099609375,17478.91015625,18004.69921875,17937.609375,17933.330078125,17971.05078125,17874.5,18043.849609375,18302.91015625,18226.48046875,17897.869140625,18017.5703125,18297.990234375,18018.44921875,17951.689453125,18219.109375,18068.470703125,18014.810546875,17808.25,17985.009765625,18032.19921875,18240.109375,18320.380859375,18339.439453125,18277.060546875,18210.5390625,18280.83984375,18254.689453125,18293.19921875,18121.779296875,18160.189453125,17878.779296875,18108.4609375,18100.189453125,18169.900390625,18011.66015625,18307.98046875],\"type\":\"scatter\"}],                        {\"template\":{\"data\":{\"histogram2dcontour\":[{\"type\":\"histogram2dcontour\",\"colorbar\":{\"outlinewidth\":0,\"ticks\":\"\"},\"colorscale\":[[0.0,\"#0d0887\"],[0.1111111111111111,\"#46039f\"],[0.2222222222222222,\"#7201a8\"],[0.3333333333333333,\"#9c179e\"],[0.4444444444444444,\"#bd3786\"],[0.5555555555555556,\"#d8576b\"],[0.6666666666666666,\"#ed7953\"],[0.7777777777777778,\"#fb9f3a\"],[0.8888888888888888,\"#fdca26\"],[1.0,\"#f0f921\"]]}],\"choropleth\":[{\"type\":\"choropleth\",\"colorbar\":{\"outlinewidth\":0,\"ticks\":\"\"}}],\"histogram2d\":[{\"type\":\"histogram2d\",\"colorbar\":{\"outlinewidth\":0,\"ticks\":\"\"},\"colorscale\":[[0.0,\"#0d0887\"],[0.1111111111111111,\"#46039f\"],[0.2222222222222222,\"#7201a8\"],[0.3333333333333333,\"#9c179e\"],[0.4444444444444444,\"#bd3786\"],[0.5555555555555556,\"#d8576b\"],[0.6666666666666666,\"#ed7953\"],[0.7777777777777778,\"#fb9f3a\"],[0.8888888888888888,\"#fdca26\"],[1.0,\"#f0f921\"]]}],\"heatmap\":[{\"type\":\"heatmap\",\"colorbar\":{\"outlinewidth\":0,\"ticks\":\"\"},\"colorscale\":[[0.0,\"#0d0887\"],[0.1111111111111111,\"#46039f\"],[0.2222222222222222,\"#7201a8\"],[0.3333333333333333,\"#9c179e\"],[0.4444444444444444,\"#bd3786\"],[0.5555555555555556,\"#d8576b\"],[0.6666666666666666,\"#ed7953\"],[0.7777777777777778,\"#fb9f3a\"],[0.8888888888888888,\"#fdca26\"],[1.0,\"#f0f921\"]]}],\"heatmapgl\":[{\"type\":\"heatmapgl\",\"colorbar\":{\"outlinewidth\":0,\"ticks\":\"\"},\"colorscale\":[[0.0,\"#0d0887\"],[0.1111111111111111,\"#46039f\"],[0.2222222222222222,\"#7201a8\"],[0.3333333333333333,\"#9c179e\"],[0.4444444444444444,\"#bd3786\"],[0.5555555555555556,\"#d8576b\"],[0.6666666666666666,\"#ed7953\"],[0.7777777777777778,\"#fb9f3a\"],[0.8888888888888888,\"#fdca26\"],[1.0,\"#f0f921\"]]}],\"contourcarpet\":[{\"type\":\"contourcarpet\",\"colorbar\":{\"outlinewidth\":0,\"ticks\":\"\"}}],\"contour\":[{\"type\":\"contour\",\"colorbar\":{\"outlinewidth\":0,\"ticks\":\"\"},\"colorscale\":[[0.0,\"#0d0887\"],[0.1111111111111111,\"#46039f\"],[0.2222222222222222,\"#7201a8\"],[0.3333333333333333,\"#9c179e\"],[0.4444444444444444,\"#bd3786\"],[0.5555555555555556,\"#d8576b\"],[0.6666666666666666,\"#ed7953\"],[0.7777777777777778,\"#fb9f3a\"],[0.8888888888888888,\"#fdca26\"],[1.0,\"#f0f921\"]]}],\"surface\":[{\"type\":\"surface\",\"colorbar\":{\"outlinewidth\":0,\"ticks\":\"\"},\"colorscale\":[[0.0,\"#0d0887\"],[0.1111111111111111,\"#46039f\"],[0.2222222222222222,\"#7201a8\"],[0.3333333333333333,\"#9c179e\"],[0.4444444444444444,\"#bd3786\"],[0.5555555555555556,\"#d8576b\"],[0.6666666666666666,\"#ed7953\"],[0.7777777777777778,\"#fb9f3a\"],[0.8888888888888888,\"#fdca26\"],[1.0,\"#f0f921\"]]}],\"mesh3d\":[{\"type\":\"mesh3d\",\"colorbar\":{\"outlinewidth\":0,\"ticks\":\"\"}}],\"scatter\":[{\"fillpattern\":{\"fillmode\":\"overlay\",\"size\":10,\"solidity\":0.2},\"type\":\"scatter\"}],\"parcoords\":[{\"type\":\"parcoords\",\"line\":{\"colorbar\":{\"outlinewidth\":0,\"ticks\":\"\"}}}],\"scatterpolargl\":[{\"type\":\"scatterpolargl\",\"marker\":{\"colorbar\":{\"outlinewidth\":0,\"ticks\":\"\"}}}],\"bar\":[{\"error_x\":{\"color\":\"#2a3f5f\"},\"error_y\":{\"color\":\"#2a3f5f\"},\"marker\":{\"line\":{\"color\":\"#E5ECF6\",\"width\":0.5},\"pattern\":{\"fillmode\":\"overlay\",\"size\":10,\"solidity\":0.2}},\"type\":\"bar\"}],\"scattergeo\":[{\"type\":\"scattergeo\",\"marker\":{\"colorbar\":{\"outlinewidth\":0,\"ticks\":\"\"}}}],\"scatterpolar\":[{\"type\":\"scatterpolar\",\"marker\":{\"colorbar\":{\"outlinewidth\":0,\"ticks\":\"\"}}}],\"histogram\":[{\"marker\":{\"pattern\":{\"fillmode\":\"overlay\",\"size\":10,\"solidity\":0.2}},\"type\":\"histogram\"}],\"scattergl\":[{\"type\":\"scattergl\",\"marker\":{\"colorbar\":{\"outlinewidth\":0,\"ticks\":\"\"}}}],\"scatter3d\":[{\"type\":\"scatter3d\",\"line\":{\"colorbar\":{\"outlinewidth\":0,\"ticks\":\"\"}},\"marker\":{\"colorbar\":{\"outlinewidth\":0,\"ticks\":\"\"}}}],\"scattermapbox\":[{\"type\":\"scattermapbox\",\"marker\":{\"colorbar\":{\"outlinewidth\":0,\"ticks\":\"\"}}}],\"scatterternary\":[{\"type\":\"scatterternary\",\"marker\":{\"colorbar\":{\"outlinewidth\":0,\"ticks\":\"\"}}}],\"scattercarpet\":[{\"type\":\"scattercarpet\",\"marker\":{\"colorbar\":{\"outlinewidth\":0,\"ticks\":\"\"}}}],\"carpet\":[{\"aaxis\":{\"endlinecolor\":\"#2a3f5f\",\"gridcolor\":\"white\",\"linecolor\":\"white\",\"minorgridcolor\":\"white\",\"startlinecolor\":\"#2a3f5f\"},\"baxis\":{\"endlinecolor\":\"#2a3f5f\",\"gridcolor\":\"white\",\"linecolor\":\"white\",\"minorgridcolor\":\"white\",\"startlinecolor\":\"#2a3f5f\"},\"type\":\"carpet\"}],\"table\":[{\"cells\":{\"fill\":{\"color\":\"#EBF0F8\"},\"line\":{\"color\":\"white\"}},\"header\":{\"fill\":{\"color\":\"#C8D4E3\"},\"line\":{\"color\":\"white\"}},\"type\":\"table\"}],\"barpolar\":[{\"marker\":{\"line\":{\"color\":\"#E5ECF6\",\"width\":0.5},\"pattern\":{\"fillmode\":\"overlay\",\"size\":10,\"solidity\":0.2}},\"type\":\"barpolar\"}],\"pie\":[{\"automargin\":true,\"type\":\"pie\"}]},\"layout\":{\"autotypenumbers\":\"strict\",\"colorway\":[\"#636efa\",\"#EF553B\",\"#00cc96\",\"#ab63fa\",\"#FFA15A\",\"#19d3f3\",\"#FF6692\",\"#B6E880\",\"#FF97FF\",\"#FECB52\"],\"font\":{\"color\":\"#2a3f5f\"},\"hovermode\":\"closest\",\"hoverlabel\":{\"align\":\"left\"},\"paper_bgcolor\":\"white\",\"plot_bgcolor\":\"#E5ECF6\",\"polar\":{\"bgcolor\":\"#E5ECF6\",\"angularaxis\":{\"gridcolor\":\"white\",\"linecolor\":\"white\",\"ticks\":\"\"},\"radialaxis\":{\"gridcolor\":\"white\",\"linecolor\":\"white\",\"ticks\":\"\"}},\"ternary\":{\"bgcolor\":\"#E5ECF6\",\"aaxis\":{\"gridcolor\":\"white\",\"linecolor\":\"white\",\"ticks\":\"\"},\"baxis\":{\"gridcolor\":\"white\",\"linecolor\":\"white\",\"ticks\":\"\"},\"caxis\":{\"gridcolor\":\"white\",\"linecolor\":\"white\",\"ticks\":\"\"}},\"coloraxis\":{\"colorbar\":{\"outlinewidth\":0,\"ticks\":\"\"}},\"colorscale\":{\"sequential\":[[0.0,\"#0d0887\"],[0.1111111111111111,\"#46039f\"],[0.2222222222222222,\"#7201a8\"],[0.3333333333333333,\"#9c179e\"],[0.4444444444444444,\"#bd3786\"],[0.5555555555555556,\"#d8576b\"],[0.6666666666666666,\"#ed7953\"],[0.7777777777777778,\"#fb9f3a\"],[0.8888888888888888,\"#fdca26\"],[1.0,\"#f0f921\"]],\"sequentialminus\":[[0.0,\"#0d0887\"],[0.1111111111111111,\"#46039f\"],[0.2222222222222222,\"#7201a8\"],[0.3333333333333333,\"#9c179e\"],[0.4444444444444444,\"#bd3786\"],[0.5555555555555556,\"#d8576b\"],[0.6666666666666666,\"#ed7953\"],[0.7777777777777778,\"#fb9f3a\"],[0.8888888888888888,\"#fdca26\"],[1.0,\"#f0f921\"]],\"diverging\":[[0,\"#8e0152\"],[0.1,\"#c51b7d\"],[0.2,\"#de77ae\"],[0.3,\"#f1b6da\"],[0.4,\"#fde0ef\"],[0.5,\"#f7f7f7\"],[0.6,\"#e6f5d0\"],[0.7,\"#b8e186\"],[0.8,\"#7fbc41\"],[0.9,\"#4d9221\"],[1,\"#276419\"]]},\"xaxis\":{\"gridcolor\":\"white\",\"linecolor\":\"white\",\"ticks\":\"\",\"title\":{\"standoff\":15},\"zerolinecolor\":\"white\",\"automargin\":true,\"zerolinewidth\":2},\"yaxis\":{\"gridcolor\":\"white\",\"linecolor\":\"white\",\"ticks\":\"\",\"title\":{\"standoff\":15},\"zerolinecolor\":\"white\",\"automargin\":true,\"zerolinewidth\":2},\"scene\":{\"xaxis\":{\"backgroundcolor\":\"#E5ECF6\",\"gridcolor\":\"white\",\"linecolor\":\"white\",\"showbackground\":true,\"ticks\":\"\",\"zerolinecolor\":\"white\",\"gridwidth\":2},\"yaxis\":{\"backgroundcolor\":\"#E5ECF6\",\"gridcolor\":\"white\",\"linecolor\":\"white\",\"showbackground\":true,\"ticks\":\"\",\"zerolinecolor\":\"white\",\"gridwidth\":2},\"zaxis\":{\"backgroundcolor\":\"#E5ECF6\",\"gridcolor\":\"white\",\"linecolor\":\"white\",\"showbackground\":true,\"ticks\":\"\",\"zerolinecolor\":\"white\",\"gridwidth\":2}},\"shapedefaults\":{\"line\":{\"color\":\"#2a3f5f\"}},\"annotationdefaults\":{\"arrowcolor\":\"#2a3f5f\",\"arrowhead\":0,\"arrowwidth\":1},\"geo\":{\"bgcolor\":\"white\",\"landcolor\":\"#E5ECF6\",\"subunitcolor\":\"white\",\"showland\":true,\"showlakes\":true,\"lakecolor\":\"white\"},\"title\":{\"x\":0.05},\"mapbox\":{\"style\":\"light\"}}},\"shapes\":[{\"fillcolor\":\"red\",\"layer\":\"below\",\"line\":{\"color\":\"red\",\"width\":0},\"opacity\":0.3,\"type\":\"rect\",\"x0\":\"2024-01-02T00:00:00\",\"x1\":\"2024-01-03T00:00:00\",\"y0\":16282.009765625,\"y1\":18339.439453125},{\"fillcolor\":\"red\",\"layer\":\"below\",\"line\":{\"color\":\"red\",\"width\":0},\"opacity\":0.3,\"type\":\"rect\",\"x0\":\"2024-01-03T00:00:00\",\"x1\":\"2024-01-04T00:00:00\",\"y0\":16282.009765625,\"y1\":18339.439453125},{\"fillcolor\":\"green\",\"layer\":\"below\",\"line\":{\"color\":\"green\",\"width\":0},\"opacity\":0.3,\"type\":\"rect\",\"x0\":\"2024-01-04T00:00:00\",\"x1\":\"2024-01-05T00:00:00\",\"y0\":16282.009765625,\"y1\":18339.439453125},{\"fillcolor\":\"green\",\"layer\":\"below\",\"line\":{\"color\":\"green\",\"width\":0},\"opacity\":0.3,\"type\":\"rect\",\"x0\":\"2024-01-05T00:00:00\",\"x1\":\"2024-01-08T00:00:00\",\"y0\":16282.009765625,\"y1\":18339.439453125},{\"fillcolor\":\"green\",\"layer\":\"below\",\"line\":{\"color\":\"green\",\"width\":0},\"opacity\":0.3,\"type\":\"rect\",\"x0\":\"2024-01-08T00:00:00\",\"x1\":\"2024-01-09T00:00:00\",\"y0\":16282.009765625,\"y1\":18339.439453125},{\"fillcolor\":\"green\",\"layer\":\"below\",\"line\":{\"color\":\"green\",\"width\":0},\"opacity\":0.3,\"type\":\"rect\",\"x0\":\"2024-01-09T00:00:00\",\"x1\":\"2024-01-10T00:00:00\",\"y0\":16282.009765625,\"y1\":18339.439453125},{\"fillcolor\":\"green\",\"layer\":\"below\",\"line\":{\"color\":\"green\",\"width\":0},\"opacity\":0.3,\"type\":\"rect\",\"x0\":\"2024-01-10T00:00:00\",\"x1\":\"2024-01-11T00:00:00\",\"y0\":16282.009765625,\"y1\":18339.439453125},{\"fillcolor\":\"green\",\"layer\":\"below\",\"line\":{\"color\":\"green\",\"width\":0},\"opacity\":0.3,\"type\":\"rect\",\"x0\":\"2024-01-11T00:00:00\",\"x1\":\"2024-01-12T00:00:00\",\"y0\":16282.009765625,\"y1\":18339.439453125},{\"fillcolor\":\"red\",\"layer\":\"below\",\"line\":{\"color\":\"red\",\"width\":0},\"opacity\":0.3,\"type\":\"rect\",\"x0\":\"2024-01-12T00:00:00\",\"x1\":\"2024-01-16T00:00:00\",\"y0\":16282.009765625,\"y1\":18339.439453125},{\"fillcolor\":\"red\",\"layer\":\"below\",\"line\":{\"color\":\"red\",\"width\":0},\"opacity\":0.3,\"type\":\"rect\",\"x0\":\"2024-01-16T00:00:00\",\"x1\":\"2024-01-17T00:00:00\",\"y0\":16282.009765625,\"y1\":18339.439453125},{\"fillcolor\":\"green\",\"layer\":\"below\",\"line\":{\"color\":\"green\",\"width\":0},\"opacity\":0.3,\"type\":\"rect\",\"x0\":\"2024-01-17T00:00:00\",\"x1\":\"2024-01-18T00:00:00\",\"y0\":16282.009765625,\"y1\":18339.439453125},{\"fillcolor\":\"green\",\"layer\":\"below\",\"line\":{\"color\":\"green\",\"width\":0},\"opacity\":0.3,\"type\":\"rect\",\"x0\":\"2024-01-18T00:00:00\",\"x1\":\"2024-01-19T00:00:00\",\"y0\":16282.009765625,\"y1\":18339.439453125},{\"fillcolor\":\"green\",\"layer\":\"below\",\"line\":{\"color\":\"green\",\"width\":0},\"opacity\":0.3,\"type\":\"rect\",\"x0\":\"2024-01-19T00:00:00\",\"x1\":\"2024-01-22T00:00:00\",\"y0\":16282.009765625,\"y1\":18339.439453125},{\"fillcolor\":\"green\",\"layer\":\"below\",\"line\":{\"color\":\"green\",\"width\":0},\"opacity\":0.3,\"type\":\"rect\",\"x0\":\"2024-01-22T00:00:00\",\"x1\":\"2024-01-23T00:00:00\",\"y0\":16282.009765625,\"y1\":18339.439453125},{\"fillcolor\":\"green\",\"layer\":\"below\",\"line\":{\"color\":\"green\",\"width\":0},\"opacity\":0.3,\"type\":\"rect\",\"x0\":\"2024-01-23T00:00:00\",\"x1\":\"2024-01-24T00:00:00\",\"y0\":16282.009765625,\"y1\":18339.439453125},{\"fillcolor\":\"green\",\"layer\":\"below\",\"line\":{\"color\":\"green\",\"width\":0},\"opacity\":0.3,\"type\":\"rect\",\"x0\":\"2024-01-24T00:00:00\",\"x1\":\"2024-01-25T00:00:00\",\"y0\":16282.009765625,\"y1\":18339.439453125},{\"fillcolor\":\"red\",\"layer\":\"below\",\"line\":{\"color\":\"red\",\"width\":0},\"opacity\":0.3,\"type\":\"rect\",\"x0\":\"2024-01-25T00:00:00\",\"x1\":\"2024-01-26T00:00:00\",\"y0\":16282.009765625,\"y1\":18339.439453125},{\"fillcolor\":\"green\",\"layer\":\"below\",\"line\":{\"color\":\"green\",\"width\":0},\"opacity\":0.3,\"type\":\"rect\",\"x0\":\"2024-01-26T00:00:00\",\"x1\":\"2024-01-29T00:00:00\",\"y0\":16282.009765625,\"y1\":18339.439453125},{\"fillcolor\":\"red\",\"layer\":\"below\",\"line\":{\"color\":\"red\",\"width\":0},\"opacity\":0.3,\"type\":\"rect\",\"x0\":\"2024-01-29T00:00:00\",\"x1\":\"2024-01-30T00:00:00\",\"y0\":16282.009765625,\"y1\":18339.439453125},{\"fillcolor\":\"red\",\"layer\":\"below\",\"line\":{\"color\":\"red\",\"width\":0},\"opacity\":0.3,\"type\":\"rect\",\"x0\":\"2024-01-30T00:00:00\",\"x1\":\"2024-01-31T00:00:00\",\"y0\":16282.009765625,\"y1\":18339.439453125},{\"fillcolor\":\"green\",\"layer\":\"below\",\"line\":{\"color\":\"green\",\"width\":0},\"opacity\":0.3,\"type\":\"rect\",\"x0\":\"2024-01-31T00:00:00\",\"x1\":\"2024-02-01T00:00:00\",\"y0\":16282.009765625,\"y1\":18339.439453125},{\"fillcolor\":\"green\",\"layer\":\"below\",\"line\":{\"color\":\"green\",\"width\":0},\"opacity\":0.3,\"type\":\"rect\",\"x0\":\"2024-02-01T00:00:00\",\"x1\":\"2024-02-02T00:00:00\",\"y0\":16282.009765625,\"y1\":18339.439453125},{\"fillcolor\":\"red\",\"layer\":\"below\",\"line\":{\"color\":\"red\",\"width\":0},\"opacity\":0.3,\"type\":\"rect\",\"x0\":\"2024-02-02T00:00:00\",\"x1\":\"2024-02-05T00:00:00\",\"y0\":16282.009765625,\"y1\":18339.439453125},{\"fillcolor\":\"red\",\"layer\":\"below\",\"line\":{\"color\":\"red\",\"width\":0},\"opacity\":0.3,\"type\":\"rect\",\"x0\":\"2024-02-05T00:00:00\",\"x1\":\"2024-02-06T00:00:00\",\"y0\":16282.009765625,\"y1\":18339.439453125},{\"fillcolor\":\"green\",\"layer\":\"below\",\"line\":{\"color\":\"green\",\"width\":0},\"opacity\":0.3,\"type\":\"rect\",\"x0\":\"2024-02-06T00:00:00\",\"x1\":\"2024-02-07T00:00:00\",\"y0\":16282.009765625,\"y1\":18339.439453125},{\"fillcolor\":\"green\",\"layer\":\"below\",\"line\":{\"color\":\"green\",\"width\":0},\"opacity\":0.3,\"type\":\"rect\",\"x0\":\"2024-02-07T00:00:00\",\"x1\":\"2024-02-08T00:00:00\",\"y0\":16282.009765625,\"y1\":18339.439453125},{\"fillcolor\":\"green\",\"layer\":\"below\",\"line\":{\"color\":\"green\",\"width\":0},\"opacity\":0.3,\"type\":\"rect\",\"x0\":\"2024-02-08T00:00:00\",\"x1\":\"2024-02-09T00:00:00\",\"y0\":16282.009765625,\"y1\":18339.439453125},{\"fillcolor\":\"red\",\"layer\":\"below\",\"line\":{\"color\":\"red\",\"width\":0},\"opacity\":0.3,\"type\":\"rect\",\"x0\":\"2024-02-09T00:00:00\",\"x1\":\"2024-02-12T00:00:00\",\"y0\":16282.009765625,\"y1\":18339.439453125},{\"fillcolor\":\"red\",\"layer\":\"below\",\"line\":{\"color\":\"red\",\"width\":0},\"opacity\":0.3,\"type\":\"rect\",\"x0\":\"2024-02-12T00:00:00\",\"x1\":\"2024-02-13T00:00:00\",\"y0\":16282.009765625,\"y1\":18339.439453125},{\"fillcolor\":\"green\",\"layer\":\"below\",\"line\":{\"color\":\"green\",\"width\":0},\"opacity\":0.3,\"type\":\"rect\",\"x0\":\"2024-02-13T00:00:00\",\"x1\":\"2024-02-14T00:00:00\",\"y0\":16282.009765625,\"y1\":18339.439453125},{\"fillcolor\":\"green\",\"layer\":\"below\",\"line\":{\"color\":\"green\",\"width\":0},\"opacity\":0.3,\"type\":\"rect\",\"x0\":\"2024-02-14T00:00:00\",\"x1\":\"2024-02-15T00:00:00\",\"y0\":16282.009765625,\"y1\":18339.439453125},{\"fillcolor\":\"red\",\"layer\":\"below\",\"line\":{\"color\":\"red\",\"width\":0},\"opacity\":0.3,\"type\":\"rect\",\"x0\":\"2024-02-15T00:00:00\",\"x1\":\"2024-02-16T00:00:00\",\"y0\":16282.009765625,\"y1\":18339.439453125},{\"fillcolor\":\"red\",\"layer\":\"below\",\"line\":{\"color\":\"red\",\"width\":0},\"opacity\":0.3,\"type\":\"rect\",\"x0\":\"2024-02-16T00:00:00\",\"x1\":\"2024-02-20T00:00:00\",\"y0\":16282.009765625,\"y1\":18339.439453125},{\"fillcolor\":\"red\",\"layer\":\"below\",\"line\":{\"color\":\"red\",\"width\":0},\"opacity\":0.3,\"type\":\"rect\",\"x0\":\"2024-02-20T00:00:00\",\"x1\":\"2024-02-21T00:00:00\",\"y0\":16282.009765625,\"y1\":18339.439453125},{\"fillcolor\":\"green\",\"layer\":\"below\",\"line\":{\"color\":\"green\",\"width\":0},\"opacity\":0.3,\"type\":\"rect\",\"x0\":\"2024-02-21T00:00:00\",\"x1\":\"2024-02-22T00:00:00\",\"y0\":16282.009765625,\"y1\":18339.439453125},{\"fillcolor\":\"red\",\"layer\":\"below\",\"line\":{\"color\":\"red\",\"width\":0},\"opacity\":0.3,\"type\":\"rect\",\"x0\":\"2024-02-22T00:00:00\",\"x1\":\"2024-02-23T00:00:00\",\"y0\":16282.009765625,\"y1\":18339.439453125},{\"fillcolor\":\"red\",\"layer\":\"below\",\"line\":{\"color\":\"red\",\"width\":0},\"opacity\":0.3,\"type\":\"rect\",\"x0\":\"2024-02-23T00:00:00\",\"x1\":\"2024-02-26T00:00:00\",\"y0\":16282.009765625,\"y1\":18339.439453125},{\"fillcolor\":\"green\",\"layer\":\"below\",\"line\":{\"color\":\"green\",\"width\":0},\"opacity\":0.3,\"type\":\"rect\",\"x0\":\"2024-02-26T00:00:00\",\"x1\":\"2024-02-27T00:00:00\",\"y0\":16282.009765625,\"y1\":18339.439453125},{\"fillcolor\":\"red\",\"layer\":\"below\",\"line\":{\"color\":\"red\",\"width\":0},\"opacity\":0.3,\"type\":\"rect\",\"x0\":\"2024-02-27T00:00:00\",\"x1\":\"2024-02-28T00:00:00\",\"y0\":16282.009765625,\"y1\":18339.439453125},{\"fillcolor\":\"green\",\"layer\":\"below\",\"line\":{\"color\":\"green\",\"width\":0},\"opacity\":0.3,\"type\":\"rect\",\"x0\":\"2024-02-28T00:00:00\",\"x1\":\"2024-02-29T00:00:00\",\"y0\":16282.009765625,\"y1\":18339.439453125},{\"fillcolor\":\"green\",\"layer\":\"below\",\"line\":{\"color\":\"green\",\"width\":0},\"opacity\":0.3,\"type\":\"rect\",\"x0\":\"2024-02-29T00:00:00\",\"x1\":\"2024-03-01T00:00:00\",\"y0\":16282.009765625,\"y1\":18339.439453125},{\"fillcolor\":\"red\",\"layer\":\"below\",\"line\":{\"color\":\"red\",\"width\":0},\"opacity\":0.3,\"type\":\"rect\",\"x0\":\"2024-03-01T00:00:00\",\"x1\":\"2024-03-04T00:00:00\",\"y0\":16282.009765625,\"y1\":18339.439453125},{\"fillcolor\":\"red\",\"layer\":\"below\",\"line\":{\"color\":\"red\",\"width\":0},\"opacity\":0.3,\"type\":\"rect\",\"x0\":\"2024-03-04T00:00:00\",\"x1\":\"2024-03-05T00:00:00\",\"y0\":16282.009765625,\"y1\":18339.439453125},{\"fillcolor\":\"green\",\"layer\":\"below\",\"line\":{\"color\":\"green\",\"width\":0},\"opacity\":0.3,\"type\":\"rect\",\"x0\":\"2024-03-05T00:00:00\",\"x1\":\"2024-03-06T00:00:00\",\"y0\":16282.009765625,\"y1\":18339.439453125},{\"fillcolor\":\"green\",\"layer\":\"below\",\"line\":{\"color\":\"green\",\"width\":0},\"opacity\":0.3,\"type\":\"rect\",\"x0\":\"2024-03-06T00:00:00\",\"x1\":\"2024-03-07T00:00:00\",\"y0\":16282.009765625,\"y1\":18339.439453125},{\"fillcolor\":\"red\",\"layer\":\"below\",\"line\":{\"color\":\"red\",\"width\":0},\"opacity\":0.3,\"type\":\"rect\",\"x0\":\"2024-03-07T00:00:00\",\"x1\":\"2024-03-08T00:00:00\",\"y0\":16282.009765625,\"y1\":18339.439453125},{\"fillcolor\":\"red\",\"layer\":\"below\",\"line\":{\"color\":\"red\",\"width\":0},\"opacity\":0.3,\"type\":\"rect\",\"x0\":\"2024-03-08T00:00:00\",\"x1\":\"2024-03-11T00:00:00\",\"y0\":16282.009765625,\"y1\":18339.439453125},{\"fillcolor\":\"green\",\"layer\":\"below\",\"line\":{\"color\":\"green\",\"width\":0},\"opacity\":0.3,\"type\":\"rect\",\"x0\":\"2024-03-11T00:00:00\",\"x1\":\"2024-03-12T00:00:00\",\"y0\":16282.009765625,\"y1\":18339.439453125},{\"fillcolor\":\"red\",\"layer\":\"below\",\"line\":{\"color\":\"red\",\"width\":0},\"opacity\":0.3,\"type\":\"rect\",\"x0\":\"2024-03-12T00:00:00\",\"x1\":\"2024-03-13T00:00:00\",\"y0\":16282.009765625,\"y1\":18339.439453125},{\"fillcolor\":\"red\",\"layer\":\"below\",\"line\":{\"color\":\"red\",\"width\":0},\"opacity\":0.3,\"type\":\"rect\",\"x0\":\"2024-03-13T00:00:00\",\"x1\":\"2024-03-14T00:00:00\",\"y0\":16282.009765625,\"y1\":18339.439453125},{\"fillcolor\":\"red\",\"layer\":\"below\",\"line\":{\"color\":\"red\",\"width\":0},\"opacity\":0.3,\"type\":\"rect\",\"x0\":\"2024-03-14T00:00:00\",\"x1\":\"2024-03-15T00:00:00\",\"y0\":16282.009765625,\"y1\":18339.439453125},{\"fillcolor\":\"green\",\"layer\":\"below\",\"line\":{\"color\":\"green\",\"width\":0},\"opacity\":0.3,\"type\":\"rect\",\"x0\":\"2024-03-15T00:00:00\",\"x1\":\"2024-03-18T00:00:00\",\"y0\":16282.009765625,\"y1\":18339.439453125},{\"fillcolor\":\"green\",\"layer\":\"below\",\"line\":{\"color\":\"green\",\"width\":0},\"opacity\":0.3,\"type\":\"rect\",\"x0\":\"2024-03-18T00:00:00\",\"x1\":\"2024-03-19T00:00:00\",\"y0\":16282.009765625,\"y1\":18339.439453125},{\"fillcolor\":\"green\",\"layer\":\"below\",\"line\":{\"color\":\"green\",\"width\":0},\"opacity\":0.3,\"type\":\"rect\",\"x0\":\"2024-03-19T00:00:00\",\"x1\":\"2024-03-20T00:00:00\",\"y0\":16282.009765625,\"y1\":18339.439453125},{\"fillcolor\":\"green\",\"layer\":\"below\",\"line\":{\"color\":\"green\",\"width\":0},\"opacity\":0.3,\"type\":\"rect\",\"x0\":\"2024-03-20T00:00:00\",\"x1\":\"2024-03-21T00:00:00\",\"y0\":16282.009765625,\"y1\":18339.439453125},{\"fillcolor\":\"green\",\"layer\":\"below\",\"line\":{\"color\":\"green\",\"width\":0},\"opacity\":0.3,\"type\":\"rect\",\"x0\":\"2024-03-21T00:00:00\",\"x1\":\"2024-03-22T00:00:00\",\"y0\":16282.009765625,\"y1\":18339.439453125},{\"fillcolor\":\"red\",\"layer\":\"below\",\"line\":{\"color\":\"red\",\"width\":0},\"opacity\":0.3,\"type\":\"rect\",\"x0\":\"2024-03-22T00:00:00\",\"x1\":\"2024-03-25T00:00:00\",\"y0\":16282.009765625,\"y1\":18339.439453125},{\"fillcolor\":\"red\",\"layer\":\"below\",\"line\":{\"color\":\"red\",\"width\":0},\"opacity\":0.3,\"type\":\"rect\",\"x0\":\"2024-03-25T00:00:00\",\"x1\":\"2024-03-26T00:00:00\",\"y0\":16282.009765625,\"y1\":18339.439453125},{\"fillcolor\":\"green\",\"layer\":\"below\",\"line\":{\"color\":\"green\",\"width\":0},\"opacity\":0.3,\"type\":\"rect\",\"x0\":\"2024-03-26T00:00:00\",\"x1\":\"2024-03-27T00:00:00\",\"y0\":16282.009765625,\"y1\":18339.439453125},{\"fillcolor\":\"red\",\"layer\":\"below\",\"line\":{\"color\":\"red\",\"width\":0},\"opacity\":0.3,\"type\":\"rect\",\"x0\":\"2024-03-27T00:00:00\",\"x1\":\"2024-03-28T00:00:00\",\"y0\":16282.009765625,\"y1\":18339.439453125},{\"fillcolor\":\"green\",\"layer\":\"below\",\"line\":{\"color\":\"green\",\"width\":0},\"opacity\":0.3,\"type\":\"rect\",\"x0\":\"2024-03-28T00:00:00\",\"x1\":\"2024-04-01T00:00:00\",\"y0\":16282.009765625,\"y1\":18339.439453125},{\"fillcolor\":\"red\",\"layer\":\"below\",\"line\":{\"color\":\"red\",\"width\":0},\"opacity\":0.3,\"type\":\"rect\",\"x0\":\"2024-04-01T00:00:00\",\"x1\":\"2024-04-02T00:00:00\",\"y0\":16282.009765625,\"y1\":18339.439453125},{\"fillcolor\":\"green\",\"layer\":\"below\",\"line\":{\"color\":\"green\",\"width\":0},\"opacity\":0.3,\"type\":\"rect\",\"x0\":\"2024-04-02T00:00:00\",\"x1\":\"2024-04-03T00:00:00\",\"y0\":16282.009765625,\"y1\":18339.439453125},{\"fillcolor\":\"red\",\"layer\":\"below\",\"line\":{\"color\":\"red\",\"width\":0},\"opacity\":0.3,\"type\":\"rect\",\"x0\":\"2024-04-03T00:00:00\",\"x1\":\"2024-04-04T00:00:00\",\"y0\":16282.009765625,\"y1\":18339.439453125},{\"fillcolor\":\"green\",\"layer\":\"below\",\"line\":{\"color\":\"green\",\"width\":0},\"opacity\":0.3,\"type\":\"rect\",\"x0\":\"2024-04-04T00:00:00\",\"x1\":\"2024-04-05T00:00:00\",\"y0\":16282.009765625,\"y1\":18339.439453125},{\"fillcolor\":\"red\",\"layer\":\"below\",\"line\":{\"color\":\"red\",\"width\":0},\"opacity\":0.3,\"type\":\"rect\",\"x0\":\"2024-04-05T00:00:00\",\"x1\":\"2024-04-08T00:00:00\",\"y0\":16282.009765625,\"y1\":18339.439453125},{\"fillcolor\":\"green\",\"layer\":\"below\",\"line\":{\"color\":\"green\",\"width\":0},\"opacity\":0.3,\"type\":\"rect\",\"x0\":\"2024-04-08T00:00:00\",\"x1\":\"2024-04-09T00:00:00\",\"y0\":16282.009765625,\"y1\":18339.439453125},{\"fillcolor\":\"red\",\"layer\":\"below\",\"line\":{\"color\":\"red\",\"width\":0},\"opacity\":0.3,\"type\":\"rect\",\"x0\":\"2024-04-09T00:00:00\",\"x1\":\"2024-04-10T00:00:00\",\"y0\":16282.009765625,\"y1\":18339.439453125},{\"fillcolor\":\"green\",\"layer\":\"below\",\"line\":{\"color\":\"green\",\"width\":0},\"opacity\":0.3,\"type\":\"rect\",\"x0\":\"2024-04-10T00:00:00\",\"x1\":\"2024-04-11T00:00:00\",\"y0\":16282.009765625,\"y1\":18339.439453125}],\"title\":{\"text\":\"Gr\\u00e1fico del \\u00edndice NASDAQ-100 con identificaci\\u00f3n de tendencia\"}},                        {\"responsive\": true}                    ).then(function(){\n",
       "                            \n",
       "var gd = document.getElementById('2f0753df-1e8f-4ff2-8507-480283a12c28');\n",
       "var x = new MutationObserver(function (mutations, observer) {{\n",
       "        var display = window.getComputedStyle(gd).display;\n",
       "        if (!display || display === 'none') {{\n",
       "            console.log([gd, 'removed!']);\n",
       "            Plotly.purge(gd);\n",
       "            observer.disconnect();\n",
       "        }}\n",
       "}});\n",
       "\n",
       "// Listen for the removal of the full notebook cells\n",
       "var notebookContainer = gd.closest('#notebook-container');\n",
       "if (notebookContainer) {{\n",
       "    x.observe(notebookContainer, {childList: true});\n",
       "}}\n",
       "\n",
       "// Listen for the clearing of the current output cell\n",
       "var outputEl = gd.closest('.output');\n",
       "if (outputEl) {{\n",
       "    x.observe(outputEl, {childList: true});\n",
       "}}\n",
       "\n",
       "                        })                };                });            </script>        </div>"
      ]
     },
     "metadata": {},
     "output_type": "display_data"
    }
   ],
   "source": [
    "import datetime\n",
    "import plotly.graph_objects as go\n",
    "import yfinance as yf\n",
    "\n",
    "# Importar los datos financieros del índice NASDAQ-100\n",
    "nasdaq_100 = yf.download(\"^NDX\", start=\"2024-01-01\", end=datetime.datetime.now())\n",
    "\n",
    "# Mostrar los últimos datos descargados\n",
    "print(\"Últimos datos descargados del índice NASDAQ-100:\")\n",
    "print(nasdaq_100.tail())\n",
    "\n",
    "# Función para identificar la tendencia\n",
    "def identificar_tendencia(data):\n",
    "    tendencia = []\n",
    "    for i in range(1, len(data)):\n",
    "        if data['Close'][i] > data['Close'][i-1]:\n",
    "            tendencia.append(\"subida\")\n",
    "        elif data['Close'][i] < data['Close'][i-1]:\n",
    "            tendencia.append(\"bajada\")\n",
    "        else:\n",
    "            tendencia.append(\"sin cambios\")\n",
    "    return tendencia\n",
    "\n",
    "# Identificar la tendencia del índice NASDAQ-100\n",
    "tendencia = identificar_tendencia(nasdaq_100)\n",
    "\n",
    "# Crear una figura para el gráfico\n",
    "fig = go.Figure()\n",
    "\n",
    "# Agregar la serie de tiempo de cierre al gráfico\n",
    "fig.add_trace(go.Scatter(x=nasdaq_100.index, y=nasdaq_100['Close'], mode='lines', name='Cierre'))\n",
    "\n",
    "# Resaltar los períodos de subida y bajada en el gráfico\n",
    "for i in range(1, len(nasdaq_100)):\n",
    "    if tendencia[i-1] == \"subida\":\n",
    "        fig.add_shape(type=\"rect\", x0=nasdaq_100.index[i-1], y0=min(nasdaq_100['Close']), x1=nasdaq_100.index[i], y1=max(nasdaq_100['Close']),\n",
    "                      line=dict(color=\"green\", width=0), fillcolor=\"green\", opacity=0.3, layer=\"below\")\n",
    "    elif tendencia[i-1] == \"bajada\":\n",
    "        fig.add_shape(type=\"rect\", x0=nasdaq_100.index[i-1], y0=min(nasdaq_100['Close']), x1=nasdaq_100.index[i], y1=max(nasdaq_100['Close']),\n",
    "                      line=dict(color=\"red\", width=0), fillcolor=\"red\", opacity=0.3, layer=\"below\")\n",
    "\n",
    "# Agregar un título al gráfico\n",
    "fig.update_layout(title_text=\"Gráfico del índice NASDAQ-100 con identificación de tendencia\")\n",
    "\n",
    "# Mostrar el gráfico\n",
    "fig.show()\n"
   ]
  },
  {
   "cell_type": "code",
   "execution_count": 13,
   "id": "c05afb46-c138-43a0-b655-0bb495113b3f",
   "metadata": {},
   "outputs": [
    {
     "name": "stderr",
     "output_type": "stream",
     "text": [
      "[*********************100%%**********************]  1 of 1 completed\n"
     ]
    },
    {
     "name": "stdout",
     "output_type": "stream",
     "text": [
      "Random Forest MSE: 0.009697389338240716\n",
      "Predicción de la tendencia con Random Forest: Bajará\n",
      "Linear Regression MSE: 0.0034734693654823925\n",
      "Predicción de la tendencia con Linear Regression: Subirá\n",
      "SVR MSE: 0.03432325262826855\n",
      "Predicción de la tendencia con SVR: Subirá\n",
      "KNeighbors MSE: 0.016150030891986668\n",
      "Predicción de la tendencia con KNeighbors: Subirá\n",
      "Decision Tree MSE: 0.01300804830371376\n",
      "Predicción de la tendencia con Decision Tree: Subirá\n",
      "Gradient Boosting MSE: 0.009497790610264909\n",
      "Predicción de la tendencia con Gradient Boosting: Subirá\n"
     ]
    }
   ],
   "source": [
    "import numpy as np\n",
    "import pandas as pd\n",
    "import yfinance as yf\n",
    "from sklearn.preprocessing import MinMaxScaler\n",
    "from sklearn.ensemble import RandomForestRegressor, GradientBoostingRegressor\n",
    "from sklearn.svm import SVR\n",
    "from sklearn.linear_model import LinearRegression\n",
    "from sklearn.neighbors import KNeighborsRegressor\n",
    "from sklearn.tree import DecisionTreeRegressor\n",
    "from sklearn.metrics import mean_squared_error\n",
    "\n",
    "# Obtener datos históricos de precios del índice AUS200\n",
    "data = yf.download(\"^AXJO\", start=\"2023-01-01\", end=\"2024-01-01\")\n",
    "\n",
    "# Preprocesamiento de datos\n",
    "scaler = MinMaxScaler(feature_range=(0, 1))\n",
    "scaled_data = scaler.fit_transform(data['Close'].values.reshape(-1,1))\n",
    "\n",
    "# Crear secuencias de datos\n",
    "def create_sequences(data, sequence_length):\n",
    "    X, y = [], []\n",
    "    for i in range(len(data) - sequence_length):\n",
    "        X.append(data[i:i+sequence_length, 0])\n",
    "        y.append(data[i+sequence_length, 0])\n",
    "    return np.array(X), np.array(y)\n",
    "\n",
    "sequence_length = 10\n",
    "X, y = create_sequences(scaled_data, sequence_length)\n",
    "\n",
    "# Dividir datos en conjuntos de entrenamiento y prueba\n",
    "split = int(0.8 * len(X))\n",
    "X_train, X_test = X[:split], X[split:]\n",
    "y_train, y_test = y[:split], y[split:]\n",
    "\n",
    "# Agregar modelos de regresión\n",
    "models = {\n",
    "    \"Random Forest\": RandomForestRegressor(random_state=42),\n",
    "    \"Linear Regression\": LinearRegression(),\n",
    "    \"SVR\": SVR(),\n",
    "    \"KNeighbors\": KNeighborsRegressor(),\n",
    "    \"Decision Tree\": DecisionTreeRegressor(random_state=42),\n",
    "    \"Gradient Boosting\": GradientBoostingRegressor(random_state=42)\n",
    "}\n",
    "\n",
    "# Entrenar y evaluar modelos de regresión\n",
    "for name, model in models.items():\n",
    "    model.fit(X_train, y_train)\n",
    "    y_pred = model.predict(X_test)\n",
    "    mse = mean_squared_error(y_test, y_pred)\n",
    "    print(f\"{name} MSE: {mse}\")\n",
    "\n",
    "    # Predicción de la tendencia\n",
    "    trend_prediction = \"Subirá\" if y_pred[-1] > y_pred[-2] else \"Bajará\"\n",
    "    print(f\"Predicción de la tendencia con {name}: {trend_prediction}\")\n"
   ]
  },
  {
   "cell_type": "code",
   "execution_count": 14,
   "id": "1e349348-b133-4366-bed9-75f8b6bc671a",
   "metadata": {},
   "outputs": [
    {
     "name": "stderr",
     "output_type": "stream",
     "text": [
      "[*********************100%%**********************]  1 of 1 completed\n"
     ]
    },
    {
     "name": "stdout",
     "output_type": "stream",
     "text": [
      "Accuracy: 0.5925925925925926\n"
     ]
    }
   ],
   "source": [
    "import numpy as np\n",
    "import pandas as pd\n",
    "import yfinance as yf\n",
    "from sklearn.preprocessing import MinMaxScaler\n",
    "from sklearn.ensemble import RandomForestClassifier\n",
    "from sklearn.metrics import accuracy_score\n",
    "from sklearn.model_selection import train_test_split\n",
    "\n",
    "# Obtener datos históricos de precios del índice NASDAQ-100\n",
    "nasdaq_100 = yf.download(\"^NDX\", start=\"2023-10-01\", end=\"2024-04-12\")\n",
    "\n",
    "# Calcular la variación del precio con respecto al periodo anterior\n",
    "nasdaq_100['Price_Change'] = nasdaq_100['Close'].diff()\n",
    "\n",
    "# Definir la variable objetivo (tendencia)\n",
    "nasdaq_100['Trend'] = np.where(nasdaq_100['Price_Change'] > 0, 1, 0)\n",
    "\n",
    "# Seleccionar características relevantes\n",
    "features = ['Open', 'High', 'Low', 'Close', 'Volume']\n",
    "\n",
    "# Normalizar los datos\n",
    "scaler = MinMaxScaler()\n",
    "nasdaq_100[features] = scaler.fit_transform(nasdaq_100[features])\n",
    "\n",
    "# Definir las variables predictoras (X) y la variable objetivo (y)\n",
    "X = nasdaq_100[features]\n",
    "y = nasdaq_100['Trend']\n",
    "\n",
    "# Dividir los datos en conjuntos de entrenamiento y prueba\n",
    "X_train, X_test, y_train, y_test = train_test_split(X, y, test_size=0.2, random_state=42)\n",
    "\n",
    "# Entrenar modelo de clasificación aleatoria\n",
    "model = RandomForestClassifier(random_state=42)\n",
    "model.fit(X_train, y_train)\n",
    "\n",
    "# Realizar predicciones\n",
    "y_pred = model.predict(X_test)\n",
    "\n",
    "# Calcular la precisión del modelo\n",
    "accuracy = accuracy_score(y_test, y_pred)\n",
    "print(\"Accuracy:\", accuracy)\n"
   ]
  },
  {
   "cell_type": "code",
   "execution_count": 27,
   "id": "e850f548-34a6-4024-8baf-29a01db186b1",
   "metadata": {},
   "outputs": [
    {
     "name": "stderr",
     "output_type": "stream",
     "text": [
      "[*********************100%%**********************]  1 of 1 completed\n",
      "/tmp/ipykernel_23034/2869652031.py:16: FutureWarning:\n",
      "\n",
      "Series.__getitem__ treating keys as positions is deprecated. In a future version, integer keys will always be treated as labels (consistent with DataFrame behavior). To access a value by position, use `ser.iloc[pos]`\n",
      "\n",
      "/tmp/ipykernel_23034/2869652031.py:17: FutureWarning:\n",
      "\n",
      "Series.__getitem__ treating keys as positions is deprecated. In a future version, integer keys will always be treated as labels (consistent with DataFrame behavior). To access a value by position, use `ser.iloc[pos]`\n",
      "\n"
     ]
    },
    {
     "name": "stdout",
     "output_type": "stream",
     "text": [
      "Últimos datos descargados del NAS30:\n",
      "                    Open          High           Low         Close  \\\n",
      "Date                                                                 \n",
      "2024-04-05  17940.279297  18202.960938  17912.859375  18108.460938   \n",
      "2024-04-08  18130.439453  18178.660156  18050.689453  18100.189453   \n",
      "2024-04-09  18188.869141  18210.019531  17973.070312  18169.900391   \n",
      "2024-04-10  17957.960938  18040.830078  17932.419922  18011.660156   \n",
      "2024-04-11  18085.109375  18337.150391  17998.250000  18307.980469   \n",
      "\n",
      "               Adj Close      Volume  \n",
      "Date                                  \n",
      "2024-04-05  18108.460938  4578130000  \n",
      "2024-04-08  18100.189453  4386700000  \n",
      "2024-04-09  18169.900391  4869190000  \n",
      "2024-04-10  18011.660156  5308250000  \n",
      "2024-04-11  18307.980469  4714750000  \n"
     ]
    },
    {
     "data": {
      "application/vnd.plotly.v1+json": {
       "config": {
        "plotlyServerURL": "https://plot.ly"
       },
       "data": [
        {
         "close": [
          15172.73046875,
          15122.009765625,
          14909.259765625,
          14783.1298828125,
          14560.8798828125,
          14604.849609375,
          14745.8603515625,
          14381.6396484375,
          14109.5703125,
          14180.419921875,
          14335.509765625,
          14409.7802734375,
          14664.91015625,
          14919.5498046875,
          15099.490234375,
          15154.9296875,
          15296.01953125,
          15313.240234375,
          15187.900390625,
          15529.1201171875,
          15482.7900390625,
          15812.4697265625,
          15817.1796875,
          15833.169921875,
          15837.990234375,
          16027.0595703125,
          15933.6201171875,
          16001.3896484375,
          15982.009765625,
          15961.98046875,
          16010.4296875,
          15987.599609375,
          15947.8701171875,
          15997.580078125,
          15839.669921875,
          15877.7099609375,
          15788.0498046875,
          16022.490234375,
          16084.6904296875,
          16221.73046875,
          16354.25,
          16562.369140625,
          16537.830078125,
          16623.44921875,
          16729.80078125,
          16811.849609375,
          16554.16015625,
          16757.41015625,
          16777.400390625,
          16878.4609375,
          16906.80078125,
          16898.470703125,
          16825.9296875,
          16543.939453125,
          16368.490234375,
          16282.009765625,
          16305.98046875,
          16649.869140625,
          16678.69921875,
          16793.05078125,
          16820.900390625,
          16832.919921875,
          16830.7109375,
          16736.279296875,
          16982.2890625,
          17314,
          17330.380859375,
          17404.2109375,
          17499.30078125,
          17516.990234375,
          17421.009765625,
          17596.26953125,
          17476.7109375,
          17137.240234375,
          17344.7109375,
          17642.73046875,
          17613.0390625,
          17572.73046875,
          17755.0703125,
          17783.169921875,
          17962.41015625,
          17882.66015625,
          17600.419921875,
          17807.630859375,
          17845.720703125,
          17685.98046875,
          17546.099609375,
          17478.91015625,
          18004.69921875,
          17937.609375,
          17933.330078125,
          17971.05078125,
          17874.5,
          18043.849609375,
          18302.91015625,
          18226.48046875,
          17897.869140625,
          18017.5703125,
          18297.990234375,
          18018.44921875,
          17951.689453125,
          18219.109375,
          18068.470703125,
          18014.810546875,
          17808.25,
          17985.009765625,
          18032.19921875,
          18240.109375,
          18320.380859375,
          18339.439453125,
          18277.060546875,
          18210.5390625,
          18280.83984375,
          18254.689453125,
          18293.19921875,
          18121.779296875,
          18160.189453125,
          17878.779296875,
          18108.4609375,
          18100.189453125,
          18169.900390625,
          18011.66015625,
          18307.98046875
         ],
         "decreasing": {
          "line": {
           "color": "red"
          }
         },
         "high": [
          15209.5,
          15187.0595703125,
          15103.8701171875,
          15023.91015625,
          14781.2197265625,
          14746.3701171875,
          14774.16015625,
          14643.6904296875,
          14372.509765625,
          14321.0400390625,
          14388.2001953125,
          14420.4404296875,
          14677.8603515625,
          14930.759765625,
          15149.7802734375,
          15180.1904296875,
          15335.4404296875,
          15343.1904296875,
          15382.1103515625,
          15535.2001953125,
          15524.66015625,
          15850.33984375,
          15904.6298828125,
          15842.6298828125,
          15876.8701171875,
          16056.759765625,
          15968.08984375,
          16119.3095703125,
          16007.4296875,
          16045.2998046875,
          16031.51953125,
          16166.509765625,
          16013.48046875,
          16013.75,
          15852.4501953125,
          15931.83984375,
          15990.9404296875,
          16042.509765625,
          16100.8603515625,
          16232.259765625,
          16354.25,
          16581.0390625,
          16660.7109375,
          16669.76953125,
          16764.3203125,
          16813.009765625,
          16860.6796875,
          16768.01953125,
          16839.25,
          16907.509765625,
          16922.009765625,
          16969.169921875,
          16919.509765625,
          16686.599609375,
          16471.080078125,
          16419.439453125,
          16415.390625,
          16655.23046875,
          16710.880859375,
          16827.369140625,
          16898.16015625,
          16900.369140625,
          16895.330078125,
          16749.109375,
          16996.98046875,
          17317.2109375,
          17450.30078125,
          17410.859375,
          17665.259765625,
          17631.33984375,
          17514.759765625,
          17603.94921875,
          17578.4609375,
          17375.3203125,
          17356.759765625,
          17682.2890625,
          17655.76953125,
          17680.619140625,
          17784.169921875,
          17814.119140625,
          17987.900390625,
          18041.44921875,
          17717.669921875,
          17815.1796875,
          17864.58984375,
          17864.16015625,
          17657.080078125,
          17482.130859375,
          18034.80078125,
          18091.619140625,
          18014.109375,
          17987.5390625,
          17931.009765625,
          18068.51953125,
          18333.259765625,
          18313.4296875,
          18097.5,
          18142.880859375,
          18337.94921875,
          18416.73046875,
          18003.05078125,
          18228.369140625,
          18163.740234375,
          18142.900390625,
          17930.470703125,
          18124.3203125,
          18039.8203125,
          18249.119140625,
          18464.69921875,
          18386.25,
          18337.349609375,
          18378.69921875,
          18344.08984375,
          18308.3203125,
          18391.580078125,
          18135.5703125,
          18238.669921875,
          18362.2890625,
          18202.9609375,
          18178.66015625,
          18210.01953125,
          18040.830078125,
          18337.150390625
         ],
         "increasing": {
          "line": {
           "color": "green"
          }
         },
         "low": [
          15047.26953125,
          14932.76953125,
          14865.8095703125,
          14749.2998046875,
          14552.1201171875,
          14419.0595703125,
          14610.330078125,
          14362.240234375,
          14058.330078125,
          14130.3701171875,
          14225.8603515625,
          14232.400390625,
          14441.8896484375,
          14792.8095703125,
          14965.2900390625,
          15064.91015625,
          15153.3095703125,
          15220.8798828125,
          15171.3203125,
          15237.169921875,
          15404.7099609375,
          15726.1201171875,
          15765.3095703125,
          15738.2197265625,
          15766.9404296875,
          15844.830078125,
          15866.8203125,
          15964.0400390625,
          15940.6201171875,
          15932.1904296875,
          15921.0703125,
          15976.6904296875,
          15825.669921875,
          15834.9296875,
          15695.580078125,
          15760.58984375,
          15776.9501953125,
          15875.48046875,
          15937.580078125,
          16061.8701171875,
          16175.4599609375,
          16357.2099609375,
          16419.259765625,
          16557.009765625,
          16629.2890625,
          16733.380859375,
          16552.060546875,
          16621.51953125,
          16703.5703125,
          16813.5703125,
          16859.55078125,
          16891.3203125,
          16757.890625,
          16453.150390625,
          16352.1396484375,
          16276.4296875,
          16249.1904296875,
          16349.3896484375,
          16513.73046875,
          16654.740234375,
          16618.859375,
          16776.919921875,
          16726.58984375,
          16561.490234375,
          16818.130859375,
          17041.849609375,
          17309.869140625,
          17286.01953125,
          17481.970703125,
          17430.369140625,
          17395.5390625,
          17414.619140625,
          17443.76953125,
          17128.740234375,
          17175.830078125,
          17378.369140625,
          17469.619140625,
          17475.4296875,
          17637.73046875,
          17728.55078125,
          17798.810546875,
          17859.66015625,
          17478.23046875,
          17619.919921875,
          17722.310546875,
          17663.400390625,
          17399.41015625,
          17319.439453125,
          17808.259765625,
          17902.779296875,
          17926.66015625,
          17871.060546875,
          17840.359375,
          17866.259765625,
          18064.439453125,
          18218.25,
          17804.5,
          17941.640625,
          18101.4296875,
          17995.380859375,
          17873.330078125,
          17919.330078125,
          18030.400390625,
          17913.630859375,
          17764.990234375,
          17973.08984375,
          17809.150390625,
          18003.240234375,
          18317.099609375,
          18267.490234375,
          18189.279296875,
          18207.880859375,
          18168.19921875,
          18231.380859375,
          18211.279296875,
          18002.26953125,
          18045.419921875,
          17875.75,
          17912.859375,
          18050.689453125,
          17973.0703125,
          17932.419921875,
          17998.25
         ],
         "open": [
          15054.48046875,
          15009.259765625,
          15022.2802734375,
          14981.1298828125,
          14752.58984375,
          14514.1103515625,
          14678.41015625,
          14642.080078125,
          14314.009765625,
          14245.75,
          14283.98046875,
          14340.8603515625,
          14453.6796875,
          14856.9501953125,
          14985.1201171875,
          15137.16015625,
          15201.76953125,
          15313.900390625,
          15351.1201171875,
          15252.3603515625,
          15469.2099609375,
          15744.3603515625,
          15881.7197265625,
          15765.2001953125,
          15803.98046875,
          15845.2001953125,
          15951.5498046875,
          16025.740234375,
          15974.849609375,
          15969.7197265625,
          15940.2900390625,
          16111.3603515625,
          15987.66015625,
          15892.58984375,
          15837.1201171875,
          15763.650390625,
          15990.2001953125,
          15888.23046875,
          15952.849609375,
          16069.6201171875,
          16209.6103515625,
          16392.1796875,
          16603.5390625,
          16587,
          16631.109375,
          16734.25,
          16763.640625,
          16719.609375,
          16799.01953125,
          16816.779296875,
          16896.140625,
          16963.51953125,
          16902.439453125,
          16667.30078125,
          16413.259765625,
          16290.7802734375,
          16281.740234375,
          16354.2197265625,
          16531.9609375,
          16702.55078125,
          16852.189453125,
          16855,
          16775.099609375,
          16705.509765625,
          16894.330078125,
          17060.140625,
          17403.619140625,
          17346.94921875,
          17562.3203125,
          17589.26953125,
          17432.869140625,
          17438.029296875,
          17556.490234375,
          17269.98046875,
          17216.990234375,
          17415.939453125,
          17634.689453125,
          17664.439453125,
          17674.58984375,
          17757.599609375,
          17820.98046875,
          17942.279296875,
          17519.80078125,
          17728.900390625,
          17815.3203125,
          17853.58984375,
          17591.169921875,
          17412.7890625,
          17857.759765625,
          18052.58984375,
          17970.2109375,
          17962.580078125,
          17895.029296875,
          17991.669921875,
          18069.2890625,
          18290.099609375,
          18088.7109375,
          18083.509765625,
          18161.73046875,
          18312.7890625,
          17959.6796875,
          18063.01953125,
          18151.759765625,
          18114.689453125,
          17926.919921875,
          18024.240234375,
          17902.51953125,
          18067.69921875,
          18438.240234375,
          18293.150390625,
          18215.5390625,
          18329.2890625,
          18338.189453125,
          18263.41015625,
          18280.8203125,
          18076.4296875,
          18054.439453125,
          18331.01953125,
          17940.279296875,
          18130.439453125,
          18188.869140625,
          17957.9609375,
          18085.109375
         ],
         "type": "candlestick",
         "x": [
          "2023-10-16T00:00:00",
          "2023-10-17T00:00:00",
          "2023-10-18T00:00:00",
          "2023-10-19T00:00:00",
          "2023-10-20T00:00:00",
          "2023-10-23T00:00:00",
          "2023-10-24T00:00:00",
          "2023-10-25T00:00:00",
          "2023-10-26T00:00:00",
          "2023-10-27T00:00:00",
          "2023-10-30T00:00:00",
          "2023-10-31T00:00:00",
          "2023-11-01T00:00:00",
          "2023-11-02T00:00:00",
          "2023-11-03T00:00:00",
          "2023-11-06T00:00:00",
          "2023-11-07T00:00:00",
          "2023-11-08T00:00:00",
          "2023-11-09T00:00:00",
          "2023-11-10T00:00:00",
          "2023-11-13T00:00:00",
          "2023-11-14T00:00:00",
          "2023-11-15T00:00:00",
          "2023-11-16T00:00:00",
          "2023-11-17T00:00:00",
          "2023-11-20T00:00:00",
          "2023-11-21T00:00:00",
          "2023-11-22T00:00:00",
          "2023-11-24T00:00:00",
          "2023-11-27T00:00:00",
          "2023-11-28T00:00:00",
          "2023-11-29T00:00:00",
          "2023-11-30T00:00:00",
          "2023-12-01T00:00:00",
          "2023-12-04T00:00:00",
          "2023-12-05T00:00:00",
          "2023-12-06T00:00:00",
          "2023-12-07T00:00:00",
          "2023-12-08T00:00:00",
          "2023-12-11T00:00:00",
          "2023-12-12T00:00:00",
          "2023-12-13T00:00:00",
          "2023-12-14T00:00:00",
          "2023-12-15T00:00:00",
          "2023-12-18T00:00:00",
          "2023-12-19T00:00:00",
          "2023-12-20T00:00:00",
          "2023-12-21T00:00:00",
          "2023-12-22T00:00:00",
          "2023-12-26T00:00:00",
          "2023-12-27T00:00:00",
          "2023-12-28T00:00:00",
          "2023-12-29T00:00:00",
          "2024-01-02T00:00:00",
          "2024-01-03T00:00:00",
          "2024-01-04T00:00:00",
          "2024-01-05T00:00:00",
          "2024-01-08T00:00:00",
          "2024-01-09T00:00:00",
          "2024-01-10T00:00:00",
          "2024-01-11T00:00:00",
          "2024-01-12T00:00:00",
          "2024-01-16T00:00:00",
          "2024-01-17T00:00:00",
          "2024-01-18T00:00:00",
          "2024-01-19T00:00:00",
          "2024-01-22T00:00:00",
          "2024-01-23T00:00:00",
          "2024-01-24T00:00:00",
          "2024-01-25T00:00:00",
          "2024-01-26T00:00:00",
          "2024-01-29T00:00:00",
          "2024-01-30T00:00:00",
          "2024-01-31T00:00:00",
          "2024-02-01T00:00:00",
          "2024-02-02T00:00:00",
          "2024-02-05T00:00:00",
          "2024-02-06T00:00:00",
          "2024-02-07T00:00:00",
          "2024-02-08T00:00:00",
          "2024-02-09T00:00:00",
          "2024-02-12T00:00:00",
          "2024-02-13T00:00:00",
          "2024-02-14T00:00:00",
          "2024-02-15T00:00:00",
          "2024-02-16T00:00:00",
          "2024-02-20T00:00:00",
          "2024-02-21T00:00:00",
          "2024-02-22T00:00:00",
          "2024-02-23T00:00:00",
          "2024-02-26T00:00:00",
          "2024-02-27T00:00:00",
          "2024-02-28T00:00:00",
          "2024-02-29T00:00:00",
          "2024-03-01T00:00:00",
          "2024-03-04T00:00:00",
          "2024-03-05T00:00:00",
          "2024-03-06T00:00:00",
          "2024-03-07T00:00:00",
          "2024-03-08T00:00:00",
          "2024-03-11T00:00:00",
          "2024-03-12T00:00:00",
          "2024-03-13T00:00:00",
          "2024-03-14T00:00:00",
          "2024-03-15T00:00:00",
          "2024-03-18T00:00:00",
          "2024-03-19T00:00:00",
          "2024-03-20T00:00:00",
          "2024-03-21T00:00:00",
          "2024-03-22T00:00:00",
          "2024-03-25T00:00:00",
          "2024-03-26T00:00:00",
          "2024-03-27T00:00:00",
          "2024-03-28T00:00:00",
          "2024-04-01T00:00:00",
          "2024-04-02T00:00:00",
          "2024-04-03T00:00:00",
          "2024-04-04T00:00:00",
          "2024-04-05T00:00:00",
          "2024-04-08T00:00:00",
          "2024-04-09T00:00:00",
          "2024-04-10T00:00:00",
          "2024-04-11T00:00:00"
         ]
        },
        {
         "marker": {
          "color": "blue",
          "size": 10
         },
         "mode": "markers",
         "name": "Días envolventes",
         "type": "scatter",
         "x": [
          "2023-10-17T00:00:00",
          "2023-11-13T00:00:00",
          "2023-11-17T00:00:00",
          "2023-11-28T00:00:00",
          "2023-12-01T00:00:00",
          "2023-12-05T00:00:00",
          "2023-12-08T00:00:00",
          "2023-12-11T00:00:00",
          "2023-12-12T00:00:00",
          "2024-01-05T00:00:00",
          "2024-01-09T00:00:00",
          "2024-03-19T00:00:00",
          "2024-04-03T00:00:00"
         ],
         "y": [
          15187.0595703125,
          15524.66015625,
          15876.8701171875,
          16031.51953125,
          16013.75,
          15931.83984375,
          16100.8603515625,
          16232.259765625,
          16354.25,
          16415.390625,
          16710.880859375,
          18039.8203125,
          18238.669921875
         ]
        }
       ],
       "layout": {
        "autosize": true,
        "template": {
         "data": {
          "bar": [
           {
            "error_x": {
             "color": "#2a3f5f"
            },
            "error_y": {
             "color": "#2a3f5f"
            },
            "marker": {
             "line": {
              "color": "#E5ECF6",
              "width": 0.5
             },
             "pattern": {
              "fillmode": "overlay",
              "size": 10,
              "solidity": 0.2
             }
            },
            "type": "bar"
           }
          ],
          "barpolar": [
           {
            "marker": {
             "line": {
              "color": "#E5ECF6",
              "width": 0.5
             },
             "pattern": {
              "fillmode": "overlay",
              "size": 10,
              "solidity": 0.2
             }
            },
            "type": "barpolar"
           }
          ],
          "carpet": [
           {
            "aaxis": {
             "endlinecolor": "#2a3f5f",
             "gridcolor": "white",
             "linecolor": "white",
             "minorgridcolor": "white",
             "startlinecolor": "#2a3f5f"
            },
            "baxis": {
             "endlinecolor": "#2a3f5f",
             "gridcolor": "white",
             "linecolor": "white",
             "minorgridcolor": "white",
             "startlinecolor": "#2a3f5f"
            },
            "type": "carpet"
           }
          ],
          "choropleth": [
           {
            "colorbar": {
             "outlinewidth": 0,
             "ticks": ""
            },
            "type": "choropleth"
           }
          ],
          "contour": [
           {
            "colorbar": {
             "outlinewidth": 0,
             "ticks": ""
            },
            "colorscale": [
             [
              0,
              "#0d0887"
             ],
             [
              0.1111111111111111,
              "#46039f"
             ],
             [
              0.2222222222222222,
              "#7201a8"
             ],
             [
              0.3333333333333333,
              "#9c179e"
             ],
             [
              0.4444444444444444,
              "#bd3786"
             ],
             [
              0.5555555555555556,
              "#d8576b"
             ],
             [
              0.6666666666666666,
              "#ed7953"
             ],
             [
              0.7777777777777778,
              "#fb9f3a"
             ],
             [
              0.8888888888888888,
              "#fdca26"
             ],
             [
              1,
              "#f0f921"
             ]
            ],
            "type": "contour"
           }
          ],
          "contourcarpet": [
           {
            "colorbar": {
             "outlinewidth": 0,
             "ticks": ""
            },
            "type": "contourcarpet"
           }
          ],
          "heatmap": [
           {
            "colorbar": {
             "outlinewidth": 0,
             "ticks": ""
            },
            "colorscale": [
             [
              0,
              "#0d0887"
             ],
             [
              0.1111111111111111,
              "#46039f"
             ],
             [
              0.2222222222222222,
              "#7201a8"
             ],
             [
              0.3333333333333333,
              "#9c179e"
             ],
             [
              0.4444444444444444,
              "#bd3786"
             ],
             [
              0.5555555555555556,
              "#d8576b"
             ],
             [
              0.6666666666666666,
              "#ed7953"
             ],
             [
              0.7777777777777778,
              "#fb9f3a"
             ],
             [
              0.8888888888888888,
              "#fdca26"
             ],
             [
              1,
              "#f0f921"
             ]
            ],
            "type": "heatmap"
           }
          ],
          "heatmapgl": [
           {
            "colorbar": {
             "outlinewidth": 0,
             "ticks": ""
            },
            "colorscale": [
             [
              0,
              "#0d0887"
             ],
             [
              0.1111111111111111,
              "#46039f"
             ],
             [
              0.2222222222222222,
              "#7201a8"
             ],
             [
              0.3333333333333333,
              "#9c179e"
             ],
             [
              0.4444444444444444,
              "#bd3786"
             ],
             [
              0.5555555555555556,
              "#d8576b"
             ],
             [
              0.6666666666666666,
              "#ed7953"
             ],
             [
              0.7777777777777778,
              "#fb9f3a"
             ],
             [
              0.8888888888888888,
              "#fdca26"
             ],
             [
              1,
              "#f0f921"
             ]
            ],
            "type": "heatmapgl"
           }
          ],
          "histogram": [
           {
            "marker": {
             "pattern": {
              "fillmode": "overlay",
              "size": 10,
              "solidity": 0.2
             }
            },
            "type": "histogram"
           }
          ],
          "histogram2d": [
           {
            "colorbar": {
             "outlinewidth": 0,
             "ticks": ""
            },
            "colorscale": [
             [
              0,
              "#0d0887"
             ],
             [
              0.1111111111111111,
              "#46039f"
             ],
             [
              0.2222222222222222,
              "#7201a8"
             ],
             [
              0.3333333333333333,
              "#9c179e"
             ],
             [
              0.4444444444444444,
              "#bd3786"
             ],
             [
              0.5555555555555556,
              "#d8576b"
             ],
             [
              0.6666666666666666,
              "#ed7953"
             ],
             [
              0.7777777777777778,
              "#fb9f3a"
             ],
             [
              0.8888888888888888,
              "#fdca26"
             ],
             [
              1,
              "#f0f921"
             ]
            ],
            "type": "histogram2d"
           }
          ],
          "histogram2dcontour": [
           {
            "colorbar": {
             "outlinewidth": 0,
             "ticks": ""
            },
            "colorscale": [
             [
              0,
              "#0d0887"
             ],
             [
              0.1111111111111111,
              "#46039f"
             ],
             [
              0.2222222222222222,
              "#7201a8"
             ],
             [
              0.3333333333333333,
              "#9c179e"
             ],
             [
              0.4444444444444444,
              "#bd3786"
             ],
             [
              0.5555555555555556,
              "#d8576b"
             ],
             [
              0.6666666666666666,
              "#ed7953"
             ],
             [
              0.7777777777777778,
              "#fb9f3a"
             ],
             [
              0.8888888888888888,
              "#fdca26"
             ],
             [
              1,
              "#f0f921"
             ]
            ],
            "type": "histogram2dcontour"
           }
          ],
          "mesh3d": [
           {
            "colorbar": {
             "outlinewidth": 0,
             "ticks": ""
            },
            "type": "mesh3d"
           }
          ],
          "parcoords": [
           {
            "line": {
             "colorbar": {
              "outlinewidth": 0,
              "ticks": ""
             }
            },
            "type": "parcoords"
           }
          ],
          "pie": [
           {
            "automargin": true,
            "type": "pie"
           }
          ],
          "scatter": [
           {
            "fillpattern": {
             "fillmode": "overlay",
             "size": 10,
             "solidity": 0.2
            },
            "type": "scatter"
           }
          ],
          "scatter3d": [
           {
            "line": {
             "colorbar": {
              "outlinewidth": 0,
              "ticks": ""
             }
            },
            "marker": {
             "colorbar": {
              "outlinewidth": 0,
              "ticks": ""
             }
            },
            "type": "scatter3d"
           }
          ],
          "scattercarpet": [
           {
            "marker": {
             "colorbar": {
              "outlinewidth": 0,
              "ticks": ""
             }
            },
            "type": "scattercarpet"
           }
          ],
          "scattergeo": [
           {
            "marker": {
             "colorbar": {
              "outlinewidth": 0,
              "ticks": ""
             }
            },
            "type": "scattergeo"
           }
          ],
          "scattergl": [
           {
            "marker": {
             "colorbar": {
              "outlinewidth": 0,
              "ticks": ""
             }
            },
            "type": "scattergl"
           }
          ],
          "scattermapbox": [
           {
            "marker": {
             "colorbar": {
              "outlinewidth": 0,
              "ticks": ""
             }
            },
            "type": "scattermapbox"
           }
          ],
          "scatterpolar": [
           {
            "marker": {
             "colorbar": {
              "outlinewidth": 0,
              "ticks": ""
             }
            },
            "type": "scatterpolar"
           }
          ],
          "scatterpolargl": [
           {
            "marker": {
             "colorbar": {
              "outlinewidth": 0,
              "ticks": ""
             }
            },
            "type": "scatterpolargl"
           }
          ],
          "scatterternary": [
           {
            "marker": {
             "colorbar": {
              "outlinewidth": 0,
              "ticks": ""
             }
            },
            "type": "scatterternary"
           }
          ],
          "surface": [
           {
            "colorbar": {
             "outlinewidth": 0,
             "ticks": ""
            },
            "colorscale": [
             [
              0,
              "#0d0887"
             ],
             [
              0.1111111111111111,
              "#46039f"
             ],
             [
              0.2222222222222222,
              "#7201a8"
             ],
             [
              0.3333333333333333,
              "#9c179e"
             ],
             [
              0.4444444444444444,
              "#bd3786"
             ],
             [
              0.5555555555555556,
              "#d8576b"
             ],
             [
              0.6666666666666666,
              "#ed7953"
             ],
             [
              0.7777777777777778,
              "#fb9f3a"
             ],
             [
              0.8888888888888888,
              "#fdca26"
             ],
             [
              1,
              "#f0f921"
             ]
            ],
            "type": "surface"
           }
          ],
          "table": [
           {
            "cells": {
             "fill": {
              "color": "#EBF0F8"
             },
             "line": {
              "color": "white"
             }
            },
            "header": {
             "fill": {
              "color": "#C8D4E3"
             },
             "line": {
              "color": "white"
             }
            },
            "type": "table"
           }
          ]
         },
         "layout": {
          "annotationdefaults": {
           "arrowcolor": "#2a3f5f",
           "arrowhead": 0,
           "arrowwidth": 1
          },
          "autotypenumbers": "strict",
          "coloraxis": {
           "colorbar": {
            "outlinewidth": 0,
            "ticks": ""
           }
          },
          "colorscale": {
           "diverging": [
            [
             0,
             "#8e0152"
            ],
            [
             0.1,
             "#c51b7d"
            ],
            [
             0.2,
             "#de77ae"
            ],
            [
             0.3,
             "#f1b6da"
            ],
            [
             0.4,
             "#fde0ef"
            ],
            [
             0.5,
             "#f7f7f7"
            ],
            [
             0.6,
             "#e6f5d0"
            ],
            [
             0.7,
             "#b8e186"
            ],
            [
             0.8,
             "#7fbc41"
            ],
            [
             0.9,
             "#4d9221"
            ],
            [
             1,
             "#276419"
            ]
           ],
           "sequential": [
            [
             0,
             "#0d0887"
            ],
            [
             0.1111111111111111,
             "#46039f"
            ],
            [
             0.2222222222222222,
             "#7201a8"
            ],
            [
             0.3333333333333333,
             "#9c179e"
            ],
            [
             0.4444444444444444,
             "#bd3786"
            ],
            [
             0.5555555555555556,
             "#d8576b"
            ],
            [
             0.6666666666666666,
             "#ed7953"
            ],
            [
             0.7777777777777778,
             "#fb9f3a"
            ],
            [
             0.8888888888888888,
             "#fdca26"
            ],
            [
             1,
             "#f0f921"
            ]
           ],
           "sequentialminus": [
            [
             0,
             "#0d0887"
            ],
            [
             0.1111111111111111,
             "#46039f"
            ],
            [
             0.2222222222222222,
             "#7201a8"
            ],
            [
             0.3333333333333333,
             "#9c179e"
            ],
            [
             0.4444444444444444,
             "#bd3786"
            ],
            [
             0.5555555555555556,
             "#d8576b"
            ],
            [
             0.6666666666666666,
             "#ed7953"
            ],
            [
             0.7777777777777778,
             "#fb9f3a"
            ],
            [
             0.8888888888888888,
             "#fdca26"
            ],
            [
             1,
             "#f0f921"
            ]
           ]
          },
          "colorway": [
           "#636efa",
           "#EF553B",
           "#00cc96",
           "#ab63fa",
           "#FFA15A",
           "#19d3f3",
           "#FF6692",
           "#B6E880",
           "#FF97FF",
           "#FECB52"
          ],
          "font": {
           "color": "#2a3f5f"
          },
          "geo": {
           "bgcolor": "white",
           "lakecolor": "white",
           "landcolor": "#E5ECF6",
           "showlakes": true,
           "showland": true,
           "subunitcolor": "white"
          },
          "hoverlabel": {
           "align": "left"
          },
          "hovermode": "closest",
          "mapbox": {
           "style": "light"
          },
          "paper_bgcolor": "white",
          "plot_bgcolor": "#E5ECF6",
          "polar": {
           "angularaxis": {
            "gridcolor": "white",
            "linecolor": "white",
            "ticks": ""
           },
           "bgcolor": "#E5ECF6",
           "radialaxis": {
            "gridcolor": "white",
            "linecolor": "white",
            "ticks": ""
           }
          },
          "scene": {
           "xaxis": {
            "backgroundcolor": "#E5ECF6",
            "gridcolor": "white",
            "gridwidth": 2,
            "linecolor": "white",
            "showbackground": true,
            "ticks": "",
            "zerolinecolor": "white"
           },
           "yaxis": {
            "backgroundcolor": "#E5ECF6",
            "gridcolor": "white",
            "gridwidth": 2,
            "linecolor": "white",
            "showbackground": true,
            "ticks": "",
            "zerolinecolor": "white"
           },
           "zaxis": {
            "backgroundcolor": "#E5ECF6",
            "gridcolor": "white",
            "gridwidth": 2,
            "linecolor": "white",
            "showbackground": true,
            "ticks": "",
            "zerolinecolor": "white"
           }
          },
          "shapedefaults": {
           "line": {
            "color": "#2a3f5f"
           }
          },
          "ternary": {
           "aaxis": {
            "gridcolor": "white",
            "linecolor": "white",
            "ticks": ""
           },
           "baxis": {
            "gridcolor": "white",
            "linecolor": "white",
            "ticks": ""
           },
           "bgcolor": "#E5ECF6",
           "caxis": {
            "gridcolor": "white",
            "linecolor": "white",
            "ticks": ""
           }
          },
          "title": {
           "x": 0.05
          },
          "xaxis": {
           "automargin": true,
           "gridcolor": "white",
           "linecolor": "white",
           "ticks": "",
           "title": {
            "standoff": 15
           },
           "zerolinecolor": "white",
           "zerolinewidth": 2
          },
          "yaxis": {
           "automargin": true,
           "gridcolor": "white",
           "linecolor": "white",
           "ticks": "",
           "title": {
            "standoff": 15
           },
           "zerolinecolor": "white",
           "zerolinewidth": 2
          }
         }
        },
        "title": {
         "text": "Gráfico de velas del NAS30 con patrón de vela envolvente"
        },
        "xaxis": {
         "autorange": false,
         "range": [
          "2024-02-05 17:50:43.6615",
          "2024-03-10 05:55:08.6305"
         ],
         "rangeslider": {
          "autorange": true,
          "range": [
           "2023-10-05 14:53:38.9959",
           "2024-04-14 09:06:21.0041"
          ],
          "yaxis": {
           "_template": null,
           "rangemode": "match"
          }
         },
         "type": "date"
        },
        "yaxis": {
         "autorange": true,
         "range": [
          13809.970076303096,
          18777.170112741187
         ],
         "type": "linear"
        }
       }
      },
      "image/png": "[encoded data removed]",
      "text/html": [
       "<div>                            <div id=\"d27d9e27-be2f-49f5-ab3b-ccd1edc97e89\" class=\"plotly-graph-div\" style=\"height:525px; width:100%;\"></div>            <script type=\"text/javascript\">                require([\"plotly\"], function(Plotly) {                    window.PLOTLYENV=window.PLOTLYENV || {};                                    if (document.getElementById(\"d27d9e27-be2f-49f5-ab3b-ccd1edc97e89\")) {                    Plotly.newPlot(                        \"d27d9e27-be2f-49f5-ab3b-ccd1edc97e89\",                        [{\"close\":[15172.73046875,15122.009765625,14909.259765625,14783.1298828125,14560.8798828125,14604.849609375,14745.8603515625,14381.6396484375,14109.5703125,14180.419921875,14335.509765625,14409.7802734375,14664.91015625,14919.5498046875,15099.490234375,15154.9296875,15296.01953125,15313.240234375,15187.900390625,15529.1201171875,15482.7900390625,15812.4697265625,15817.1796875,15833.169921875,15837.990234375,16027.0595703125,15933.6201171875,16001.3896484375,15982.009765625,15961.98046875,16010.4296875,15987.599609375,15947.8701171875,15997.580078125,15839.669921875,15877.7099609375,15788.0498046875,16022.490234375,16084.6904296875,16221.73046875,16354.25,16562.369140625,16537.830078125,16623.44921875,16729.80078125,16811.849609375,16554.16015625,16757.41015625,16777.400390625,16878.4609375,16906.80078125,16898.470703125,16825.9296875,16543.939453125,16368.490234375,16282.009765625,16305.98046875,16649.869140625,16678.69921875,16793.05078125,16820.900390625,16832.919921875,16830.7109375,16736.279296875,16982.2890625,17314.0,17330.380859375,17404.2109375,17499.30078125,17516.990234375,17421.009765625,17596.26953125,17476.7109375,17137.240234375,17344.7109375,17642.73046875,17613.0390625,17572.73046875,17755.0703125,17783.169921875,17962.41015625,17882.66015625,17600.419921875,17807.630859375,17845.720703125,17685.98046875,17546.099609375,17478.91015625,18004.69921875,17937.609375,17933.330078125,17971.05078125,17874.5,18043.849609375,18302.91015625,18226.48046875,17897.869140625,18017.5703125,18297.990234375,18018.44921875,17951.689453125,18219.109375,18068.470703125,18014.810546875,17808.25,17985.009765625,18032.19921875,18240.109375,18320.380859375,18339.439453125,18277.060546875,18210.5390625,18280.83984375,18254.689453125,18293.19921875,18121.779296875,18160.189453125,17878.779296875,18108.4609375,18100.189453125,18169.900390625,18011.66015625,18307.98046875],\"decreasing\":{\"line\":{\"color\":\"red\"}},\"high\":[15209.5,15187.0595703125,15103.8701171875,15023.91015625,14781.2197265625,14746.3701171875,14774.16015625,14643.6904296875,14372.509765625,14321.0400390625,14388.2001953125,14420.4404296875,14677.8603515625,14930.759765625,15149.7802734375,15180.1904296875,15335.4404296875,15343.1904296875,15382.1103515625,15535.2001953125,15524.66015625,15850.33984375,15904.6298828125,15842.6298828125,15876.8701171875,16056.759765625,15968.08984375,16119.3095703125,16007.4296875,16045.2998046875,16031.51953125,16166.509765625,16013.48046875,16013.75,15852.4501953125,15931.83984375,15990.9404296875,16042.509765625,16100.8603515625,16232.259765625,16354.25,16581.0390625,16660.7109375,16669.76953125,16764.3203125,16813.009765625,16860.6796875,16768.01953125,16839.25,16907.509765625,16922.009765625,16969.169921875,16919.509765625,16686.599609375,16471.080078125,16419.439453125,16415.390625,16655.23046875,16710.880859375,16827.369140625,16898.16015625,16900.369140625,16895.330078125,16749.109375,16996.98046875,17317.2109375,17450.30078125,17410.859375,17665.259765625,17631.33984375,17514.759765625,17603.94921875,17578.4609375,17375.3203125,17356.759765625,17682.2890625,17655.76953125,17680.619140625,17784.169921875,17814.119140625,17987.900390625,18041.44921875,17717.669921875,17815.1796875,17864.58984375,17864.16015625,17657.080078125,17482.130859375,18034.80078125,18091.619140625,18014.109375,17987.5390625,17931.009765625,18068.51953125,18333.259765625,18313.4296875,18097.5,18142.880859375,18337.94921875,18416.73046875,18003.05078125,18228.369140625,18163.740234375,18142.900390625,17930.470703125,18124.3203125,18039.8203125,18249.119140625,18464.69921875,18386.25,18337.349609375,18378.69921875,18344.08984375,18308.3203125,18391.580078125,18135.5703125,18238.669921875,18362.2890625,18202.9609375,18178.66015625,18210.01953125,18040.830078125,18337.150390625],\"increasing\":{\"line\":{\"color\":\"green\"}},\"low\":[15047.26953125,14932.76953125,14865.8095703125,14749.2998046875,14552.1201171875,14419.0595703125,14610.330078125,14362.240234375,14058.330078125,14130.3701171875,14225.8603515625,14232.400390625,14441.8896484375,14792.8095703125,14965.2900390625,15064.91015625,15153.3095703125,15220.8798828125,15171.3203125,15237.169921875,15404.7099609375,15726.1201171875,15765.3095703125,15738.2197265625,15766.9404296875,15844.830078125,15866.8203125,15964.0400390625,15940.6201171875,15932.1904296875,15921.0703125,15976.6904296875,15825.669921875,15834.9296875,15695.580078125,15760.58984375,15776.9501953125,15875.48046875,15937.580078125,16061.8701171875,16175.4599609375,16357.2099609375,16419.259765625,16557.009765625,16629.2890625,16733.380859375,16552.060546875,16621.51953125,16703.5703125,16813.5703125,16859.55078125,16891.3203125,16757.890625,16453.150390625,16352.1396484375,16276.4296875,16249.1904296875,16349.3896484375,16513.73046875,16654.740234375,16618.859375,16776.919921875,16726.58984375,16561.490234375,16818.130859375,17041.849609375,17309.869140625,17286.01953125,17481.970703125,17430.369140625,17395.5390625,17414.619140625,17443.76953125,17128.740234375,17175.830078125,17378.369140625,17469.619140625,17475.4296875,17637.73046875,17728.55078125,17798.810546875,17859.66015625,17478.23046875,17619.919921875,17722.310546875,17663.400390625,17399.41015625,17319.439453125,17808.259765625,17902.779296875,17926.66015625,17871.060546875,17840.359375,17866.259765625,18064.439453125,18218.25,17804.5,17941.640625,18101.4296875,17995.380859375,17873.330078125,17919.330078125,18030.400390625,17913.630859375,17764.990234375,17973.08984375,17809.150390625,18003.240234375,18317.099609375,18267.490234375,18189.279296875,18207.880859375,18168.19921875,18231.380859375,18211.279296875,18002.26953125,18045.419921875,17875.75,17912.859375,18050.689453125,17973.0703125,17932.419921875,17998.25],\"open\":[15054.48046875,15009.259765625,15022.2802734375,14981.1298828125,14752.58984375,14514.1103515625,14678.41015625,14642.080078125,14314.009765625,14245.75,14283.98046875,14340.8603515625,14453.6796875,14856.9501953125,14985.1201171875,15137.16015625,15201.76953125,15313.900390625,15351.1201171875,15252.3603515625,15469.2099609375,15744.3603515625,15881.7197265625,15765.2001953125,15803.98046875,15845.2001953125,15951.5498046875,16025.740234375,15974.849609375,15969.7197265625,15940.2900390625,16111.3603515625,15987.66015625,15892.58984375,15837.1201171875,15763.650390625,15990.2001953125,15888.23046875,15952.849609375,16069.6201171875,16209.6103515625,16392.1796875,16603.5390625,16587.0,16631.109375,16734.25,16763.640625,16719.609375,16799.01953125,16816.779296875,16896.140625,16963.51953125,16902.439453125,16667.30078125,16413.259765625,16290.7802734375,16281.740234375,16354.2197265625,16531.9609375,16702.55078125,16852.189453125,16855.0,16775.099609375,16705.509765625,16894.330078125,17060.140625,17403.619140625,17346.94921875,17562.3203125,17589.26953125,17432.869140625,17438.029296875,17556.490234375,17269.98046875,17216.990234375,17415.939453125,17634.689453125,17664.439453125,17674.58984375,17757.599609375,17820.98046875,17942.279296875,17519.80078125,17728.900390625,17815.3203125,17853.58984375,17591.169921875,17412.7890625,17857.759765625,18052.58984375,17970.2109375,17962.580078125,17895.029296875,17991.669921875,18069.2890625,18290.099609375,18088.7109375,18083.509765625,18161.73046875,18312.7890625,17959.6796875,18063.01953125,18151.759765625,18114.689453125,17926.919921875,18024.240234375,17902.51953125,18067.69921875,18438.240234375,18293.150390625,18215.5390625,18329.2890625,18338.189453125,18263.41015625,18280.8203125,18076.4296875,18054.439453125,18331.01953125,17940.279296875,18130.439453125,18188.869140625,17957.9609375,18085.109375],\"x\":[\"2023-10-16T00:00:00\",\"2023-10-17T00:00:00\",\"2023-10-18T00:00:00\",\"2023-10-19T00:00:00\",\"2023-10-20T00:00:00\",\"2023-10-23T00:00:00\",\"2023-10-24T00:00:00\",\"2023-10-25T00:00:00\",\"2023-10-26T00:00:00\",\"2023-10-27T00:00:00\",\"2023-10-30T00:00:00\",\"2023-10-31T00:00:00\",\"2023-11-01T00:00:00\",\"2023-11-02T00:00:00\",\"2023-11-03T00:00:00\",\"2023-11-06T00:00:00\",\"2023-11-07T00:00:00\",\"2023-11-08T00:00:00\",\"2023-11-09T00:00:00\",\"2023-11-10T00:00:00\",\"2023-11-13T00:00:00\",\"2023-11-14T00:00:00\",\"2023-11-15T00:00:00\",\"2023-11-16T00:00:00\",\"2023-11-17T00:00:00\",\"2023-11-20T00:00:00\",\"2023-11-21T00:00:00\",\"2023-11-22T00:00:00\",\"2023-11-24T00:00:00\",\"2023-11-27T00:00:00\",\"2023-11-28T00:00:00\",\"2023-11-29T00:00:00\",\"2023-11-30T00:00:00\",\"2023-12-01T00:00:00\",\"2023-12-04T00:00:00\",\"2023-12-05T00:00:00\",\"2023-12-06T00:00:00\",\"2023-12-07T00:00:00\",\"2023-12-08T00:00:00\",\"2023-12-11T00:00:00\",\"2023-12-12T00:00:00\",\"2023-12-13T00:00:00\",\"2023-12-14T00:00:00\",\"2023-12-15T00:00:00\",\"2023-12-18T00:00:00\",\"2023-12-19T00:00:00\",\"2023-12-20T00:00:00\",\"2023-12-21T00:00:00\",\"2023-12-22T00:00:00\",\"2023-12-26T00:00:00\",\"2023-12-27T00:00:00\",\"2023-12-28T00:00:00\",\"2023-12-29T00:00:00\",\"2024-01-02T00:00:00\",\"2024-01-03T00:00:00\",\"2024-01-04T00:00:00\",\"2024-01-05T00:00:00\",\"2024-01-08T00:00:00\",\"2024-01-09T00:00:00\",\"2024-01-10T00:00:00\",\"2024-01-11T00:00:00\",\"2024-01-12T00:00:00\",\"2024-01-16T00:00:00\",\"2024-01-17T00:00:00\",\"2024-01-18T00:00:00\",\"2024-01-19T00:00:00\",\"2024-01-22T00:00:00\",\"2024-01-23T00:00:00\",\"2024-01-24T00:00:00\",\"2024-01-25T00:00:00\",\"2024-01-26T00:00:00\",\"2024-01-29T00:00:00\",\"2024-01-30T00:00:00\",\"2024-01-31T00:00:00\",\"2024-02-01T00:00:00\",\"2024-02-02T00:00:00\",\"2024-02-05T00:00:00\",\"2024-02-06T00:00:00\",\"2024-02-07T00:00:00\",\"2024-02-08T00:00:00\",\"2024-02-09T00:00:00\",\"2024-02-12T00:00:00\",\"2024-02-13T00:00:00\",\"2024-02-14T00:00:00\",\"2024-02-15T00:00:00\",\"2024-02-16T00:00:00\",\"2024-02-20T00:00:00\",\"2024-02-21T00:00:00\",\"2024-02-22T00:00:00\",\"2024-02-23T00:00:00\",\"2024-02-26T00:00:00\",\"2024-02-27T00:00:00\",\"2024-02-28T00:00:00\",\"2024-02-29T00:00:00\",\"2024-03-01T00:00:00\",\"2024-03-04T00:00:00\",\"2024-03-05T00:00:00\",\"2024-03-06T00:00:00\",\"2024-03-07T00:00:00\",\"2024-03-08T00:00:00\",\"2024-03-11T00:00:00\",\"2024-03-12T00:00:00\",\"2024-03-13T00:00:00\",\"2024-03-14T00:00:00\",\"2024-03-15T00:00:00\",\"2024-03-18T00:00:00\",\"2024-03-19T00:00:00\",\"2024-03-20T00:00:00\",\"2024-03-21T00:00:00\",\"2024-03-22T00:00:00\",\"2024-03-25T00:00:00\",\"2024-03-26T00:00:00\",\"2024-03-27T00:00:00\",\"2024-03-28T00:00:00\",\"2024-04-01T00:00:00\",\"2024-04-02T00:00:00\",\"2024-04-03T00:00:00\",\"2024-04-04T00:00:00\",\"2024-04-05T00:00:00\",\"2024-04-08T00:00:00\",\"2024-04-09T00:00:00\",\"2024-04-10T00:00:00\",\"2024-04-11T00:00:00\"],\"type\":\"candlestick\"},{\"marker\":{\"color\":\"blue\",\"size\":10},\"mode\":\"markers\",\"name\":\"D\\u00edas envolventes\",\"x\":[\"2023-10-17T00:00:00\",\"2023-11-13T00:00:00\",\"2023-11-17T00:00:00\",\"2023-11-28T00:00:00\",\"2023-12-01T00:00:00\",\"2023-12-05T00:00:00\",\"2023-12-08T00:00:00\",\"2023-12-11T00:00:00\",\"2023-12-12T00:00:00\",\"2024-01-05T00:00:00\",\"2024-01-09T00:00:00\",\"2024-03-19T00:00:00\",\"2024-04-03T00:00:00\"],\"y\":[15187.0595703125,15524.66015625,15876.8701171875,16031.51953125,16013.75,15931.83984375,16100.8603515625,16232.259765625,16354.25,16415.390625,16710.880859375,18039.8203125,18238.669921875],\"type\":\"scatter\"}],                        {\"template\":{\"data\":{\"histogram2dcontour\":[{\"type\":\"histogram2dcontour\",\"colorbar\":{\"outlinewidth\":0,\"ticks\":\"\"},\"colorscale\":[[0.0,\"#0d0887\"],[0.1111111111111111,\"#46039f\"],[0.2222222222222222,\"#7201a8\"],[0.3333333333333333,\"#9c179e\"],[0.4444444444444444,\"#bd3786\"],[0.5555555555555556,\"#d8576b\"],[0.6666666666666666,\"#ed7953\"],[0.7777777777777778,\"#fb9f3a\"],[0.8888888888888888,\"#fdca26\"],[1.0,\"#f0f921\"]]}],\"choropleth\":[{\"type\":\"choropleth\",\"colorbar\":{\"outlinewidth\":0,\"ticks\":\"\"}}],\"histogram2d\":[{\"type\":\"histogram2d\",\"colorbar\":{\"outlinewidth\":0,\"ticks\":\"\"},\"colorscale\":[[0.0,\"#0d0887\"],[0.1111111111111111,\"#46039f\"],[0.2222222222222222,\"#7201a8\"],[0.3333333333333333,\"#9c179e\"],[0.4444444444444444,\"#bd3786\"],[0.5555555555555556,\"#d8576b\"],[0.6666666666666666,\"#ed7953\"],[0.7777777777777778,\"#fb9f3a\"],[0.8888888888888888,\"#fdca26\"],[1.0,\"#f0f921\"]]}],\"heatmap\":[{\"type\":\"heatmap\",\"colorbar\":{\"outlinewidth\":0,\"ticks\":\"\"},\"colorscale\":[[0.0,\"#0d0887\"],[0.1111111111111111,\"#46039f\"],[0.2222222222222222,\"#7201a8\"],[0.3333333333333333,\"#9c179e\"],[0.4444444444444444,\"#bd3786\"],[0.5555555555555556,\"#d8576b\"],[0.6666666666666666,\"#ed7953\"],[0.7777777777777778,\"#fb9f3a\"],[0.8888888888888888,\"#fdca26\"],[1.0,\"#f0f921\"]]}],\"heatmapgl\":[{\"type\":\"heatmapgl\",\"colorbar\":{\"outlinewidth\":0,\"ticks\":\"\"},\"colorscale\":[[0.0,\"#0d0887\"],[0.1111111111111111,\"#46039f\"],[0.2222222222222222,\"#7201a8\"],[0.3333333333333333,\"#9c179e\"],[0.4444444444444444,\"#bd3786\"],[0.5555555555555556,\"#d8576b\"],[0.6666666666666666,\"#ed7953\"],[0.7777777777777778,\"#fb9f3a\"],[0.8888888888888888,\"#fdca26\"],[1.0,\"#f0f921\"]]}],\"contourcarpet\":[{\"type\":\"contourcarpet\",\"colorbar\":{\"outlinewidth\":0,\"ticks\":\"\"}}],\"contour\":[{\"type\":\"contour\",\"colorbar\":{\"outlinewidth\":0,\"ticks\":\"\"},\"colorscale\":[[0.0,\"#0d0887\"],[0.1111111111111111,\"#46039f\"],[0.2222222222222222,\"#7201a8\"],[0.3333333333333333,\"#9c179e\"],[0.4444444444444444,\"#bd3786\"],[0.5555555555555556,\"#d8576b\"],[0.6666666666666666,\"#ed7953\"],[0.7777777777777778,\"#fb9f3a\"],[0.8888888888888888,\"#fdca26\"],[1.0,\"#f0f921\"]]}],\"surface\":[{\"type\":\"surface\",\"colorbar\":{\"outlinewidth\":0,\"ticks\":\"\"},\"colorscale\":[[0.0,\"#0d0887\"],[0.1111111111111111,\"#46039f\"],[0.2222222222222222,\"#7201a8\"],[0.3333333333333333,\"#9c179e\"],[0.4444444444444444,\"#bd3786\"],[0.5555555555555556,\"#d8576b\"],[0.6666666666666666,\"#ed7953\"],[0.7777777777777778,\"#fb9f3a\"],[0.8888888888888888,\"#fdca26\"],[1.0,\"#f0f921\"]]}],\"mesh3d\":[{\"type\":\"mesh3d\",\"colorbar\":{\"outlinewidth\":0,\"ticks\":\"\"}}],\"scatter\":[{\"fillpattern\":{\"fillmode\":\"overlay\",\"size\":10,\"solidity\":0.2},\"type\":\"scatter\"}],\"parcoords\":[{\"type\":\"parcoords\",\"line\":{\"colorbar\":{\"outlinewidth\":0,\"ticks\":\"\"}}}],\"scatterpolargl\":[{\"type\":\"scatterpolargl\",\"marker\":{\"colorbar\":{\"outlinewidth\":0,\"ticks\":\"\"}}}],\"bar\":[{\"error_x\":{\"color\":\"#2a3f5f\"},\"error_y\":{\"color\":\"#2a3f5f\"},\"marker\":{\"line\":{\"color\":\"#E5ECF6\",\"width\":0.5},\"pattern\":{\"fillmode\":\"overlay\",\"size\":10,\"solidity\":0.2}},\"type\":\"bar\"}],\"scattergeo\":[{\"type\":\"scattergeo\",\"marker\":{\"colorbar\":{\"outlinewidth\":0,\"ticks\":\"\"}}}],\"scatterpolar\":[{\"type\":\"scatterpolar\",\"marker\":{\"colorbar\":{\"outlinewidth\":0,\"ticks\":\"\"}}}],\"histogram\":[{\"marker\":{\"pattern\":{\"fillmode\":\"overlay\",\"size\":10,\"solidity\":0.2}},\"type\":\"histogram\"}],\"scattergl\":[{\"type\":\"scattergl\",\"marker\":{\"colorbar\":{\"outlinewidth\":0,\"ticks\":\"\"}}}],\"scatter3d\":[{\"type\":\"scatter3d\",\"line\":{\"colorbar\":{\"outlinewidth\":0,\"ticks\":\"\"}},\"marker\":{\"colorbar\":{\"outlinewidth\":0,\"ticks\":\"\"}}}],\"scattermapbox\":[{\"type\":\"scattermapbox\",\"marker\":{\"colorbar\":{\"outlinewidth\":0,\"ticks\":\"\"}}}],\"scatterternary\":[{\"type\":\"scatterternary\",\"marker\":{\"colorbar\":{\"outlinewidth\":0,\"ticks\":\"\"}}}],\"scattercarpet\":[{\"type\":\"scattercarpet\",\"marker\":{\"colorbar\":{\"outlinewidth\":0,\"ticks\":\"\"}}}],\"carpet\":[{\"aaxis\":{\"endlinecolor\":\"#2a3f5f\",\"gridcolor\":\"white\",\"linecolor\":\"white\",\"minorgridcolor\":\"white\",\"startlinecolor\":\"#2a3f5f\"},\"baxis\":{\"endlinecolor\":\"#2a3f5f\",\"gridcolor\":\"white\",\"linecolor\":\"white\",\"minorgridcolor\":\"white\",\"startlinecolor\":\"#2a3f5f\"},\"type\":\"carpet\"}],\"table\":[{\"cells\":{\"fill\":{\"color\":\"#EBF0F8\"},\"line\":{\"color\":\"white\"}},\"header\":{\"fill\":{\"color\":\"#C8D4E3\"},\"line\":{\"color\":\"white\"}},\"type\":\"table\"}],\"barpolar\":[{\"marker\":{\"line\":{\"color\":\"#E5ECF6\",\"width\":0.5},\"pattern\":{\"fillmode\":\"overlay\",\"size\":10,\"solidity\":0.2}},\"type\":\"barpolar\"}],\"pie\":[{\"automargin\":true,\"type\":\"pie\"}]},\"layout\":{\"autotypenumbers\":\"strict\",\"colorway\":[\"#636efa\",\"#EF553B\",\"#00cc96\",\"#ab63fa\",\"#FFA15A\",\"#19d3f3\",\"#FF6692\",\"#B6E880\",\"#FF97FF\",\"#FECB52\"],\"font\":{\"color\":\"#2a3f5f\"},\"hovermode\":\"closest\",\"hoverlabel\":{\"align\":\"left\"},\"paper_bgcolor\":\"white\",\"plot_bgcolor\":\"#E5ECF6\",\"polar\":{\"bgcolor\":\"#E5ECF6\",\"angularaxis\":{\"gridcolor\":\"white\",\"linecolor\":\"white\",\"ticks\":\"\"},\"radialaxis\":{\"gridcolor\":\"white\",\"linecolor\":\"white\",\"ticks\":\"\"}},\"ternary\":{\"bgcolor\":\"#E5ECF6\",\"aaxis\":{\"gridcolor\":\"white\",\"linecolor\":\"white\",\"ticks\":\"\"},\"baxis\":{\"gridcolor\":\"white\",\"linecolor\":\"white\",\"ticks\":\"\"},\"caxis\":{\"gridcolor\":\"white\",\"linecolor\":\"white\",\"ticks\":\"\"}},\"coloraxis\":{\"colorbar\":{\"outlinewidth\":0,\"ticks\":\"\"}},\"colorscale\":{\"sequential\":[[0.0,\"#0d0887\"],[0.1111111111111111,\"#46039f\"],[0.2222222222222222,\"#7201a8\"],[0.3333333333333333,\"#9c179e\"],[0.4444444444444444,\"#bd3786\"],[0.5555555555555556,\"#d8576b\"],[0.6666666666666666,\"#ed7953\"],[0.7777777777777778,\"#fb9f3a\"],[0.8888888888888888,\"#fdca26\"],[1.0,\"#f0f921\"]],\"sequentialminus\":[[0.0,\"#0d0887\"],[0.1111111111111111,\"#46039f\"],[0.2222222222222222,\"#7201a8\"],[0.3333333333333333,\"#9c179e\"],[0.4444444444444444,\"#bd3786\"],[0.5555555555555556,\"#d8576b\"],[0.6666666666666666,\"#ed7953\"],[0.7777777777777778,\"#fb9f3a\"],[0.8888888888888888,\"#fdca26\"],[1.0,\"#f0f921\"]],\"diverging\":[[0,\"#8e0152\"],[0.1,\"#c51b7d\"],[0.2,\"#de77ae\"],[0.3,\"#f1b6da\"],[0.4,\"#fde0ef\"],[0.5,\"#f7f7f7\"],[0.6,\"#e6f5d0\"],[0.7,\"#b8e186\"],[0.8,\"#7fbc41\"],[0.9,\"#4d9221\"],[1,\"#276419\"]]},\"xaxis\":{\"gridcolor\":\"white\",\"linecolor\":\"white\",\"ticks\":\"\",\"title\":{\"standoff\":15},\"zerolinecolor\":\"white\",\"automargin\":true,\"zerolinewidth\":2},\"yaxis\":{\"gridcolor\":\"white\",\"linecolor\":\"white\",\"ticks\":\"\",\"title\":{\"standoff\":15},\"zerolinecolor\":\"white\",\"automargin\":true,\"zerolinewidth\":2},\"scene\":{\"xaxis\":{\"backgroundcolor\":\"#E5ECF6\",\"gridcolor\":\"white\",\"linecolor\":\"white\",\"showbackground\":true,\"ticks\":\"\",\"zerolinecolor\":\"white\",\"gridwidth\":2},\"yaxis\":{\"backgroundcolor\":\"#E5ECF6\",\"gridcolor\":\"white\",\"linecolor\":\"white\",\"showbackground\":true,\"ticks\":\"\",\"zerolinecolor\":\"white\",\"gridwidth\":2},\"zaxis\":{\"backgroundcolor\":\"#E5ECF6\",\"gridcolor\":\"white\",\"linecolor\":\"white\",\"showbackground\":true,\"ticks\":\"\",\"zerolinecolor\":\"white\",\"gridwidth\":2}},\"shapedefaults\":{\"line\":{\"color\":\"#2a3f5f\"}},\"annotationdefaults\":{\"arrowcolor\":\"#2a3f5f\",\"arrowhead\":0,\"arrowwidth\":1},\"geo\":{\"bgcolor\":\"white\",\"landcolor\":\"#E5ECF6\",\"subunitcolor\":\"white\",\"showland\":true,\"showlakes\":true,\"lakecolor\":\"white\"},\"title\":{\"x\":0.05},\"mapbox\":{\"style\":\"light\"}}},\"title\":{\"text\":\"Gr\\u00e1fico de velas del NAS30 con patr\\u00f3n de vela envolvente\"}},                        {\"responsive\": true}                    ).then(function(){\n",
       "                            \n",
       "var gd = document.getElementById('d27d9e27-be2f-49f5-ab3b-ccd1edc97e89');\n",
       "var x = new MutationObserver(function (mutations, observer) {{\n",
       "        var display = window.getComputedStyle(gd).display;\n",
       "        if (!display || display === 'none') {{\n",
       "            console.log([gd, 'removed!']);\n",
       "            Plotly.purge(gd);\n",
       "            observer.disconnect();\n",
       "        }}\n",
       "}});\n",
       "\n",
       "// Listen for the removal of the full notebook cells\n",
       "var notebookContainer = gd.closest('#notebook-container');\n",
       "if (notebookContainer) {{\n",
       "    x.observe(notebookContainer, {childList: true});\n",
       "}}\n",
       "\n",
       "// Listen for the clearing of the current output cell\n",
       "var outputEl = gd.closest('.output');\n",
       "if (outputEl) {{\n",
       "    x.observe(outputEl, {childList: true});\n",
       "}}\n",
       "\n",
       "                        })                };                });            </script>        </div>"
      ]
     },
     "metadata": {},
     "output_type": "display_data"
    }
   ],
   "source": [
    "import datetime\n",
    "import plotly.graph_objects as go\n",
    "import yfinance as yf\n",
    "\n",
    "# Obtener los datos históricos del NAS30\n",
    "nasdaq_30 = yf.download(\"^NDX\", start=datetime.datetime.now() - datetime.timedelta(days=180), end=datetime.datetime.now())\n",
    "\n",
    "# Mostrar los últimos datos descargados\n",
    "print(\"Últimos datos descargados del NAS30:\")\n",
    "print(nasdaq_30.tail())\n",
    "\n",
    "# Función para identificar patrón de vela envolvente\n",
    "def encontrar_vela_envolvente(data):\n",
    "    dias_envolventes = []\n",
    "    for i in range(1, len(data)):\n",
    "        if (data['Open'][i] < data['Close'][i-1] and data['Close'][i] > data['Open'][i-1] and\n",
    "            data['Close'][i] > data['Open'][i] and data['Open'][i] < data['Close'][i-1]):\n",
    "            dias_envolventes.append(data.index[i])\n",
    "    return dias_envolventes\n",
    "\n",
    "# Encontrar días con patrón de vela envolvente\n",
    "dias_envolventes = encontrar_vela_envolvente(nasdaq_30)\n",
    "\n",
    "# Configurar la vela\n",
    "candlestick = go.Candlestick(\n",
    "    x=nasdaq_30.index,\n",
    "    open=nasdaq_30[\"Open\"],\n",
    "    high=nasdaq_30[\"High\"],\n",
    "    low=nasdaq_30[\"Low\"],\n",
    "    close=nasdaq_30[\"Close\"],\n",
    "    increasing=dict(line=dict(color=\"green\")),\n",
    "    decreasing=dict(line=dict(color=\"red\"))\n",
    ")\n",
    "\n",
    "# Crear el gráfico de Velas\n",
    "fig = go.Figure(data=[candlestick])\n",
    "\n",
    "# Resaltar los días con patrón de vela envolvente\n",
    "fig.add_trace(go.Scatter(x=dias_envolventes, y=[nasdaq_30.loc[date]['High'] for date in dias_envolventes],\n",
    "                         mode=\"markers\", marker=dict(color=\"blue\", size=10), name=\"Días envolventes\"))\n",
    "\n",
    "# Agregar un título al gráfico\n",
    "fig.update_layout(title_text=\"Gráfico de velas del NAS30 con patrón de vela envolvente\")\n",
    "\n",
    "# Mostrar el gráfico\n",
    "fig.show()\n"
   ]
  },
  {
   "cell_type": "code",
   "execution_count": 28,
   "id": "bbec848f-162a-4f51-a81c-261d0cdf8aab",
   "metadata": {},
   "outputs": [
    {
     "name": "stderr",
     "output_type": "stream",
     "text": [
      "[*********************100%%**********************]  1 of 1 completed"
     ]
    },
    {
     "name": "stdout",
     "output_type": "stream",
     "text": [
      "Últimos datos descargados del NAS30:\n",
      "                    Open          High           Low         Close  \\\n",
      "Date                                                                 \n",
      "2024-04-05  17940.279297  18202.960938  17912.859375  18108.460938   \n",
      "2024-04-08  18130.439453  18178.660156  18050.689453  18100.189453   \n",
      "2024-04-09  18188.869141  18210.019531  17973.070312  18169.900391   \n",
      "2024-04-10  17957.960938  18040.830078  17932.419922  18011.660156   \n",
      "2024-04-11  18085.109375  18337.150391  17998.250000  18307.980469   \n",
      "\n",
      "               Adj Close      Volume  \n",
      "Date                                  \n",
      "2024-04-05  18108.460938  4578130000  \n",
      "2024-04-08  18100.189453  4386700000  \n",
      "2024-04-09  18169.900391  4869190000  \n",
      "2024-04-10  18011.660156  5308250000  \n",
      "2024-04-11  18307.980469  4714750000  \n"
     ]
    },
    {
     "name": "stderr",
     "output_type": "stream",
     "text": [
      "\n",
      "/tmp/ipykernel_23034/2869652031.py:16: FutureWarning:\n",
      "\n",
      "Series.__getitem__ treating keys as positions is deprecated. In a future version, integer keys will always be treated as labels (consistent with DataFrame behavior). To access a value by position, use `ser.iloc[pos]`\n",
      "\n",
      "/tmp/ipykernel_23034/2869652031.py:17: FutureWarning:\n",
      "\n",
      "Series.__getitem__ treating keys as positions is deprecated. In a future version, integer keys will always be treated as labels (consistent with DataFrame behavior). To access a value by position, use `ser.iloc[pos]`\n",
      "\n"
     ]
    },
    {
     "data": {
      "application/vnd.plotly.v1+json": {
       "config": {
        "plotlyServerURL": "https://plot.ly"
       },
       "data": [
        {
         "close": [
          15172.73046875,
          15122.009765625,
          14909.259765625,
          14783.1298828125,
          14560.8798828125,
          14604.849609375,
          14745.8603515625,
          14381.6396484375,
          14109.5703125,
          14180.419921875,
          14335.509765625,
          14409.7802734375,
          14664.91015625,
          14919.5498046875,
          15099.490234375,
          15154.9296875,
          15296.01953125,
          15313.240234375,
          15187.900390625,
          15529.1201171875,
          15482.7900390625,
          15812.4697265625,
          15817.1796875,
          15833.169921875,
          15837.990234375,
          16027.0595703125,
          15933.6201171875,
          16001.3896484375,
          15982.009765625,
          15961.98046875,
          16010.4296875,
          15987.599609375,
          15947.8701171875,
          15997.580078125,
          15839.669921875,
          15877.7099609375,
          15788.0498046875,
          16022.490234375,
          16084.6904296875,
          16221.73046875,
          16354.25,
          16562.369140625,
          16537.830078125,
          16623.44921875,
          16729.80078125,
          16811.849609375,
          16554.16015625,
          16757.41015625,
          16777.400390625,
          16878.4609375,
          16906.80078125,
          16898.470703125,
          16825.9296875,
          16543.939453125,
          16368.490234375,
          16282.009765625,
          16305.98046875,
          16649.869140625,
          16678.69921875,
          16793.05078125,
          16820.900390625,
          16832.919921875,
          16830.7109375,
          16736.279296875,
          16982.2890625,
          17314,
          17330.380859375,
          17404.2109375,
          17499.30078125,
          17516.990234375,
          17421.009765625,
          17596.26953125,
          17476.7109375,
          17137.240234375,
          17344.7109375,
          17642.73046875,
          17613.0390625,
          17572.73046875,
          17755.0703125,
          17783.169921875,
          17962.41015625,
          17882.66015625,
          17600.419921875,
          17807.630859375,
          17845.720703125,
          17685.98046875,
          17546.099609375,
          17478.91015625,
          18004.69921875,
          17937.609375,
          17933.330078125,
          17971.05078125,
          17874.5,
          18043.849609375,
          18302.91015625,
          18226.48046875,
          17897.869140625,
          18017.5703125,
          18297.990234375,
          18018.44921875,
          17951.689453125,
          18219.109375,
          18068.470703125,
          18014.810546875,
          17808.25,
          17985.009765625,
          18032.19921875,
          18240.109375,
          18320.380859375,
          18339.439453125,
          18277.060546875,
          18210.5390625,
          18280.83984375,
          18254.689453125,
          18293.19921875,
          18121.779296875,
          18160.189453125,
          17878.779296875,
          18108.4609375,
          18100.189453125,
          18169.900390625,
          18011.66015625,
          18307.98046875
         ],
         "decreasing": {
          "line": {
           "color": "red"
          }
         },
         "high": [
          15209.5,
          15187.0595703125,
          15103.8701171875,
          15023.91015625,
          14781.2197265625,
          14746.3701171875,
          14774.16015625,
          14643.6904296875,
          14372.509765625,
          14321.0400390625,
          14388.2001953125,
          14420.4404296875,
          14677.8603515625,
          14930.759765625,
          15149.7802734375,
          15180.1904296875,
          15335.4404296875,
          15343.1904296875,
          15382.1103515625,
          15535.2001953125,
          15524.66015625,
          15850.33984375,
          15904.6298828125,
          15842.6298828125,
          15876.8701171875,
          16056.759765625,
          15968.08984375,
          16119.3095703125,
          16007.4296875,
          16045.2998046875,
          16031.51953125,
          16166.509765625,
          16013.48046875,
          16013.75,
          15852.4501953125,
          15931.83984375,
          15990.9404296875,
          16042.509765625,
          16100.8603515625,
          16232.259765625,
          16354.25,
          16581.0390625,
          16660.7109375,
          16669.76953125,
          16764.3203125,
          16813.009765625,
          16860.6796875,
          16768.01953125,
          16839.25,
          16907.509765625,
          16922.009765625,
          16969.169921875,
          16919.509765625,
          16686.599609375,
          16471.080078125,
          16419.439453125,
          16415.390625,
          16655.23046875,
          16710.880859375,
          16827.369140625,
          16898.16015625,
          16900.369140625,
          16895.330078125,
          16749.109375,
          16996.98046875,
          17317.2109375,
          17450.30078125,
          17410.859375,
          17665.259765625,
          17631.33984375,
          17514.759765625,
          17603.94921875,
          17578.4609375,
          17375.3203125,
          17356.759765625,
          17682.2890625,
          17655.76953125,
          17680.619140625,
          17784.169921875,
          17814.119140625,
          17987.900390625,
          18041.44921875,
          17717.669921875,
          17815.1796875,
          17864.58984375,
          17864.16015625,
          17657.080078125,
          17482.130859375,
          18034.80078125,
          18091.619140625,
          18014.109375,
          17987.5390625,
          17931.009765625,
          18068.51953125,
          18333.259765625,
          18313.4296875,
          18097.5,
          18142.880859375,
          18337.94921875,
          18416.73046875,
          18003.05078125,
          18228.369140625,
          18163.740234375,
          18142.900390625,
          17930.470703125,
          18124.3203125,
          18039.8203125,
          18249.119140625,
          18464.69921875,
          18386.25,
          18337.349609375,
          18378.69921875,
          18344.08984375,
          18308.3203125,
          18391.580078125,
          18135.5703125,
          18238.669921875,
          18362.2890625,
          18202.9609375,
          18178.66015625,
          18210.01953125,
          18040.830078125,
          18337.150390625
         ],
         "increasing": {
          "line": {
           "color": "green"
          }
         },
         "low": [
          15047.26953125,
          14932.76953125,
          14865.8095703125,
          14749.2998046875,
          14552.1201171875,
          14419.0595703125,
          14610.330078125,
          14362.240234375,
          14058.330078125,
          14130.3701171875,
          14225.8603515625,
          14232.400390625,
          14441.8896484375,
          14792.8095703125,
          14965.2900390625,
          15064.91015625,
          15153.3095703125,
          15220.8798828125,
          15171.3203125,
          15237.169921875,
          15404.7099609375,
          15726.1201171875,
          15765.3095703125,
          15738.2197265625,
          15766.9404296875,
          15844.830078125,
          15866.8203125,
          15964.0400390625,
          15940.6201171875,
          15932.1904296875,
          15921.0703125,
          15976.6904296875,
          15825.669921875,
          15834.9296875,
          15695.580078125,
          15760.58984375,
          15776.9501953125,
          15875.48046875,
          15937.580078125,
          16061.8701171875,
          16175.4599609375,
          16357.2099609375,
          16419.259765625,
          16557.009765625,
          16629.2890625,
          16733.380859375,
          16552.060546875,
          16621.51953125,
          16703.5703125,
          16813.5703125,
          16859.55078125,
          16891.3203125,
          16757.890625,
          16453.150390625,
          16352.1396484375,
          16276.4296875,
          16249.1904296875,
          16349.3896484375,
          16513.73046875,
          16654.740234375,
          16618.859375,
          16776.919921875,
          16726.58984375,
          16561.490234375,
          16818.130859375,
          17041.849609375,
          17309.869140625,
          17286.01953125,
          17481.970703125,
          17430.369140625,
          17395.5390625,
          17414.619140625,
          17443.76953125,
          17128.740234375,
          17175.830078125,
          17378.369140625,
          17469.619140625,
          17475.4296875,
          17637.73046875,
          17728.55078125,
          17798.810546875,
          17859.66015625,
          17478.23046875,
          17619.919921875,
          17722.310546875,
          17663.400390625,
          17399.41015625,
          17319.439453125,
          17808.259765625,
          17902.779296875,
          17926.66015625,
          17871.060546875,
          17840.359375,
          17866.259765625,
          18064.439453125,
          18218.25,
          17804.5,
          17941.640625,
          18101.4296875,
          17995.380859375,
          17873.330078125,
          17919.330078125,
          18030.400390625,
          17913.630859375,
          17764.990234375,
          17973.08984375,
          17809.150390625,
          18003.240234375,
          18317.099609375,
          18267.490234375,
          18189.279296875,
          18207.880859375,
          18168.19921875,
          18231.380859375,
          18211.279296875,
          18002.26953125,
          18045.419921875,
          17875.75,
          17912.859375,
          18050.689453125,
          17973.0703125,
          17932.419921875,
          17998.25
         ],
         "open": [
          15054.48046875,
          15009.259765625,
          15022.2802734375,
          14981.1298828125,
          14752.58984375,
          14514.1103515625,
          14678.41015625,
          14642.080078125,
          14314.009765625,
          14245.75,
          14283.98046875,
          14340.8603515625,
          14453.6796875,
          14856.9501953125,
          14985.1201171875,
          15137.16015625,
          15201.76953125,
          15313.900390625,
          15351.1201171875,
          15252.3603515625,
          15469.2099609375,
          15744.3603515625,
          15881.7197265625,
          15765.2001953125,
          15803.98046875,
          15845.2001953125,
          15951.5498046875,
          16025.740234375,
          15974.849609375,
          15969.7197265625,
          15940.2900390625,
          16111.3603515625,
          15987.66015625,
          15892.58984375,
          15837.1201171875,
          15763.650390625,
          15990.2001953125,
          15888.23046875,
          15952.849609375,
          16069.6201171875,
          16209.6103515625,
          16392.1796875,
          16603.5390625,
          16587,
          16631.109375,
          16734.25,
          16763.640625,
          16719.609375,
          16799.01953125,
          16816.779296875,
          16896.140625,
          16963.51953125,
          16902.439453125,
          16667.30078125,
          16413.259765625,
          16290.7802734375,
          16281.740234375,
          16354.2197265625,
          16531.9609375,
          16702.55078125,
          16852.189453125,
          16855,
          16775.099609375,
          16705.509765625,
          16894.330078125,
          17060.140625,
          17403.619140625,
          17346.94921875,
          17562.3203125,
          17589.26953125,
          17432.869140625,
          17438.029296875,
          17556.490234375,
          17269.98046875,
          17216.990234375,
          17415.939453125,
          17634.689453125,
          17664.439453125,
          17674.58984375,
          17757.599609375,
          17820.98046875,
          17942.279296875,
          17519.80078125,
          17728.900390625,
          17815.3203125,
          17853.58984375,
          17591.169921875,
          17412.7890625,
          17857.759765625,
          18052.58984375,
          17970.2109375,
          17962.580078125,
          17895.029296875,
          17991.669921875,
          18069.2890625,
          18290.099609375,
          18088.7109375,
          18083.509765625,
          18161.73046875,
          18312.7890625,
          17959.6796875,
          18063.01953125,
          18151.759765625,
          18114.689453125,
          17926.919921875,
          18024.240234375,
          17902.51953125,
          18067.69921875,
          18438.240234375,
          18293.150390625,
          18215.5390625,
          18329.2890625,
          18338.189453125,
          18263.41015625,
          18280.8203125,
          18076.4296875,
          18054.439453125,
          18331.01953125,
          17940.279296875,
          18130.439453125,
          18188.869140625,
          17957.9609375,
          18085.109375
         ],
         "type": "candlestick",
         "x": [
          "2023-10-16T00:00:00",
          "2023-10-17T00:00:00",
          "2023-10-18T00:00:00",
          "2023-10-19T00:00:00",
          "2023-10-20T00:00:00",
          "2023-10-23T00:00:00",
          "2023-10-24T00:00:00",
          "2023-10-25T00:00:00",
          "2023-10-26T00:00:00",
          "2023-10-27T00:00:00",
          "2023-10-30T00:00:00",
          "2023-10-31T00:00:00",
          "2023-11-01T00:00:00",
          "2023-11-02T00:00:00",
          "2023-11-03T00:00:00",
          "2023-11-06T00:00:00",
          "2023-11-07T00:00:00",
          "2023-11-08T00:00:00",
          "2023-11-09T00:00:00",
          "2023-11-10T00:00:00",
          "2023-11-13T00:00:00",
          "2023-11-14T00:00:00",
          "2023-11-15T00:00:00",
          "2023-11-16T00:00:00",
          "2023-11-17T00:00:00",
          "2023-11-20T00:00:00",
          "2023-11-21T00:00:00",
          "2023-11-22T00:00:00",
          "2023-11-24T00:00:00",
          "2023-11-27T00:00:00",
          "2023-11-28T00:00:00",
          "2023-11-29T00:00:00",
          "2023-11-30T00:00:00",
          "2023-12-01T00:00:00",
          "2023-12-04T00:00:00",
          "2023-12-05T00:00:00",
          "2023-12-06T00:00:00",
          "2023-12-07T00:00:00",
          "2023-12-08T00:00:00",
          "2023-12-11T00:00:00",
          "2023-12-12T00:00:00",
          "2023-12-13T00:00:00",
          "2023-12-14T00:00:00",
          "2023-12-15T00:00:00",
          "2023-12-18T00:00:00",
          "2023-12-19T00:00:00",
          "2023-12-20T00:00:00",
          "2023-12-21T00:00:00",
          "2023-12-22T00:00:00",
          "2023-12-26T00:00:00",
          "2023-12-27T00:00:00",
          "2023-12-28T00:00:00",
          "2023-12-29T00:00:00",
          "2024-01-02T00:00:00",
          "2024-01-03T00:00:00",
          "2024-01-04T00:00:00",
          "2024-01-05T00:00:00",
          "2024-01-08T00:00:00",
          "2024-01-09T00:00:00",
          "2024-01-10T00:00:00",
          "2024-01-11T00:00:00",
          "2024-01-12T00:00:00",
          "2024-01-16T00:00:00",
          "2024-01-17T00:00:00",
          "2024-01-18T00:00:00",
          "2024-01-19T00:00:00",
          "2024-01-22T00:00:00",
          "2024-01-23T00:00:00",
          "2024-01-24T00:00:00",
          "2024-01-25T00:00:00",
          "2024-01-26T00:00:00",
          "2024-01-29T00:00:00",
          "2024-01-30T00:00:00",
          "2024-01-31T00:00:00",
          "2024-02-01T00:00:00",
          "2024-02-02T00:00:00",
          "2024-02-05T00:00:00",
          "2024-02-06T00:00:00",
          "2024-02-07T00:00:00",
          "2024-02-08T00:00:00",
          "2024-02-09T00:00:00",
          "2024-02-12T00:00:00",
          "2024-02-13T00:00:00",
          "2024-02-14T00:00:00",
          "2024-02-15T00:00:00",
          "2024-02-16T00:00:00",
          "2024-02-20T00:00:00",
          "2024-02-21T00:00:00",
          "2024-02-22T00:00:00",
          "2024-02-23T00:00:00",
          "2024-02-26T00:00:00",
          "2024-02-27T00:00:00",
          "2024-02-28T00:00:00",
          "2024-02-29T00:00:00",
          "2024-03-01T00:00:00",
          "2024-03-04T00:00:00",
          "2024-03-05T00:00:00",
          "2024-03-06T00:00:00",
          "2024-03-07T00:00:00",
          "2024-03-08T00:00:00",
          "2024-03-11T00:00:00",
          "2024-03-12T00:00:00",
          "2024-03-13T00:00:00",
          "2024-03-14T00:00:00",
          "2024-03-15T00:00:00",
          "2024-03-18T00:00:00",
          "2024-03-19T00:00:00",
          "2024-03-20T00:00:00",
          "2024-03-21T00:00:00",
          "2024-03-22T00:00:00",
          "2024-03-25T00:00:00",
          "2024-03-26T00:00:00",
          "2024-03-27T00:00:00",
          "2024-03-28T00:00:00",
          "2024-04-01T00:00:00",
          "2024-04-02T00:00:00",
          "2024-04-03T00:00:00",
          "2024-04-04T00:00:00",
          "2024-04-05T00:00:00",
          "2024-04-08T00:00:00",
          "2024-04-09T00:00:00",
          "2024-04-10T00:00:00",
          "2024-04-11T00:00:00"
         ]
        },
        {
         "marker": {
          "color": "blue",
          "size": 10
         },
         "mode": "markers",
         "name": "Días envolventes",
         "type": "scatter",
         "x": [
          "2023-10-17T00:00:00",
          "2023-11-13T00:00:00",
          "2023-11-17T00:00:00",
          "2023-11-28T00:00:00",
          "2023-12-01T00:00:00",
          "2023-12-05T00:00:00",
          "2023-12-08T00:00:00",
          "2023-12-11T00:00:00",
          "2023-12-12T00:00:00",
          "2024-01-05T00:00:00",
          "2024-01-09T00:00:00",
          "2024-03-19T00:00:00",
          "2024-04-03T00:00:00"
         ],
         "y": [
          15187.0595703125,
          15524.66015625,
          15876.8701171875,
          16031.51953125,
          16013.75,
          15931.83984375,
          16100.8603515625,
          16232.259765625,
          16354.25,
          16415.390625,
          16710.880859375,
          18039.8203125,
          18238.669921875
         ]
        }
       ],
       "layout": {
        "autosize": true,
        "template": {
         "data": {
          "bar": [
           {
            "error_x": {
             "color": "#2a3f5f"
            },
            "error_y": {
             "color": "#2a3f5f"
            },
            "marker": {
             "line": {
              "color": "#E5ECF6",
              "width": 0.5
             },
             "pattern": {
              "fillmode": "overlay",
              "size": 10,
              "solidity": 0.2
             }
            },
            "type": "bar"
           }
          ],
          "barpolar": [
           {
            "marker": {
             "line": {
              "color": "#E5ECF6",
              "width": 0.5
             },
             "pattern": {
              "fillmode": "overlay",
              "size": 10,
              "solidity": 0.2
             }
            },
            "type": "barpolar"
           }
          ],
          "carpet": [
           {
            "aaxis": {
             "endlinecolor": "#2a3f5f",
             "gridcolor": "white",
             "linecolor": "white",
             "minorgridcolor": "white",
             "startlinecolor": "#2a3f5f"
            },
            "baxis": {
             "endlinecolor": "#2a3f5f",
             "gridcolor": "white",
             "linecolor": "white",
             "minorgridcolor": "white",
             "startlinecolor": "#2a3f5f"
            },
            "type": "carpet"
           }
          ],
          "choropleth": [
           {
            "colorbar": {
             "outlinewidth": 0,
             "ticks": ""
            },
            "type": "choropleth"
           }
          ],
          "contour": [
           {
            "colorbar": {
             "outlinewidth": 0,
             "ticks": ""
            },
            "colorscale": [
             [
              0,
              "#0d0887"
             ],
             [
              0.1111111111111111,
              "#46039f"
             ],
             [
              0.2222222222222222,
              "#7201a8"
             ],
             [
              0.3333333333333333,
              "#9c179e"
             ],
             [
              0.4444444444444444,
              "#bd3786"
             ],
             [
              0.5555555555555556,
              "#d8576b"
             ],
             [
              0.6666666666666666,
              "#ed7953"
             ],
             [
              0.7777777777777778,
              "#fb9f3a"
             ],
             [
              0.8888888888888888,
              "#fdca26"
             ],
             [
              1,
              "#f0f921"
             ]
            ],
            "type": "contour"
           }
          ],
          "contourcarpet": [
           {
            "colorbar": {
             "outlinewidth": 0,
             "ticks": ""
            },
            "type": "contourcarpet"
           }
          ],
          "heatmap": [
           {
            "colorbar": {
             "outlinewidth": 0,
             "ticks": ""
            },
            "colorscale": [
             [
              0,
              "#0d0887"
             ],
             [
              0.1111111111111111,
              "#46039f"
             ],
             [
              0.2222222222222222,
              "#7201a8"
             ],
             [
              0.3333333333333333,
              "#9c179e"
             ],
             [
              0.4444444444444444,
              "#bd3786"
             ],
             [
              0.5555555555555556,
              "#d8576b"
             ],
             [
              0.6666666666666666,
              "#ed7953"
             ],
             [
              0.7777777777777778,
              "#fb9f3a"
             ],
             [
              0.8888888888888888,
              "#fdca26"
             ],
             [
              1,
              "#f0f921"
             ]
            ],
            "type": "heatmap"
           }
          ],
          "heatmapgl": [
           {
            "colorbar": {
             "outlinewidth": 0,
             "ticks": ""
            },
            "colorscale": [
             [
              0,
              "#0d0887"
             ],
             [
              0.1111111111111111,
              "#46039f"
             ],
             [
              0.2222222222222222,
              "#7201a8"
             ],
             [
              0.3333333333333333,
              "#9c179e"
             ],
             [
              0.4444444444444444,
              "#bd3786"
             ],
             [
              0.5555555555555556,
              "#d8576b"
             ],
             [
              0.6666666666666666,
              "#ed7953"
             ],
             [
              0.7777777777777778,
              "#fb9f3a"
             ],
             [
              0.8888888888888888,
              "#fdca26"
             ],
             [
              1,
              "#f0f921"
             ]
            ],
            "type": "heatmapgl"
           }
          ],
          "histogram": [
           {
            "marker": {
             "pattern": {
              "fillmode": "overlay",
              "size": 10,
              "solidity": 0.2
             }
            },
            "type": "histogram"
           }
          ],
          "histogram2d": [
           {
            "colorbar": {
             "outlinewidth": 0,
             "ticks": ""
            },
            "colorscale": [
             [
              0,
              "#0d0887"
             ],
             [
              0.1111111111111111,
              "#46039f"
             ],
             [
              0.2222222222222222,
              "#7201a8"
             ],
             [
              0.3333333333333333,
              "#9c179e"
             ],
             [
              0.4444444444444444,
              "#bd3786"
             ],
             [
              0.5555555555555556,
              "#d8576b"
             ],
             [
              0.6666666666666666,
              "#ed7953"
             ],
             [
              0.7777777777777778,
              "#fb9f3a"
             ],
             [
              0.8888888888888888,
              "#fdca26"
             ],
             [
              1,
              "#f0f921"
             ]
            ],
            "type": "histogram2d"
           }
          ],
          "histogram2dcontour": [
           {
            "colorbar": {
             "outlinewidth": 0,
             "ticks": ""
            },
            "colorscale": [
             [
              0,
              "#0d0887"
             ],
             [
              0.1111111111111111,
              "#46039f"
             ],
             [
              0.2222222222222222,
              "#7201a8"
             ],
             [
              0.3333333333333333,
              "#9c179e"
             ],
             [
              0.4444444444444444,
              "#bd3786"
             ],
             [
              0.5555555555555556,
              "#d8576b"
             ],
             [
              0.6666666666666666,
              "#ed7953"
             ],
             [
              0.7777777777777778,
              "#fb9f3a"
             ],
             [
              0.8888888888888888,
              "#fdca26"
             ],
             [
              1,
              "#f0f921"
             ]
            ],
            "type": "histogram2dcontour"
           }
          ],
          "mesh3d": [
           {
            "colorbar": {
             "outlinewidth": 0,
             "ticks": ""
            },
            "type": "mesh3d"
           }
          ],
          "parcoords": [
           {
            "line": {
             "colorbar": {
              "outlinewidth": 0,
              "ticks": ""
             }
            },
            "type": "parcoords"
           }
          ],
          "pie": [
           {
            "automargin": true,
            "type": "pie"
           }
          ],
          "scatter": [
           {
            "fillpattern": {
             "fillmode": "overlay",
             "size": 10,
             "solidity": 0.2
            },
            "type": "scatter"
           }
          ],
          "scatter3d": [
           {
            "line": {
             "colorbar": {
              "outlinewidth": 0,
              "ticks": ""
             }
            },
            "marker": {
             "colorbar": {
              "outlinewidth": 0,
              "ticks": ""
             }
            },
            "type": "scatter3d"
           }
          ],
          "scattercarpet": [
           {
            "marker": {
             "colorbar": {
              "outlinewidth": 0,
              "ticks": ""
             }
            },
            "type": "scattercarpet"
           }
          ],
          "scattergeo": [
           {
            "marker": {
             "colorbar": {
              "outlinewidth": 0,
              "ticks": ""
             }
            },
            "type": "scattergeo"
           }
          ],
          "scattergl": [
           {
            "marker": {
             "colorbar": {
              "outlinewidth": 0,
              "ticks": ""
             }
            },
            "type": "scattergl"
           }
          ],
          "scattermapbox": [
           {
            "marker": {
             "colorbar": {
              "outlinewidth": 0,
              "ticks": ""
             }
            },
            "type": "scattermapbox"
           }
          ],
          "scatterpolar": [
           {
            "marker": {
             "colorbar": {
              "outlinewidth": 0,
              "ticks": ""
             }
            },
            "type": "scatterpolar"
           }
          ],
          "scatterpolargl": [
           {
            "marker": {
             "colorbar": {
              "outlinewidth": 0,
              "ticks": ""
             }
            },
            "type": "scatterpolargl"
           }
          ],
          "scatterternary": [
           {
            "marker": {
             "colorbar": {
              "outlinewidth": 0,
              "ticks": ""
             }
            },
            "type": "scatterternary"
           }
          ],
          "surface": [
           {
            "colorbar": {
             "outlinewidth": 0,
             "ticks": ""
            },
            "colorscale": [
             [
              0,
              "#0d0887"
             ],
             [
              0.1111111111111111,
              "#46039f"
             ],
             [
              0.2222222222222222,
              "#7201a8"
             ],
             [
              0.3333333333333333,
              "#9c179e"
             ],
             [
              0.4444444444444444,
              "#bd3786"
             ],
             [
              0.5555555555555556,
              "#d8576b"
             ],
             [
              0.6666666666666666,
              "#ed7953"
             ],
             [
              0.7777777777777778,
              "#fb9f3a"
             ],
             [
              0.8888888888888888,
              "#fdca26"
             ],
             [
              1,
              "#f0f921"
             ]
            ],
            "type": "surface"
           }
          ],
          "table": [
           {
            "cells": {
             "fill": {
              "color": "#EBF0F8"
             },
             "line": {
              "color": "white"
             }
            },
            "header": {
             "fill": {
              "color": "#C8D4E3"
             },
             "line": {
              "color": "white"
             }
            },
            "type": "table"
           }
          ]
         },
         "layout": {
          "annotationdefaults": {
           "arrowcolor": "#2a3f5f",
           "arrowhead": 0,
           "arrowwidth": 1
          },
          "autotypenumbers": "strict",
          "coloraxis": {
           "colorbar": {
            "outlinewidth": 0,
            "ticks": ""
           }
          },
          "colorscale": {
           "diverging": [
            [
             0,
             "#8e0152"
            ],
            [
             0.1,
             "#c51b7d"
            ],
            [
             0.2,
             "#de77ae"
            ],
            [
             0.3,
             "#f1b6da"
            ],
            [
             0.4,
             "#fde0ef"
            ],
            [
             0.5,
             "#f7f7f7"
            ],
            [
             0.6,
             "#e6f5d0"
            ],
            [
             0.7,
             "#b8e186"
            ],
            [
             0.8,
             "#7fbc41"
            ],
            [
             0.9,
             "#4d9221"
            ],
            [
             1,
             "#276419"
            ]
           ],
           "sequential": [
            [
             0,
             "#0d0887"
            ],
            [
             0.1111111111111111,
             "#46039f"
            ],
            [
             0.2222222222222222,
             "#7201a8"
            ],
            [
             0.3333333333333333,
             "#9c179e"
            ],
            [
             0.4444444444444444,
             "#bd3786"
            ],
            [
             0.5555555555555556,
             "#d8576b"
            ],
            [
             0.6666666666666666,
             "#ed7953"
            ],
            [
             0.7777777777777778,
             "#fb9f3a"
            ],
            [
             0.8888888888888888,
             "#fdca26"
            ],
            [
             1,
             "#f0f921"
            ]
           ],
           "sequentialminus": [
            [
             0,
             "#0d0887"
            ],
            [
             0.1111111111111111,
             "#46039f"
            ],
            [
             0.2222222222222222,
             "#7201a8"
            ],
            [
             0.3333333333333333,
             "#9c179e"
            ],
            [
             0.4444444444444444,
             "#bd3786"
            ],
            [
             0.5555555555555556,
             "#d8576b"
            ],
            [
             0.6666666666666666,
             "#ed7953"
            ],
            [
             0.7777777777777778,
             "#fb9f3a"
            ],
            [
             0.8888888888888888,
             "#fdca26"
            ],
            [
             1,
             "#f0f921"
            ]
           ]
          },
          "colorway": [
           "#636efa",
           "#EF553B",
           "#00cc96",
           "#ab63fa",
           "#FFA15A",
           "#19d3f3",
           "#FF6692",
           "#B6E880",
           "#FF97FF",
           "#FECB52"
          ],
          "font": {
           "color": "#2a3f5f"
          },
          "geo": {
           "bgcolor": "white",
           "lakecolor": "white",
           "landcolor": "#E5ECF6",
           "showlakes": true,
           "showland": true,
           "subunitcolor": "white"
          },
          "hoverlabel": {
           "align": "left"
          },
          "hovermode": "closest",
          "mapbox": {
           "style": "light"
          },
          "paper_bgcolor": "white",
          "plot_bgcolor": "#E5ECF6",
          "polar": {
           "angularaxis": {
            "gridcolor": "white",
            "linecolor": "white",
            "ticks": ""
           },
           "bgcolor": "#E5ECF6",
           "radialaxis": {
            "gridcolor": "white",
            "linecolor": "white",
            "ticks": ""
           }
          },
          "scene": {
           "xaxis": {
            "backgroundcolor": "#E5ECF6",
            "gridcolor": "white",
            "gridwidth": 2,
            "linecolor": "white",
            "showbackground": true,
            "ticks": "",
            "zerolinecolor": "white"
           },
           "yaxis": {
            "backgroundcolor": "#E5ECF6",
            "gridcolor": "white",
            "gridwidth": 2,
            "linecolor": "white",
            "showbackground": true,
            "ticks": "",
            "zerolinecolor": "white"
           },
           "zaxis": {
            "backgroundcolor": "#E5ECF6",
            "gridcolor": "white",
            "gridwidth": 2,
            "linecolor": "white",
            "showbackground": true,
            "ticks": "",
            "zerolinecolor": "white"
           }
          },
          "shapedefaults": {
           "line": {
            "color": "#2a3f5f"
           }
          },
          "ternary": {
           "aaxis": {
            "gridcolor": "white",
            "linecolor": "white",
            "ticks": ""
           },
           "baxis": {
            "gridcolor": "white",
            "linecolor": "white",
            "ticks": ""
           },
           "bgcolor": "#E5ECF6",
           "caxis": {
            "gridcolor": "white",
            "linecolor": "white",
            "ticks": ""
           }
          },
          "title": {
           "x": 0.05
          },
          "xaxis": {
           "automargin": true,
           "gridcolor": "white",
           "linecolor": "white",
           "ticks": "",
           "title": {
            "standoff": 15
           },
           "zerolinecolor": "white",
           "zerolinewidth": 2
          },
          "yaxis": {
           "automargin": true,
           "gridcolor": "white",
           "linecolor": "white",
           "ticks": "",
           "title": {
            "standoff": 15
           },
           "zerolinecolor": "white",
           "zerolinewidth": 2
          }
         }
        },
        "title": {
         "text": "Gráfico de velas del NAS30 con patrón de vela envolvente"
        },
        "xaxis": {
         "autorange": false,
         "range": [
          "2024-02-18 18:05:40.0757",
          "2024-04-13 22:40:29.2722"
         ],
         "rangeslider": {
          "autorange": true,
          "range": [
           "2023-10-05 14:53:38.9959",
           "2024-04-14 09:06:21.0041"
          ],
          "yaxis": {
           "_template": null,
           "rangemode": "match"
          }
         },
         "type": "date"
        },
        "yaxis": {
         "autorange": true,
         "range": [
          13809.970076303096,
          18777.170112741187
         ],
         "type": "linear"
        }
       }
      },
      "image/png": "[encoded data removed]",
      "text/html": [
       "<div>                            <div id=\"82301e4e-878b-495f-90f0-378a4479b0c3\" class=\"plotly-graph-div\" style=\"height:525px; width:100%;\"></div>            <script type=\"text/javascript\">                require([\"plotly\"], function(Plotly) {                    window.PLOTLYENV=window.PLOTLYENV || {};                                    if (document.getElementById(\"82301e4e-878b-495f-90f0-378a4479b0c3\")) {                    Plotly.newPlot(                        \"82301e4e-878b-495f-90f0-378a4479b0c3\",                        [{\"close\":[15172.73046875,15122.009765625,14909.259765625,14783.1298828125,14560.8798828125,14604.849609375,14745.8603515625,14381.6396484375,14109.5703125,14180.419921875,14335.509765625,14409.7802734375,14664.91015625,14919.5498046875,15099.490234375,15154.9296875,15296.01953125,15313.240234375,15187.900390625,15529.1201171875,15482.7900390625,15812.4697265625,15817.1796875,15833.169921875,15837.990234375,16027.0595703125,15933.6201171875,16001.3896484375,15982.009765625,15961.98046875,16010.4296875,15987.599609375,15947.8701171875,15997.580078125,15839.669921875,15877.7099609375,15788.0498046875,16022.490234375,16084.6904296875,16221.73046875,16354.25,16562.369140625,16537.830078125,16623.44921875,16729.80078125,16811.849609375,16554.16015625,16757.41015625,16777.400390625,16878.4609375,16906.80078125,16898.470703125,16825.9296875,16543.939453125,16368.490234375,16282.009765625,16305.98046875,16649.869140625,16678.69921875,16793.05078125,16820.900390625,16832.919921875,16830.7109375,16736.279296875,16982.2890625,17314.0,17330.380859375,17404.2109375,17499.30078125,17516.990234375,17421.009765625,17596.26953125,17476.7109375,17137.240234375,17344.7109375,17642.73046875,17613.0390625,17572.73046875,17755.0703125,17783.169921875,17962.41015625,17882.66015625,17600.419921875,17807.630859375,17845.720703125,17685.98046875,17546.099609375,17478.91015625,18004.69921875,17937.609375,17933.330078125,17971.05078125,17874.5,18043.849609375,18302.91015625,18226.48046875,17897.869140625,18017.5703125,18297.990234375,18018.44921875,17951.689453125,18219.109375,18068.470703125,18014.810546875,17808.25,17985.009765625,18032.19921875,18240.109375,18320.380859375,18339.439453125,18277.060546875,18210.5390625,18280.83984375,18254.689453125,18293.19921875,18121.779296875,18160.189453125,17878.779296875,18108.4609375,18100.189453125,18169.900390625,18011.66015625,18307.98046875],\"decreasing\":{\"line\":{\"color\":\"red\"}},\"high\":[15209.5,15187.0595703125,15103.8701171875,15023.91015625,14781.2197265625,14746.3701171875,14774.16015625,14643.6904296875,14372.509765625,14321.0400390625,14388.2001953125,14420.4404296875,14677.8603515625,14930.759765625,15149.7802734375,15180.1904296875,15335.4404296875,15343.1904296875,15382.1103515625,15535.2001953125,15524.66015625,15850.33984375,15904.6298828125,15842.6298828125,15876.8701171875,16056.759765625,15968.08984375,16119.3095703125,16007.4296875,16045.2998046875,16031.51953125,16166.509765625,16013.48046875,16013.75,15852.4501953125,15931.83984375,15990.9404296875,16042.509765625,16100.8603515625,16232.259765625,16354.25,16581.0390625,16660.7109375,16669.76953125,16764.3203125,16813.009765625,16860.6796875,16768.01953125,16839.25,16907.509765625,16922.009765625,16969.169921875,16919.509765625,16686.599609375,16471.080078125,16419.439453125,16415.390625,16655.23046875,16710.880859375,16827.369140625,16898.16015625,16900.369140625,16895.330078125,16749.109375,16996.98046875,17317.2109375,17450.30078125,17410.859375,17665.259765625,17631.33984375,17514.759765625,17603.94921875,17578.4609375,17375.3203125,17356.759765625,17682.2890625,17655.76953125,17680.619140625,17784.169921875,17814.119140625,17987.900390625,18041.44921875,17717.669921875,17815.1796875,17864.58984375,17864.16015625,17657.080078125,17482.130859375,18034.80078125,18091.619140625,18014.109375,17987.5390625,17931.009765625,18068.51953125,18333.259765625,18313.4296875,18097.5,18142.880859375,18337.94921875,18416.73046875,18003.05078125,18228.369140625,18163.740234375,18142.900390625,17930.470703125,18124.3203125,18039.8203125,18249.119140625,18464.69921875,18386.25,18337.349609375,18378.69921875,18344.08984375,18308.3203125,18391.580078125,18135.5703125,18238.669921875,18362.2890625,18202.9609375,18178.66015625,18210.01953125,18040.830078125,18337.150390625],\"increasing\":{\"line\":{\"color\":\"green\"}},\"low\":[15047.26953125,14932.76953125,14865.8095703125,14749.2998046875,14552.1201171875,14419.0595703125,14610.330078125,14362.240234375,14058.330078125,14130.3701171875,14225.8603515625,14232.400390625,14441.8896484375,14792.8095703125,14965.2900390625,15064.91015625,15153.3095703125,15220.8798828125,15171.3203125,15237.169921875,15404.7099609375,15726.1201171875,15765.3095703125,15738.2197265625,15766.9404296875,15844.830078125,15866.8203125,15964.0400390625,15940.6201171875,15932.1904296875,15921.0703125,15976.6904296875,15825.669921875,15834.9296875,15695.580078125,15760.58984375,15776.9501953125,15875.48046875,15937.580078125,16061.8701171875,16175.4599609375,16357.2099609375,16419.259765625,16557.009765625,16629.2890625,16733.380859375,16552.060546875,16621.51953125,16703.5703125,16813.5703125,16859.55078125,16891.3203125,16757.890625,16453.150390625,16352.1396484375,16276.4296875,16249.1904296875,16349.3896484375,16513.73046875,16654.740234375,16618.859375,16776.919921875,16726.58984375,16561.490234375,16818.130859375,17041.849609375,17309.869140625,17286.01953125,17481.970703125,17430.369140625,17395.5390625,17414.619140625,17443.76953125,17128.740234375,17175.830078125,17378.369140625,17469.619140625,17475.4296875,17637.73046875,17728.55078125,17798.810546875,17859.66015625,17478.23046875,17619.919921875,17722.310546875,17663.400390625,17399.41015625,17319.439453125,17808.259765625,17902.779296875,17926.66015625,17871.060546875,17840.359375,17866.259765625,18064.439453125,18218.25,17804.5,17941.640625,18101.4296875,17995.380859375,17873.330078125,17919.330078125,18030.400390625,17913.630859375,17764.990234375,17973.08984375,17809.150390625,18003.240234375,18317.099609375,18267.490234375,18189.279296875,18207.880859375,18168.19921875,18231.380859375,18211.279296875,18002.26953125,18045.419921875,17875.75,17912.859375,18050.689453125,17973.0703125,17932.419921875,17998.25],\"open\":[15054.48046875,15009.259765625,15022.2802734375,14981.1298828125,14752.58984375,14514.1103515625,14678.41015625,14642.080078125,14314.009765625,14245.75,14283.98046875,14340.8603515625,14453.6796875,14856.9501953125,14985.1201171875,15137.16015625,15201.76953125,15313.900390625,15351.1201171875,15252.3603515625,15469.2099609375,15744.3603515625,15881.7197265625,15765.2001953125,15803.98046875,15845.2001953125,15951.5498046875,16025.740234375,15974.849609375,15969.7197265625,15940.2900390625,16111.3603515625,15987.66015625,15892.58984375,15837.1201171875,15763.650390625,15990.2001953125,15888.23046875,15952.849609375,16069.6201171875,16209.6103515625,16392.1796875,16603.5390625,16587.0,16631.109375,16734.25,16763.640625,16719.609375,16799.01953125,16816.779296875,16896.140625,16963.51953125,16902.439453125,16667.30078125,16413.259765625,16290.7802734375,16281.740234375,16354.2197265625,16531.9609375,16702.55078125,16852.189453125,16855.0,16775.099609375,16705.509765625,16894.330078125,17060.140625,17403.619140625,17346.94921875,17562.3203125,17589.26953125,17432.869140625,17438.029296875,17556.490234375,17269.98046875,17216.990234375,17415.939453125,17634.689453125,17664.439453125,17674.58984375,17757.599609375,17820.98046875,17942.279296875,17519.80078125,17728.900390625,17815.3203125,17853.58984375,17591.169921875,17412.7890625,17857.759765625,18052.58984375,17970.2109375,17962.580078125,17895.029296875,17991.669921875,18069.2890625,18290.099609375,18088.7109375,18083.509765625,18161.73046875,18312.7890625,17959.6796875,18063.01953125,18151.759765625,18114.689453125,17926.919921875,18024.240234375,17902.51953125,18067.69921875,18438.240234375,18293.150390625,18215.5390625,18329.2890625,18338.189453125,18263.41015625,18280.8203125,18076.4296875,18054.439453125,18331.01953125,17940.279296875,18130.439453125,18188.869140625,17957.9609375,18085.109375],\"x\":[\"2023-10-16T00:00:00\",\"2023-10-17T00:00:00\",\"2023-10-18T00:00:00\",\"2023-10-19T00:00:00\",\"2023-10-20T00:00:00\",\"2023-10-23T00:00:00\",\"2023-10-24T00:00:00\",\"2023-10-25T00:00:00\",\"2023-10-26T00:00:00\",\"2023-10-27T00:00:00\",\"2023-10-30T00:00:00\",\"2023-10-31T00:00:00\",\"2023-11-01T00:00:00\",\"2023-11-02T00:00:00\",\"2023-11-03T00:00:00\",\"2023-11-06T00:00:00\",\"2023-11-07T00:00:00\",\"2023-11-08T00:00:00\",\"2023-11-09T00:00:00\",\"2023-11-10T00:00:00\",\"2023-11-13T00:00:00\",\"2023-11-14T00:00:00\",\"2023-11-15T00:00:00\",\"2023-11-16T00:00:00\",\"2023-11-17T00:00:00\",\"2023-11-20T00:00:00\",\"2023-11-21T00:00:00\",\"2023-11-22T00:00:00\",\"2023-11-24T00:00:00\",\"2023-11-27T00:00:00\",\"2023-11-28T00:00:00\",\"2023-11-29T00:00:00\",\"2023-11-30T00:00:00\",\"2023-12-01T00:00:00\",\"2023-12-04T00:00:00\",\"2023-12-05T00:00:00\",\"2023-12-06T00:00:00\",\"2023-12-07T00:00:00\",\"2023-12-08T00:00:00\",\"2023-12-11T00:00:00\",\"2023-12-12T00:00:00\",\"2023-12-13T00:00:00\",\"2023-12-14T00:00:00\",\"2023-12-15T00:00:00\",\"2023-12-18T00:00:00\",\"2023-12-19T00:00:00\",\"2023-12-20T00:00:00\",\"2023-12-21T00:00:00\",\"2023-12-22T00:00:00\",\"2023-12-26T00:00:00\",\"2023-12-27T00:00:00\",\"2023-12-28T00:00:00\",\"2023-12-29T00:00:00\",\"2024-01-02T00:00:00\",\"2024-01-03T00:00:00\",\"2024-01-04T00:00:00\",\"2024-01-05T00:00:00\",\"2024-01-08T00:00:00\",\"2024-01-09T00:00:00\",\"2024-01-10T00:00:00\",\"2024-01-11T00:00:00\",\"2024-01-12T00:00:00\",\"2024-01-16T00:00:00\",\"2024-01-17T00:00:00\",\"2024-01-18T00:00:00\",\"2024-01-19T00:00:00\",\"2024-01-22T00:00:00\",\"2024-01-23T00:00:00\",\"2024-01-24T00:00:00\",\"2024-01-25T00:00:00\",\"2024-01-26T00:00:00\",\"2024-01-29T00:00:00\",\"2024-01-30T00:00:00\",\"2024-01-31T00:00:00\",\"2024-02-01T00:00:00\",\"2024-02-02T00:00:00\",\"2024-02-05T00:00:00\",\"2024-02-06T00:00:00\",\"2024-02-07T00:00:00\",\"2024-02-08T00:00:00\",\"2024-02-09T00:00:00\",\"2024-02-12T00:00:00\",\"2024-02-13T00:00:00\",\"2024-02-14T00:00:00\",\"2024-02-15T00:00:00\",\"2024-02-16T00:00:00\",\"2024-02-20T00:00:00\",\"2024-02-21T00:00:00\",\"2024-02-22T00:00:00\",\"2024-02-23T00:00:00\",\"2024-02-26T00:00:00\",\"2024-02-27T00:00:00\",\"2024-02-28T00:00:00\",\"2024-02-29T00:00:00\",\"2024-03-01T00:00:00\",\"2024-03-04T00:00:00\",\"2024-03-05T00:00:00\",\"2024-03-06T00:00:00\",\"2024-03-07T00:00:00\",\"2024-03-08T00:00:00\",\"2024-03-11T00:00:00\",\"2024-03-12T00:00:00\",\"2024-03-13T00:00:00\",\"2024-03-14T00:00:00\",\"2024-03-15T00:00:00\",\"2024-03-18T00:00:00\",\"2024-03-19T00:00:00\",\"2024-03-20T00:00:00\",\"2024-03-21T00:00:00\",\"2024-03-22T00:00:00\",\"2024-03-25T00:00:00\",\"2024-03-26T00:00:00\",\"2024-03-27T00:00:00\",\"2024-03-28T00:00:00\",\"2024-04-01T00:00:00\",\"2024-04-02T00:00:00\",\"2024-04-03T00:00:00\",\"2024-04-04T00:00:00\",\"2024-04-05T00:00:00\",\"2024-04-08T00:00:00\",\"2024-04-09T00:00:00\",\"2024-04-10T00:00:00\",\"2024-04-11T00:00:00\"],\"type\":\"candlestick\"},{\"marker\":{\"color\":\"blue\",\"size\":10},\"mode\":\"markers\",\"name\":\"D\\u00edas envolventes\",\"x\":[\"2023-10-17T00:00:00\",\"2023-11-13T00:00:00\",\"2023-11-17T00:00:00\",\"2023-11-28T00:00:00\",\"2023-12-01T00:00:00\",\"2023-12-05T00:00:00\",\"2023-12-08T00:00:00\",\"2023-12-11T00:00:00\",\"2023-12-12T00:00:00\",\"2024-01-05T00:00:00\",\"2024-01-09T00:00:00\",\"2024-03-19T00:00:00\",\"2024-04-03T00:00:00\"],\"y\":[15187.0595703125,15524.66015625,15876.8701171875,16031.51953125,16013.75,15931.83984375,16100.8603515625,16232.259765625,16354.25,16415.390625,16710.880859375,18039.8203125,18238.669921875],\"type\":\"scatter\"}],                        {\"template\":{\"data\":{\"histogram2dcontour\":[{\"type\":\"histogram2dcontour\",\"colorbar\":{\"outlinewidth\":0,\"ticks\":\"\"},\"colorscale\":[[0.0,\"#0d0887\"],[0.1111111111111111,\"#46039f\"],[0.2222222222222222,\"#7201a8\"],[0.3333333333333333,\"#9c179e\"],[0.4444444444444444,\"#bd3786\"],[0.5555555555555556,\"#d8576b\"],[0.6666666666666666,\"#ed7953\"],[0.7777777777777778,\"#fb9f3a\"],[0.8888888888888888,\"#fdca26\"],[1.0,\"#f0f921\"]]}],\"choropleth\":[{\"type\":\"choropleth\",\"colorbar\":{\"outlinewidth\":0,\"ticks\":\"\"}}],\"histogram2d\":[{\"type\":\"histogram2d\",\"colorbar\":{\"outlinewidth\":0,\"ticks\":\"\"},\"colorscale\":[[0.0,\"#0d0887\"],[0.1111111111111111,\"#46039f\"],[0.2222222222222222,\"#7201a8\"],[0.3333333333333333,\"#9c179e\"],[0.4444444444444444,\"#bd3786\"],[0.5555555555555556,\"#d8576b\"],[0.6666666666666666,\"#ed7953\"],[0.7777777777777778,\"#fb9f3a\"],[0.8888888888888888,\"#fdca26\"],[1.0,\"#f0f921\"]]}],\"heatmap\":[{\"type\":\"heatmap\",\"colorbar\":{\"outlinewidth\":0,\"ticks\":\"\"},\"colorscale\":[[0.0,\"#0d0887\"],[0.1111111111111111,\"#46039f\"],[0.2222222222222222,\"#7201a8\"],[0.3333333333333333,\"#9c179e\"],[0.4444444444444444,\"#bd3786\"],[0.5555555555555556,\"#d8576b\"],[0.6666666666666666,\"#ed7953\"],[0.7777777777777778,\"#fb9f3a\"],[0.8888888888888888,\"#fdca26\"],[1.0,\"#f0f921\"]]}],\"heatmapgl\":[{\"type\":\"heatmapgl\",\"colorbar\":{\"outlinewidth\":0,\"ticks\":\"\"},\"colorscale\":[[0.0,\"#0d0887\"],[0.1111111111111111,\"#46039f\"],[0.2222222222222222,\"#7201a8\"],[0.3333333333333333,\"#9c179e\"],[0.4444444444444444,\"#bd3786\"],[0.5555555555555556,\"#d8576b\"],[0.6666666666666666,\"#ed7953\"],[0.7777777777777778,\"#fb9f3a\"],[0.8888888888888888,\"#fdca26\"],[1.0,\"#f0f921\"]]}],\"contourcarpet\":[{\"type\":\"contourcarpet\",\"colorbar\":{\"outlinewidth\":0,\"ticks\":\"\"}}],\"contour\":[{\"type\":\"contour\",\"colorbar\":{\"outlinewidth\":0,\"ticks\":\"\"},\"colorscale\":[[0.0,\"#0d0887\"],[0.1111111111111111,\"#46039f\"],[0.2222222222222222,\"#7201a8\"],[0.3333333333333333,\"#9c179e\"],[0.4444444444444444,\"#bd3786\"],[0.5555555555555556,\"#d8576b\"],[0.6666666666666666,\"#ed7953\"],[0.7777777777777778,\"#fb9f3a\"],[0.8888888888888888,\"#fdca26\"],[1.0,\"#f0f921\"]]}],\"surface\":[{\"type\":\"surface\",\"colorbar\":{\"outlinewidth\":0,\"ticks\":\"\"},\"colorscale\":[[0.0,\"#0d0887\"],[0.1111111111111111,\"#46039f\"],[0.2222222222222222,\"#7201a8\"],[0.3333333333333333,\"#9c179e\"],[0.4444444444444444,\"#bd3786\"],[0.5555555555555556,\"#d8576b\"],[0.6666666666666666,\"#ed7953\"],[0.7777777777777778,\"#fb9f3a\"],[0.8888888888888888,\"#fdca26\"],[1.0,\"#f0f921\"]]}],\"mesh3d\":[{\"type\":\"mesh3d\",\"colorbar\":{\"outlinewidth\":0,\"ticks\":\"\"}}],\"scatter\":[{\"fillpattern\":{\"fillmode\":\"overlay\",\"size\":10,\"solidity\":0.2},\"type\":\"scatter\"}],\"parcoords\":[{\"type\":\"parcoords\",\"line\":{\"colorbar\":{\"outlinewidth\":0,\"ticks\":\"\"}}}],\"scatterpolargl\":[{\"type\":\"scatterpolargl\",\"marker\":{\"colorbar\":{\"outlinewidth\":0,\"ticks\":\"\"}}}],\"bar\":[{\"error_x\":{\"color\":\"#2a3f5f\"},\"error_y\":{\"color\":\"#2a3f5f\"},\"marker\":{\"line\":{\"color\":\"#E5ECF6\",\"width\":0.5},\"pattern\":{\"fillmode\":\"overlay\",\"size\":10,\"solidity\":0.2}},\"type\":\"bar\"}],\"scattergeo\":[{\"type\":\"scattergeo\",\"marker\":{\"colorbar\":{\"outlinewidth\":0,\"ticks\":\"\"}}}],\"scatterpolar\":[{\"type\":\"scatterpolar\",\"marker\":{\"colorbar\":{\"outlinewidth\":0,\"ticks\":\"\"}}}],\"histogram\":[{\"marker\":{\"pattern\":{\"fillmode\":\"overlay\",\"size\":10,\"solidity\":0.2}},\"type\":\"histogram\"}],\"scattergl\":[{\"type\":\"scattergl\",\"marker\":{\"colorbar\":{\"outlinewidth\":0,\"ticks\":\"\"}}}],\"scatter3d\":[{\"type\":\"scatter3d\",\"line\":{\"colorbar\":{\"outlinewidth\":0,\"ticks\":\"\"}},\"marker\":{\"colorbar\":{\"outlinewidth\":0,\"ticks\":\"\"}}}],\"scattermapbox\":[{\"type\":\"scattermapbox\",\"marker\":{\"colorbar\":{\"outlinewidth\":0,\"ticks\":\"\"}}}],\"scatterternary\":[{\"type\":\"scatterternary\",\"marker\":{\"colorbar\":{\"outlinewidth\":0,\"ticks\":\"\"}}}],\"scattercarpet\":[{\"type\":\"scattercarpet\",\"marker\":{\"colorbar\":{\"outlinewidth\":0,\"ticks\":\"\"}}}],\"carpet\":[{\"aaxis\":{\"endlinecolor\":\"#2a3f5f\",\"gridcolor\":\"white\",\"linecolor\":\"white\",\"minorgridcolor\":\"white\",\"startlinecolor\":\"#2a3f5f\"},\"baxis\":{\"endlinecolor\":\"#2a3f5f\",\"gridcolor\":\"white\",\"linecolor\":\"white\",\"minorgridcolor\":\"white\",\"startlinecolor\":\"#2a3f5f\"},\"type\":\"carpet\"}],\"table\":[{\"cells\":{\"fill\":{\"color\":\"#EBF0F8\"},\"line\":{\"color\":\"white\"}},\"header\":{\"fill\":{\"color\":\"#C8D4E3\"},\"line\":{\"color\":\"white\"}},\"type\":\"table\"}],\"barpolar\":[{\"marker\":{\"line\":{\"color\":\"#E5ECF6\",\"width\":0.5},\"pattern\":{\"fillmode\":\"overlay\",\"size\":10,\"solidity\":0.2}},\"type\":\"barpolar\"}],\"pie\":[{\"automargin\":true,\"type\":\"pie\"}]},\"layout\":{\"autotypenumbers\":\"strict\",\"colorway\":[\"#636efa\",\"#EF553B\",\"#00cc96\",\"#ab63fa\",\"#FFA15A\",\"#19d3f3\",\"#FF6692\",\"#B6E880\",\"#FF97FF\",\"#FECB52\"],\"font\":{\"color\":\"#2a3f5f\"},\"hovermode\":\"closest\",\"hoverlabel\":{\"align\":\"left\"},\"paper_bgcolor\":\"white\",\"plot_bgcolor\":\"#E5ECF6\",\"polar\":{\"bgcolor\":\"#E5ECF6\",\"angularaxis\":{\"gridcolor\":\"white\",\"linecolor\":\"white\",\"ticks\":\"\"},\"radialaxis\":{\"gridcolor\":\"white\",\"linecolor\":\"white\",\"ticks\":\"\"}},\"ternary\":{\"bgcolor\":\"#E5ECF6\",\"aaxis\":{\"gridcolor\":\"white\",\"linecolor\":\"white\",\"ticks\":\"\"},\"baxis\":{\"gridcolor\":\"white\",\"linecolor\":\"white\",\"ticks\":\"\"},\"caxis\":{\"gridcolor\":\"white\",\"linecolor\":\"white\",\"ticks\":\"\"}},\"coloraxis\":{\"colorbar\":{\"outlinewidth\":0,\"ticks\":\"\"}},\"colorscale\":{\"sequential\":[[0.0,\"#0d0887\"],[0.1111111111111111,\"#46039f\"],[0.2222222222222222,\"#7201a8\"],[0.3333333333333333,\"#9c179e\"],[0.4444444444444444,\"#bd3786\"],[0.5555555555555556,\"#d8576b\"],[0.6666666666666666,\"#ed7953\"],[0.7777777777777778,\"#fb9f3a\"],[0.8888888888888888,\"#fdca26\"],[1.0,\"#f0f921\"]],\"sequentialminus\":[[0.0,\"#0d0887\"],[0.1111111111111111,\"#46039f\"],[0.2222222222222222,\"#7201a8\"],[0.3333333333333333,\"#9c179e\"],[0.4444444444444444,\"#bd3786\"],[0.5555555555555556,\"#d8576b\"],[0.6666666666666666,\"#ed7953\"],[0.7777777777777778,\"#fb9f3a\"],[0.8888888888888888,\"#fdca26\"],[1.0,\"#f0f921\"]],\"diverging\":[[0,\"#8e0152\"],[0.1,\"#c51b7d\"],[0.2,\"#de77ae\"],[0.3,\"#f1b6da\"],[0.4,\"#fde0ef\"],[0.5,\"#f7f7f7\"],[0.6,\"#e6f5d0\"],[0.7,\"#b8e186\"],[0.8,\"#7fbc41\"],[0.9,\"#4d9221\"],[1,\"#276419\"]]},\"xaxis\":{\"gridcolor\":\"white\",\"linecolor\":\"white\",\"ticks\":\"\",\"title\":{\"standoff\":15},\"zerolinecolor\":\"white\",\"automargin\":true,\"zerolinewidth\":2},\"yaxis\":{\"gridcolor\":\"white\",\"linecolor\":\"white\",\"ticks\":\"\",\"title\":{\"standoff\":15},\"zerolinecolor\":\"white\",\"automargin\":true,\"zerolinewidth\":2},\"scene\":{\"xaxis\":{\"backgroundcolor\":\"#E5ECF6\",\"gridcolor\":\"white\",\"linecolor\":\"white\",\"showbackground\":true,\"ticks\":\"\",\"zerolinecolor\":\"white\",\"gridwidth\":2},\"yaxis\":{\"backgroundcolor\":\"#E5ECF6\",\"gridcolor\":\"white\",\"linecolor\":\"white\",\"showbackground\":true,\"ticks\":\"\",\"zerolinecolor\":\"white\",\"gridwidth\":2},\"zaxis\":{\"backgroundcolor\":\"#E5ECF6\",\"gridcolor\":\"white\",\"linecolor\":\"white\",\"showbackground\":true,\"ticks\":\"\",\"zerolinecolor\":\"white\",\"gridwidth\":2}},\"shapedefaults\":{\"line\":{\"color\":\"#2a3f5f\"}},\"annotationdefaults\":{\"arrowcolor\":\"#2a3f5f\",\"arrowhead\":0,\"arrowwidth\":1},\"geo\":{\"bgcolor\":\"white\",\"landcolor\":\"#E5ECF6\",\"subunitcolor\":\"white\",\"showland\":true,\"showlakes\":true,\"lakecolor\":\"white\"},\"title\":{\"x\":0.05},\"mapbox\":{\"style\":\"light\"}}},\"title\":{\"text\":\"Gr\\u00e1fico de velas del NAS30 con patr\\u00f3n de vela envolvente\"}},                        {\"responsive\": true}                    ).then(function(){\n",
       "                            \n",
       "var gd = document.getElementById('82301e4e-878b-495f-90f0-378a4479b0c3');\n",
       "var x = new MutationObserver(function (mutations, observer) {{\n",
       "        var display = window.getComputedStyle(gd).display;\n",
       "        if (!display || display === 'none') {{\n",
       "            console.log([gd, 'removed!']);\n",
       "            Plotly.purge(gd);\n",
       "            observer.disconnect();\n",
       "        }}\n",
       "}});\n",
       "\n",
       "// Listen for the removal of the full notebook cells\n",
       "var notebookContainer = gd.closest('#notebook-container');\n",
       "if (notebookContainer) {{\n",
       "    x.observe(notebookContainer, {childList: true});\n",
       "}}\n",
       "\n",
       "// Listen for the clearing of the current output cell\n",
       "var outputEl = gd.closest('.output');\n",
       "if (outputEl) {{\n",
       "    x.observe(outputEl, {childList: true});\n",
       "}}\n",
       "\n",
       "                        })                };                });            </script>        </div>"
      ]
     },
     "metadata": {},
     "output_type": "display_data"
    }
   ],
   "source": [
    "import datetime\n",
    "import plotly.graph_objects as go\n",
    "import yfinance as yf\n",
    "\n",
    "# Obtener los datos históricos del NAS30\n",
    "nasdaq_30 = yf.download(\"^NDX\", start=datetime.datetime.now() - datetime.timedelta(days=180), end=datetime.datetime.now())\n",
    "\n",
    "# Mostrar los últimos datos descargados\n",
    "print(\"Últimos datos descargados del NAS30:\")\n",
    "print(nasdaq_30.tail())\n",
    "\n",
    "# Función para identificar patrón de vela envolvente\n",
    "def encontrar_vela_envolvente(data):\n",
    "    dias_envolventes = []\n",
    "    for i in range(1, len(data)):\n",
    "        if (data['Open'][i] < data['Close'][i-1] and data['Close'][i] > data['Open'][i-1] and\n",
    "            data['Close'][i] > data['Open'][i] and data['Open'][i] < data['Close'][i-1]):\n",
    "            dias_envolventes.append(data.index[i])\n",
    "    return dias_envolventes\n",
    "\n",
    "# Encontrar días con patrón de vela envolvente\n",
    "dias_envolventes = encontrar_vela_envolvente(nasdaq_30)\n",
    "\n",
    "# Configurar la vela\n",
    "candlestick = go.Candlestick(\n",
    "    x=nasdaq_30.index,\n",
    "    open=nasdaq_30[\"Open\"],\n",
    "    high=nasdaq_30[\"High\"],\n",
    "    low=nasdaq_30[\"Low\"],\n",
    "    close=nasdaq_30[\"Close\"],\n",
    "    increasing=dict(line=dict(color=\"green\")),\n",
    "    decreasing=dict(line=dict(color=\"red\"))\n",
    ")\n",
    "\n",
    "# Crear el gráfico de Velas\n",
    "fig = go.Figure(data=[candlestick])\n",
    "\n",
    "# Resaltar los días con patrón de vela envolvente\n",
    "fig.add_trace(go.Scatter(x=dias_envolventes, y=[nasdaq_30.loc[date]['High'] for date in dias_envolventes],\n",
    "                         mode=\"markers\", marker=dict(color=\"blue\", size=10), name=\"Días envolventes\"))\n",
    "\n",
    "# Agregar un título al gráfico\n",
    "fig.update_layout(title_text=\"Gráfico de velas del NAS30 con patrón de vela envolvente\")\n",
    "\n",
    "# Mostrar el gráfico\n",
    "fig.show()\n"
   ]
  },
  {
   "cell_type": "code",
   "execution_count": 68,
   "id": "5002db3c-0c69-445b-8f12-383483d35c73",
   "metadata": {},
   "outputs": [
    {
     "name": "stderr",
     "output_type": "stream",
     "text": [
      "[*********************100%%**********************]  1 of 1 completed\n"
     ]
    },
    {
     "data": {
      "image/png": "[encoded data removed]",
      "text/plain": [
       "<Figure size 1200x600 with 1 Axes>"
      ]
     },
     "metadata": {},
     "output_type": "display_data"
    },
    {
     "data": {
      "image/png": "[encoded data removed]",
      "text/plain": [
       "<Figure size 1200x600 with 1 Axes>"
      ]
     },
     "metadata": {},
     "output_type": "display_data"
    }
   ],
   "source": [
    "import datetime\n",
    "import yfinance as yf\n",
    "import numpy as np\n",
    "import pandas as pd\n",
    "import matplotlib.pyplot as plt\n",
    "\n",
    "# Función para obtener datos históricos del Nasdaq Composite Index (IXIC)\n",
    "def fetch_nasdaq_data(start_date, end_date):\n",
    "    try:\n",
    "        nasdaq_data = yf.download('^IXIC', start=start_date, end=end_date)\n",
    "        return nasdaq_data\n",
    "    except Exception as e:\n",
    "        print(f\"Error al obtener los datos: {e}\")\n",
    "        return None\n",
    "\n",
    "# Función para trazar gráfico de precios del Nasdaq Composite Index (IXIC)\n",
    "def plot_price_chart(data):\n",
    "    plt.figure(figsize=(12, 6))\n",
    "    plt.plot(data['Close'], label='Close Price', color='blue')\n",
    "    plt.title('Nasdaq Composite Index (IXIC) - Price Chart')\n",
    "    plt.xlabel('Date')\n",
    "    plt.ylabel('Price (USD)')\n",
    "    plt.legend()\n",
    "    plt.grid(True)\n",
    "    plt.show()\n",
    "\n",
    "# Función para calcular y trazar gráfico de medias móviles\n",
    "def plot_moving_averages(data, short_window=50, long_window=200):\n",
    "    short_rolling = data['Close'].rolling(window=short_window).mean()\n",
    "    long_rolling = data['Close'].rolling(window=long_window).mean()\n",
    "\n",
    "    plt.figure(figsize=(12, 6))\n",
    "    plt.plot(data.index, data['Close'], label='Close Price', color='blue')\n",
    "    plt.plot(short_rolling.index, short_rolling, label=f'{short_window}-day SMA', color='orange')\n",
    "    plt.plot(long_rolling.index, long_rolling, label=f'{long_window}-day SMA', color='green')\n",
    "    plt.title('Nasdaq Composite Index (IXIC) - Moving Averages')\n",
    "    plt.xlabel('Date')\n",
    "    plt.ylabel('Price (USD)')\n",
    "    plt.legend()\n",
    "    plt.grid(True)\n",
    "    plt.show()\n",
    "\n",
    "# Función para obtener información financiera fundamental del Nasdaq Composite Index (IXIC)\n",
    "def get_fundamental_info():\n",
    "    # Aquí puedes usar APIs de terceros o bibliotecas para obtener datos fundamentales\n",
    "    # Esto puede incluir estados financieros, ratios financieros, información sobre empresas, etc.\n",
    "    pass\n",
    "\n",
    "# Función para analizar datos fundamentales\n",
    "def analyze_fundamental_data(data):\n",
    "    # Aquí puedes realizar análisis fundamental utilizando los datos obtenidos\n",
    "    pass\n",
    "\n",
    "# Función principal\n",
    "def main():\n",
    "    # Definir fechas de inicio y fin para obtener datos históricos\n",
    "    start_date = datetime.datetime(2020, 1, 1)\n",
    "    end_date = datetime.datetime(2022, 1, 1)\n",
    "\n",
    "    # Obtener datos históricos del Nasdaq Composite Index (IXIC)\n",
    "    nasdaq_data = fetch_nasdaq_data(start_date, end_date)\n",
    "\n",
    "    if nasdaq_data is not None:\n",
    "        # Trazar gráfico de precios\n",
    "        plot_price_chart(nasdaq_data)\n",
    "\n",
    "        # Calcular y trazar gráfico de medias móviles\n",
    "        plot_moving_averages(nasdaq_data)\n",
    "\n",
    "        # Obtener información financiera fundamental\n",
    "        fundamental_info = get_fundamental_info()\n",
    "\n",
    "        # Analizar datos fundamentales\n",
    "        analyze_fundamental_data(fundamental_info)\n",
    "\n",
    "if __name__ == \"__main__\":\n",
    "    main()\n"
   ]
  },
  {
   "cell_type": "code",
   "execution_count": 10,
   "id": "b8486007-2eee-4c0f-a5f3-e73955fda625",
   "metadata": {},
   "outputs": [
    {
     "ename": "AttributeError",
     "evalue": "'NoneType' object has no attribute 'items'",
     "output_type": "error",
     "traceback": [
      "\u001b[0;31m---------------------------------------------------------------------------\u001b[0m",
      "\u001b[0;31mAttributeError\u001b[0m                            Traceback (most recent call last)",
      "Cell \u001b[0;32mIn[10], line 54\u001b[0m\n\u001b[1;32m     51\u001b[0m data \u001b[38;5;241m=\u001b[39m fetch_data(symbol, api_key, start_date\u001b[38;5;241m=\u001b[39m\u001b[38;5;124m'\u001b[39m\u001b[38;5;124m2022-01-01\u001b[39m\u001b[38;5;124m'\u001b[39m, interval\u001b[38;5;241m=\u001b[39m\u001b[38;5;124m'\u001b[39m\u001b[38;5;124m1min\u001b[39m\u001b[38;5;124m'\u001b[39m)\n\u001b[1;32m     53\u001b[0m \u001b[38;5;66;03m# Preprocesar los datos\u001b[39;00m\n\u001b[0;32m---> 54\u001b[0m X, y \u001b[38;5;241m=\u001b[39m \u001b[43mpreprocess_data\u001b[49m\u001b[43m(\u001b[49m\u001b[43mdata\u001b[49m\u001b[43m)\u001b[49m\n\u001b[1;32m     56\u001b[0m \u001b[38;5;66;03m# Dividir los datos en conjuntos de entrenamiento y prueba\u001b[39;00m\n\u001b[1;32m     57\u001b[0m X_train, X_test, y_train, y_test \u001b[38;5;241m=\u001b[39m train_test_split(X, y, test_size\u001b[38;5;241m=\u001b[39m\u001b[38;5;241m0.2\u001b[39m, random_state\u001b[38;5;241m=\u001b[39m\u001b[38;5;241m42\u001b[39m)\n",
      "Cell \u001b[0;32mIn[10], line 30\u001b[0m, in \u001b[0;36mpreprocess_data\u001b[0;34m(data)\u001b[0m\n\u001b[1;32m     27\u001b[0m y \u001b[38;5;241m=\u001b[39m []\n\u001b[1;32m     29\u001b[0m \u001b[38;5;66;03m# Convertir los datos en listas de características (X) y objetivos (y)\u001b[39;00m\n\u001b[0;32m---> 30\u001b[0m \u001b[38;5;28;01mfor\u001b[39;00m timestamp, values \u001b[38;5;129;01min\u001b[39;00m \u001b[43mdata\u001b[49m\u001b[38;5;241;43m.\u001b[39;49m\u001b[43mitems\u001b[49m():\n\u001b[1;32m     31\u001b[0m     open_price \u001b[38;5;241m=\u001b[39m \u001b[38;5;28mfloat\u001b[39m(values[\u001b[38;5;124m'\u001b[39m\u001b[38;5;124m1. open\u001b[39m\u001b[38;5;124m'\u001b[39m])\n\u001b[1;32m     32\u001b[0m     high_price \u001b[38;5;241m=\u001b[39m \u001b[38;5;28mfloat\u001b[39m(values[\u001b[38;5;124m'\u001b[39m\u001b[38;5;124m2. high\u001b[39m\u001b[38;5;124m'\u001b[39m])\n",
      "\u001b[0;31mAttributeError\u001b[0m: 'NoneType' object has no attribute 'items'"
     ]
    }
   ],
   "source": [
    "#random forest\n",
    "import numpy as np\n",
    "from sklearn.model_selection import train_test_split\n",
    "from sklearn.ensemble import RandomForestClassifier\n",
    "from sklearn.metrics import accuracy_score\n",
    "\n",
    "import datetime\n",
    "\n",
    "# Función para obtener datos de Alpha Vantage hasta la hora actual\n",
    "def fetch_data(symbol, api_key, start_date=None, end_date=None, interval='1min'):\n",
    "    if start_date is None:\n",
    "        start_date = datetime.datetime.now().strftime('%Y-%m-%d')\n",
    "    if end_date is None:\n",
    "        end_date = datetime.datetime.now().strftime('%Y-%m-%d')\n",
    "        \n",
    "    # Aquí va la lógica para obtener los datos en tiempo real utilizando la API de Alpha Vantage\n",
    "    # Puedes usar la biblioteca requests para hacer la solicitud a la API y procesar la respuesta\n",
    "    # Te recomiendo consultar la documentación de Alpha Vantage para conocer los detalles de cómo hacer la solicitud\n",
    "    \n",
    "    # Implementación de la función...\n",
    "    pass\n",
    "\n",
    "\n",
    "# Función para convertir los datos en un formato adecuado para el modelo\n",
    "def preprocess_data(data):\n",
    "    X = []\n",
    "    y = []\n",
    "\n",
    "    # Convertir los datos en listas de características (X) y objetivos (y)\n",
    "    for timestamp, values in data.items():\n",
    "        open_price = float(values['1. open'])\n",
    "        high_price = float(values['2. high'])\n",
    "        low_price = float(values['3. low'])\n",
    "        close_price = float(values['4. close'])\n",
    "        volume = float(values['5. volume'])\n",
    "\n",
    "        # Aquí puedes calcular cualquier otra característica que desees utilizar\n",
    "        # Por ejemplo, puedes calcular el cambio de precio respecto al precio de cierre anterior\n",
    "\n",
    "        X.append([open_price, high_price, low_price, close_price, volume])\n",
    "        # Aquí puedes decidir si el precio subió o bajó en el siguiente periodo de tiempo\n",
    "        # Por ejemplo, si el precio en el siguiente intervalo es mayor que el precio actual, y.append(1), de lo contrario y.append(0)\n",
    "    \n",
    "    return np.array(X), np.array(y)\n",
    "\n",
    "# Ejemplo de uso:\n",
    "symbol = 'AAPL'  # Ejemplo de símbolo de Apple\n",
    "api_key = 'YYYC6JRUF7KDUUZR'  # Reemplaza 'TU_CLAVE_API' por tu clave de API de Alpha Vantage\n",
    "\n",
    "# Obtener los datos en tiempo real\n",
    "data = fetch_data(symbol, api_key, start_date='2022-01-01', interval='1min')\n",
    "\n",
    "# Preprocesar los datos\n",
    "X, y = preprocess_data(data)\n",
    "\n",
    "# Dividir los datos en conjuntos de entrenamiento y prueba\n",
    "X_train, X_test, y_train, y_test = train_test_split(X, y, test_size=0.2, random_state=42)\n",
    "\n",
    "# Crear el clasificador de Random Forest\n",
    "rf_classifier = RandomForestClassifier(random_state=42)\n",
    "\n",
    "# Entrenar el modelo\n",
    "rf_classifier.fit(X_train, y_train)\n",
    "\n",
    "# Hacer predicciones\n",
    "y_pred_rf = rf_classifier.predict(X_test)\n",
    "\n",
    "# Evaluar la precisión del modelo\n",
    "accuracy = accuracy_score(y_test, y_pred_rf)\n",
    "print(\"Precisión del modelo:\", accuracy)\n"
   ]
  },
  {
   "cell_type": "code",
   "execution_count": null,
   "id": "814df4f5-e673-4fc7-8c0a-9ebf0882210b",
   "metadata": {},
   "outputs": [],
   "source": [
    "#Support Vector Machines (SVM)\n",
    "from sklearn.svm import SVC\n",
    "\n",
    "# Crear el clasificador SVM\n",
    "svm_classifier = SVC(kernel='rbf', random_state=42)\n",
    "\n",
    "# Entrenar el modelo\n",
    "svm_classifier.fit(X_train, y_train)\n",
    "\n",
    "# Hacer predicciones\n",
    "y_pred_svm = svm_classifier.predict(X_test)\n",
    "\n"
   ]
  },
  {
   "cell_type": "code",
   "execution_count": null,
   "id": "506832bd-26b5-4f76-90eb-6f446690048e",
   "metadata": {},
   "outputs": [],
   "source": [
    "#Redes Neuronales\n",
    "from sklearn.neural_network import MLPClassifier\n",
    "\n",
    "# Crear el clasificador de Redes Neuronales\n",
    "nn_classifier = MLPClassifier(hidden_layer_sizes=(100,), max_iter=1000, random_state=42)\n",
    "\n",
    "# Entrenar el modelo\n",
    "nn_classifier.fit(X_train, y_train)\n",
    "\n",
    "# Hacer predicciones\n",
    "y_pred_nn = nn_classifier.predict(X_test)\n"
   ]
  }
 ],
 "metadata": {
  "kernelspec": {
   "display_name": "Python 3 (ipykernel)",
   "language": "python",
   "name": "python3"
  },
  "language_info": {
   "codemirror_mode": {
    "name": "ipython",
    "version": 3
   },
   "file_extension": ".py",
   "mimetype": "text/x-python",
   "name": "python",
   "nbconvert_exporter": "python",
   "pygments_lexer": "ipython3",
   "version": "3.9.18"
  }
 },
 "nbformat": 4,
 "nbformat_minor": 5
}
