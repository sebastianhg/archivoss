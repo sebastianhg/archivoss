{
 "cells": [
  {
   "cell_type": "code",
   "execution_count": 2,
   "id": "2a125ba3-b0e8-40b4-8d9f-eb9a5b2d9b9e",
   "metadata": {
    "tags": []
   },
   "outputs": [
    {
     "name": "stdout",
     "output_type": "stream",
     "text": [
      "¡Se ha generado el archivo NetCDF con los datos completos!\n"
     ]
    }
   ],
   "source": [
    "import pandas as pd\n",
    "from netCDF4 import Dataset\n",
    "import os\n",
    "\n",
    "ruta_carpeta = '/home/sebastian/Documentos/analisisNETCDF/dataset'\n",
    "archivos_csv = [archivo for archivo in os.listdir(ruta_carpeta) if archivo.endswith('.csv')]\n",
    "ruta_salida_netcdf = os.path.join(ruta_carpeta, 'datos_completos.nc')\n",
    "\n",
    "# Leer los datos CSV en un DataFrame\n",
    "datos_completos = pd.concat([pd.read_csv(os.path.join(ruta_carpeta, archivo)) for archivo in archivos_csv])\n",
    "\n",
    "# Excluir columnas no numéricas\n",
    "datos_numericos = datos_completos.select_dtypes(include=['number'])\n",
    "\n",
    "# Convertir los valores del índice a strings\n",
    "datos_numericos.index = datos_numericos.index.astype(str)\n",
    "\n",
    "# Crear un nuevo archivo NetCDF\n",
    "with Dataset(ruta_salida_netcdf, 'w') as ncfile:\n",
    "    # Crear las dimensiones del archivo NetCDF\n",
    "    tiempo_dim = ncfile.createDimension('tiempo', len(datos_numericos))\n",
    "    variables_dim = ncfile.createDimension('variables', len(datos_numericos.columns))\n",
    "\n",
    "    # Crear las variables del archivo NetCDF\n",
    "    tiempo_var = ncfile.createVariable('tiempo', str, ('tiempo',))\n",
    "    variables_var = ncfile.createVariable('variables', str, ('variables',))\n",
    "    datos_var = ncfile.createVariable('datos', 'f4', ('tiempo', 'variables'))\n",
    "\n",
    "    # Asignar los datos a las variables\n",
    "    tiempo_var[:] = datos_numericos.index.values\n",
    "    variables_var[:] = datos_numericos.columns.values\n",
    "    datos_var[:, :] = datos_numericos.values\n",
    "\n",
    "print('¡Se ha generado el archivo NetCDF con los datos completos!')\n",
    "\n",
    "\n"
   ]
  }
 ],
 "metadata": {
  "kernelspec": {
   "display_name": "Python 3 (ipykernel)",
   "language": "python",
   "name": "python3"
  },
  "language_info": {
   "codemirror_mode": {
    "name": "ipython",
    "version": 3
   },
   "file_extension": ".py",
   "mimetype": "text/x-python",
   "name": "python",
   "nbconvert_exporter": "python",
   "pygments_lexer": "ipython3",
   "version": "3.10.9"
  }
 },
 "nbformat": 4,
 "nbformat_minor": 5
}
