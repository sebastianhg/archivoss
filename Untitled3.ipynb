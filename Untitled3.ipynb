{
 "cells": [
  {
   "cell_type": "code",
   "execution_count": 10,
   "id": "d1c210a6-14fd-4cdf-a9de-2b2310db1185",
   "metadata": {
    "tags": []
   },
   "outputs": [
    {
     "name": "stdout",
     "output_type": "stream",
     "text": [
      "Procesamiento y guardado de imágenes completado.\n"
     ]
    }
   ],
   "source": [
    "import cv2\n",
    "import numpy as np\n",
    "import os\n",
    "\n",
    "# Ruta de la carpeta que contiene las imágenes\n",
    "ruta_carpeta = '/home/sebastian/Documentos/analisisNETCDF/datosGraficados/2022/2022-01'\n",
    "\n",
    "# Ruta de la carpeta donde se guardarán las imágenes binarizadas\n",
    "carpeta_salida = '/home/sebastian/Documentos/analisisNETCDF/datosGraficados/2022-01_binarizadoAxis'\n",
    "os.makedirs(carpeta_salida, exist_ok=True)\n",
    "\n",
    "# Definir el rango de colores azules en el espacio de color HSV\n",
    "lower_blue = np.array([100, 50, 50])\n",
    "upper_blue = np.array([130, 255, 255])\n",
    "\n",
    "# Coordenadas para definir los rectángulos a ignorar (parte izquierda y parte derecha)\n",
    "ignore_x_start_left = 0  # Ajusta estas coordenadas según la ubicación del cuadrado en la parte izquierda\n",
    "ignore_x_end_left = 200\n",
    "ignore_y_start = 0\n",
    "ignore_y_end = 1000  # Ajusta esta coordenada según la altura de tu imagen\n",
    "\n",
    "ignore_x_start_right = 800  # Ajusta estas coordenadas según la ubicación del cuadrado en la parte derecha\n",
    "ignore_x_end_right = 1000\n",
    "\n",
    "# Función para procesar una imagen y encontrar objetos azules\n",
    "def process_image(image_path):\n",
    "    # Leer la imagen\n",
    "    image = cv2.imread(image_path)\n",
    "\n",
    "    # Obtener las dimensiones de la imagen\n",
    "    height, width, _ = image.shape\n",
    "\n",
    "    # Definir las coordenadas de la región de interés (ROI) que excluye ambos rectángulos\n",
    "    roi_x_start = ignore_x_end_left\n",
    "    roi_x_end = width - (ignore_x_end_right - ignore_x_start_right)\n",
    "    roi_y_start = ignore_y_start\n",
    "    roi_y_end = ignore_y_end\n",
    "\n",
    "    # Recortar la región de interés (ROI) de la imagen\n",
    "    roi = image[roi_y_start:roi_y_end, roi_x_start:roi_x_end]\n",
    "\n",
    "    # Convertir la ROI a escala de color HSV\n",
    "    hsv_roi = cv2.cvtColor(roi, cv2.COLOR_BGR2HSV)\n",
    "\n",
    "    # Crear una máscara para los objetos azules en la ROI\n",
    "    blue_mask = cv2.inRange(hsv_roi, lower_blue, upper_blue)\n",
    "\n",
    "    # Aplicar dilatación a la máscara para ampliar las áreas blancas (manchas)\n",
    "    kernel = np.ones((5, 5), np.uint8)\n",
    "    dilated_mask = cv2.dilate(blue_mask, kernel, iterations=1)\n",
    "\n",
    "    # Encontrar los contornos de los objetos azules en la máscara dilatada\n",
    "    blue_contours, _ = cv2.findContours(dilated_mask, cv2.RETR_EXTERNAL, cv2.CHAIN_APPROX_SIMPLE)\n",
    "\n",
    "    # Crear una imagen en blanco del mismo tamaño que la ROI\n",
    "    result_image = np.zeros_like(roi)\n",
    "\n",
    "    # Dibujar los contornos de los objetos azules en la imagen en blanco\n",
    "    for contour in blue_contours:\n",
    "        cv2.drawContours(result_image, [contour], -1, (255, 255, 255), thickness=cv2.FILLED)\n",
    "\n",
    "    # Guardar la imagen binarizada en la carpeta de salida\n",
    "    output_path = os.path.join(carpeta_salida, os.path.basename(image_path))\n",
    "    cv2.imwrite(output_path, result_image)\n",
    "\n",
    "# Procesar todas las imágenes en la carpeta\n",
    "for filename in os.listdir(ruta_carpeta):\n",
    "    if filename.endswith('.jpg') or filename.endswith('.png'):  # Filtrar archivos de imagen\n",
    "        image_path = os.path.join(ruta_carpeta, filename)\n",
    "        process_image(image_path)\n",
    "\n",
    "print(\"Procesamiento y guardado de imágenes completado.\")\n"
   ]
  },
  {
   "cell_type": "code",
   "execution_count": null,
   "id": "6a1d3920-cea8-455f-8483-2e6aec7bfabe",
   "metadata": {},
   "outputs": [],
   "source": []
  }
 ],
 "metadata": {
  "kernelspec": {
   "display_name": "Python 3 (ipykernel)",
   "language": "python",
   "name": "python3"
  },
  "language_info": {
   "codemirror_mode": {
    "name": "ipython",
    "version": 3
   },
   "file_extension": ".py",
   "mimetype": "text/x-python",
   "name": "python",
   "nbconvert_exporter": "python",
   "pygments_lexer": "ipython3",
   "version": "3.9.18"
  }
 },
 "nbformat": 4,
 "nbformat_minor": 5
}
