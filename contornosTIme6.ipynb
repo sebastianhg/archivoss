{
 "cells": [
  {
   "cell_type": "code",
   "execution_count": null,
   "id": "108b038c-41b9-48f6-abb5-18913770c2d0",
   "metadata": {},
   "outputs": [],
   "source": [
    "import cv2\n",
    "import numpy as np\n",
    "\n",
    "# Ruta de la imagen\n",
    "ruta_imagen = \"/home/clein/Documentos/archivos_jupyter/time6/objetos_color_azul_rey_2022-01-01 00:00:00.png\"\n",
    "\n",
    "# Leer la imagen\n",
    "imagen = cv2.imread(ruta_imagen)\n",
    "\n",
    "# Convertir la imagen a escala de grises\n",
    "gris = cv2.cvtColor(imagen, cv2.COLOR_BGR2GRAY)\n",
    "\n",
    "# Convertir la imagen a binaria inversa para detectar los píxeles diferentes de blanco\n",
    "_, mascara_objetos = cv2.threshold(gris, 254, 255, cv2.THRESH_BINARY_INV)\n",
    "\n",
    "# Encontrar los contornos de los objetos\n",
    "contornos, _ = cv2.findContours(mascara_objetos, cv2.RETR_EXTERNAL, cv2.CHAIN_APPROX_SIMPLE)\n",
    "\n",
    "# Generar colores aleatorios para cada contorno\n",
    "colores_contornos = np.random.randint(0, 255, (len(contornos), 3))\n",
    "\n",
    "# Tamaño mínimo para considerar un objeto grande (ajusta este valor según tus necesidades)\n",
    "tamaño_minimo = 1000\n",
    "\n",
    "# Lista para almacenar los contornos de los objetos grandes\n",
    "contornos_grandes = []\n",
    "\n",
    "# Iterar sobre cada objeto y agregar el contorno a la lista si es grande\n",
    "for idx, contorno in enumerate(contornos, start=1):\n",
    "    # Calcular el área del contorno\n",
    "    area = cv2.contourArea(contorno)\n",
    "    \n",
    "    # Si el área del contorno es mayor que el tamaño mínimo, agregarlo a la lista\n",
    "    if area > tamaño_minimo:\n",
    "        contornos_grandes.append(contorno)\n",
    "\n",
    "# Dibujar los contornos de los objetos grandes y enumerarlos nuevamente\n",
    "for idx, (contorno, color) in enumerate(zip(contornos_grandes, colores_contornos), start=1):\n",
    "    # Dibujar el contorno\n",
    "    cv2.drawContours(imagen, [contorno], -1, color.tolist(), 2)\n",
    "    \n",
    "    # Dibujar el número del objeto\n",
    "    x, y, _, _ = cv2.boundingRect(contorno)\n",
    "    cv2.putText(imagen, str(idx), (x, y - 10), cv2.FONT_HERSHEY_SIMPLEX, 0.5, color.tolist(), 2)\n",
    "\n",
    "# Mostrar la imagen con los contornos y números de objetos\n",
    "cv2.imshow('Objetos Grandes Detectados', imagen)\n",
    "cv2.waitKey(0)\n",
    "cv2.destroyAllWindows()\n"
   ]
  }
 ],
 "metadata": {
  "kernelspec": {
   "display_name": "Python 3 (ipykernel)",
   "language": "python",
   "name": "python3"
  },
  "language_info": {
   "codemirror_mode": {
    "name": "ipython",
    "version": 3
   },
   "file_extension": ".py",
   "mimetype": "text/x-python",
   "name": "python",
   "nbconvert_exporter": "python",
   "pygments_lexer": "ipython3",
   "version": "3.9.18"
  }
 },
 "nbformat": 4,
 "nbformat_minor": 5
}
