{
 "cells": [
  {
   "cell_type": "code",
   "execution_count": 4,
   "id": "a9517ba9-51f7-4b81-affe-fac0a56fbe6e",
   "metadata": {
    "tags": []
   },
   "outputs": [
    {
     "name": "stdout",
     "output_type": "stream",
     "text": [
      "THE\n",
      "HISTORTY OF ATLANTIS\n",
      "\n",
      "CHAPTERI\n",
      "INTRODUCTORY\n",
      "\n",
      "A HISTORY OF ATLANTIS must differ from all other histories, for the\n",
      "fundamental reason that it seeks to record the chronicles of a country the\n",
      "soil of which is no longer available for examination to the archeologist.\n",
      "If, through some cataclysm of nature, the Italian peninsula had been\n",
      "submerged in the green waters of the Mediterranean at a period\n",
      "subsequent to the fall of Rome, we would still have been in possession of\n",
      "much documentary evidence concerning the growth and ascent of the\n",
      "Roman Empire. At the same time, the soil upon which that empire\n",
      "flourished, the ponderable remains of its civilisation and its architecture,\n",
      "would have been for ever lost to us save as regards their colonial\n",
      "manifestations. We should, in a great measure, have been forced to glean\n",
      "our ideas of Latin pre-eminence from those institutions which it founded\n",
      "in other lands, and from those traditions of it which remained at era of its\n",
      "\n",
      "disappearance among the unlettered nation surrounding it.\n",
      "\n",
      "But great as would be the difficulties attending such an enterprise,\n",
      "these would, indeed, be negligible when compared with the task of\n",
      "groping through the mists of the ages in quest of the outlines of chronicle\n",
      "\n",
      "and event which tell of a civilisation plunged into the\n",
      "\f",
      "\n"
     ]
    }
   ],
   "source": [
    "from PIL import Image\n",
    "import pytesseract\n",
    "\n",
    "# Especifica la ruta del ejecutable de Tesseract aquí si es necesario\n",
    "# pytesseract.pytesseract.tesseract_cmd = '/ruta/a/tesseract'\n",
    "\n",
    "# Ruta de la imagen\n",
    "imagen = '/home/sebastian/Descargas/image.jpg'\n",
    "\n",
    "# Cargamos la imagen\n",
    "img = Image.open(imagen)\n",
    "\n",
    "# Extraemos el texto de la imagen\n",
    "texto_extraido = pytesseract.image_to_string(img)\n",
    "\n",
    "# Imprimimos el texto extraído\n",
    "print(texto_extraido)"
   ]
  },
  {
   "cell_type": "code",
   "execution_count": null,
   "id": "16c8a18f-9365-4593-862e-044db26291c9",
   "metadata": {},
   "outputs": [],
   "source": []
  }
 ],
 "metadata": {
  "kernelspec": {
   "display_name": "Python 3 (ipykernel)",
   "language": "python",
   "name": "python3"
  },
  "language_info": {
   "codemirror_mode": {
    "name": "ipython",
    "version": 3
   },
   "file_extension": ".py",
   "mimetype": "text/x-python",
   "name": "python",
   "nbconvert_exporter": "python",
   "pygments_lexer": "ipython3",
   "version": "3.10.9"
  }
 },
 "nbformat": 4,
 "nbformat_minor": 5
}
