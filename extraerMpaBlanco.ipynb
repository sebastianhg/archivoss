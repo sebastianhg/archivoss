{
 "cells": [
  {
   "cell_type": "code",
   "execution_count": 1,
   "id": "0f37d7df-afb2-4f1e-9ce7-7ed60fae8a74",
   "metadata": {},
   "outputs": [
    {
     "name": "stdout",
     "output_type": "stream",
     "text": [
      "Imagen resultante guardada con éxito.\n"
     ]
    }
   ],
   "source": [
    "import cv2\n",
    "import os\n",
    "import numpy as np\n",
    "\n",
    "# Cargar la imagen original\n",
    "ruta_imagen_original = \"/home/sebastian/Documentos/analisisNETCDF/datosGraficados/2022-01-01.png\"\n",
    "imagen_original = cv2.imread(ruta_imagen_original)\n",
    "\n",
    "# Cargar la imagen de contornos\n",
    "ruta_contornos = \"/home/sebastian/Documentos/analisisNETCDF/objetos/contornos.png\"\n",
    "imagen_contornos = cv2.imread(ruta_contornos)\n",
    "\n",
    "# Verificar que las imágenes se hayan cargado correctamente\n",
    "if imagen_original is None or imagen_contornos is None:\n",
    "    print(\"No se pudieron cargar las imágenes.\")\n",
    "else:\n",
    "    # Obtener los canales de color de la imagen original\n",
    "    b_original, g_original, r_original = cv2.split(imagen_original)\n",
    "\n",
    "    # Obtener los canales de color de la imagen de contornos\n",
    "    b_contornos, g_contornos, r_contornos = cv2.split(imagen_contornos)\n",
    "\n",
    "    # Reemplazar los píxeles azules de la imagen original con los colores de los contornos\n",
    "    b_nuevo = np.where(b_original == 255, b_contornos, b_original)\n",
    "    g_nuevo = np.where(b_original == 255, g_contornos, g_original)\n",
    "    r_nuevo = np.where(b_original == 255, r_contornos, r_original)\n",
    "\n",
    "    # Combinar los canales de color en la nueva imagen\n",
    "    imagen_nueva = cv2.merge((b_nuevo, g_nuevo, r_nuevo))\n",
    "\n",
    "    # Guardar la imagen resultante en la carpeta \"objetos\" en la ubicación actual\n",
    "    ruta_guardado = os.path.join(os.getcwd(), \"objetos\", \"imagen_resultante.png\")\n",
    "    cv2.imwrite(ruta_guardado, imagen_nueva)\n",
    "    print(\"Imagen resultante guardada con éxito.\")\n"
   ]
  }
 ],
 "metadata": {
  "kernelspec": {
   "display_name": "Python 3 (ipykernel)",
   "language": "python",
   "name": "python3"
  },
  "language_info": {
   "codemirror_mode": {
    "name": "ipython",
    "version": 3
   },
   "file_extension": ".py",
   "mimetype": "text/x-python",
   "name": "python",
   "nbconvert_exporter": "python",
   "pygments_lexer": "ipython3",
   "version": "3.10.9"
  }
 },
 "nbformat": 4,
 "nbformat_minor": 5
}
