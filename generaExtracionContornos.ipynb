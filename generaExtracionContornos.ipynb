{
 "cells": [
  {
   "cell_type": "code",
   "execution_count": 1,
   "id": "9e253a14-0364-4397-950a-5f1f03e7d077",
   "metadata": {
    "tags": []
   },
   "outputs": [
    {
     "name": "stdout",
     "output_type": "stream",
     "text": [
      "Procesada y guardada: 2022-01-19_binarizado.png\n",
      "Procesada y guardada: 2022-01-20_binarizado.png\n",
      "Procesada y guardada: 2022-01-10_binarizado.png\n",
      "Procesada y guardada: 2022-01-03_binarizado.png\n",
      "Procesada y guardada: 2022-01-04_binarizado.png\n",
      "Procesada y guardada: 2022-01-14_binarizado.png\n",
      "Procesada y guardada: 2022-01-05_binarizado.png\n",
      "Procesada y guardada: 2022-01-09_binarizado.png\n",
      "Procesada y guardada: 2022-01-30_binarizado.png\n",
      "Procesada y guardada: 2022-01-26_binarizado.png\n",
      "Procesada y guardada: 2022-01-02_binarizado.png\n",
      "Procesada y guardada: 2022-01-22_binarizado.png\n",
      "Procesada y guardada: 2022-01-18_binarizado.png\n",
      "Procesada y guardada: 2022-01-06_binarizado.png\n",
      "Procesada y guardada: 2022-01-11_binarizado.png\n",
      "Procesada y guardada: 2022-01-27_binarizado.png\n",
      "Procesada y guardada: 2022-01-16_binarizado.png\n",
      "Procesada y guardada: 2022-01-28_binarizado.png\n",
      "Procesada y guardada: 2022-01-15_binarizado.png\n",
      "Procesada y guardada: 2022-01-31_binarizado.png\n",
      "Procesada y guardada: 2022-01-12_binarizado.png\n",
      "Procesada y guardada: 2022-01-29_binarizado.png\n",
      "Procesada y guardada: 2022-01-17_binarizado.png\n",
      "Procesada y guardada: 2022-01-21_binarizado.png\n",
      "Procesada y guardada: 2022-01-23_binarizado.png\n",
      "Procesada y guardada: 2022-01-07_binarizado.png\n",
      "Procesada y guardada: 2022-01-13_binarizado.png\n",
      "Procesada y guardada: 2022-01-08_binarizado.png\n",
      "Procesada y guardada: 2022-01-24_binarizado.png\n",
      "Procesada y guardada: 2022-01-01_binarizado.png\n",
      "Procesada y guardada: 2022-01-25_binarizado.png\n",
      "Proceso completado.\n"
     ]
    }
   ],
   "source": [
    "import os\n",
    "import cv2\n",
    "import numpy as np\n",
    "\n",
    "# Ruta de la carpeta que contiene las imágenes\n",
    "ruta_carpeta = '/home/sebastian/Documentos/analisisNETCDF/datosGraficados/2022/2022-01'\n",
    "\n",
    "# Ruta de la carpeta donde se guardarán las imágenes binarizadas\n",
    "carpeta_salida = '/home/sebastian/Documentos/analisisNETCDF/datosGraficados/2022-01_contourExtraido'\n",
    "os.makedirs(carpeta_salida, exist_ok=True)\n",
    "\n",
    "# Definir el rango de colores azules en el espacio de color HSV\n",
    "lower_blue = np.array([100, 50, 50])\n",
    "upper_blue = np.array([130, 255, 255])\n",
    "\n",
    "# Obtener lista de archivos en la carpeta de entrada\n",
    "lista_archivos = os.listdir(ruta_carpeta)\n",
    "for archivo in lista_archivos:\n",
    "    if archivo.endswith('.png'):\n",
    "        # Leer la imagen\n",
    "        image = cv2.imread(os.path.join(ruta_carpeta, archivo))\n",
    "\n",
    "        if image is not None:\n",
    "            # Convertir la imagen a escala de color HSV\n",
    "            hsv_image = cv2.cvtColor(image, cv2.COLOR_BGR2HSV)\n",
    "\n",
    "            # Crear una máscara para los objetos azules\n",
    "            blue_mask = cv2.inRange(hsv_image, lower_blue, upper_blue)\n",
    "\n",
    "            # Encontrar los contornos de los objetos azules\n",
    "            blue_contours, _ = cv2.findContours(blue_mask, cv2.RETR_EXTERNAL, cv2.CHAIN_APPROX_SIMPLE)\n",
    "\n",
    "            # Crear una imagen en blanco del mismo tamaño que la original\n",
    "            result_image = np.zeros_like(image)\n",
    "\n",
    "            # Dibujar los contornos de los objetos azules en la imagen en blanco\n",
    "            cv2.drawContours(result_image, blue_contours, -1, (0, 0, 255), 2)\n",
    "\n",
    "            # Guardar la imagen procesada en la carpeta de salida\n",
    "            nombre_salida = os.path.splitext(archivo)[0] + '_binarizado.png'\n",
    "            ruta_salida = os.path.join(carpeta_salida, nombre_salida)\n",
    "            cv2.imwrite(ruta_salida, result_image)\n",
    "\n",
    "            print(f\"Procesada y guardada: {nombre_salida}\")\n",
    "        else:\n",
    "            print(f\"Error al leer la imagen: {archivo}\")\n",
    "\n",
    "print(\"Proceso completado.\")\n",
    "\n"
   ]
  }
 ],
 "metadata": {
  "kernelspec": {
   "display_name": "Python 3 (ipykernel)",
   "language": "python",
   "name": "python3"
  },
  "language_info": {
   "codemirror_mode": {
    "name": "ipython",
    "version": 3
   },
   "file_extension": ".py",
   "mimetype": "text/x-python",
   "name": "python",
   "nbconvert_exporter": "python",
   "pygments_lexer": "ipython3",
   "version": "3.10.9"
  }
 },
 "nbformat": 4,
 "nbformat_minor": 5
}
