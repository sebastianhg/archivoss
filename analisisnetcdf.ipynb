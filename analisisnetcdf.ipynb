{
 "cells": [
  {
   "cell_type": "code",
   "execution_count": 5,
   "id": "b3984c98",
   "metadata": {},
   "outputs": [
    {
     "name": "stdout",
     "output_type": "stream",
     "text": [
      "                                               ivt\n",
      "time                latitude longitude            \n",
      "2022-01-01 00:00:00 -62.0    -90.00      86.443573\n",
      "                             -89.75      88.524742\n",
      "                             -89.50      90.655144\n",
      "                             -89.25      92.609688\n",
      "                             -89.00      94.364227\n",
      "...                                            ...\n",
      "2022-01-31 18:00:00  15.0    -26.00     268.630615\n",
      "                             -25.75     276.027283\n",
      "                             -25.50     281.533051\n",
      "                             -25.25     289.593353\n",
      "                             -25.00     293.868347\n",
      "\n",
      "[10000476 rows x 1 columns]\n"
     ]
    }
   ],
   "source": [
    "import xarray as xr\n",
    "\n",
    "ds = xr.open_dataset(\"/home/clein/Documentos/archivos_jupyter/ivt_s_6_2022_Jan.nc\")\n",
    "df = ds.to_dataframe()\n",
    "print(df)"
   ]
  },
  {
   "cell_type": "code",
   "execution_count": 6,
   "id": "692b9f6e",
   "metadata": {},
   "outputs": [
    {
     "name": "stdout",
     "output_type": "stream",
     "text": [
      "Index                  time  latitude  longitude         ivt\n",
      "1       2022-01-01 00:00:00    -57.75     -54.25  251.807892\n",
      "2       2022-01-01 00:00:00    -57.75     -54.00  256.242828\n",
      "3       2022-01-01 00:00:00    -57.75     -53.75  256.437347\n",
      "4       2022-01-01 00:00:00    -57.75     -53.50  256.694092\n",
      "5       2022-01-01 00:00:00    -57.75     -53.25  254.901627\n",
      "...                     ...       ...        ...         ...\n",
      "2483966 2022-01-31 18:00:00     15.00     -26.00  268.630615\n",
      "2483967 2022-01-31 18:00:00     15.00     -25.75  276.027283\n",
      "2483968 2022-01-31 18:00:00     15.00     -25.50  281.533051\n",
      "2483969 2022-01-31 18:00:00     15.00     -25.25  289.593353\n",
      "2483970 2022-01-31 18:00:00     15.00     -25.00  293.868347\n",
      "\n",
      "[2483970 rows x 4 columns]\n"
     ]
    }
   ],
   "source": [
    "import pandas as pd\n",
    "\n",
    "# Filtrar valores mayores a 250\n",
    "df_filtered = df.loc[df['ivt'] > 250]\n",
    "\n",
    "# Resetear el índice y agregar el número como índice al principio\n",
    "df_filtered.reset_index(inplace=True)\n",
    "df_filtered.index += 1\n",
    "\n",
    "# Renombrar el nombre de la columna de índice\n",
    "df = df_filtered.rename_axis(\"Index\", axis=\"columns\")\n",
    "\n",
    "# Imprimir el DataFrame\n",
    "print(df)\n"
   ]
  },
  {
   "cell_type": "code",
   "execution_count": null,
   "id": "6a2ee746",
   "metadata": {},
   "outputs": [],
   "source": [
    "import folium\n",
    "\n",
    "# Crear un mapa centrado en una ubicación inicial\n",
    "mapa = folium.Map(location=[df['latitude'].mean(), df['longitude'].mean()], zoom_start=10)\n",
    "\n",
    "# Iterar sobre las filas del DataFrame\n",
    "for index, row in df.iterrows():\n",
    "    # Obtener las coordenadas de latitud y longitud\n",
    "    lat = row['latitude']\n",
    "    lon = row['longitude']\n",
    "    location = row['ivt']\n",
    "    \n",
    "    # Agregar un marcador en el mapa con la ubicación y coordenadas\n",
    "    folium.Marker([lat, lon], popup=location).add_to(mapa)\n",
    "\n",
    "# Mostrar el mapa\n",
    "mapa\n"
   ]
  },
  {
   "cell_type": "code",
   "execution_count": null,
   "id": "6c582dcb",
   "metadata": {},
   "outputs": [],
   "source": []
  },
  {
   "cell_type": "code",
   "execution_count": null,
   "id": "6e366eb0",
   "metadata": {},
   "outputs": [],
   "source": [
    "\n"
   ]
  },
  {
   "cell_type": "code",
   "execution_count": null,
   "id": "c6cf2f4a",
   "metadata": {},
   "outputs": [],
   "source": []
  }
 ],
 "metadata": {
  "kernelspec": {
   "display_name": "Python 3 (ipykernel)",
   "language": "python",
   "name": "python3"
  },
  "language_info": {
   "codemirror_mode": {
    "name": "ipython",
    "version": 3
   },
   "file_extension": ".py",
   "mimetype": "text/x-python",
   "name": "python",
   "nbconvert_exporter": "python",
   "pygments_lexer": "ipython3",
   "version": "3.9.18"
  }
 },
 "nbformat": 4,
 "nbformat_minor": 5
}
