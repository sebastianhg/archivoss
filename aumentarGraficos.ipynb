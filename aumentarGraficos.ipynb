{
 "cells": [
  {
   "cell_type": "code",
   "execution_count": 1,
   "id": "9cbd3562-d955-4e0e-911b-255dc0373811",
   "metadata": {
    "tags": []
   },
   "outputs": [
    {
     "ename": "ZeroDivisionError",
     "evalue": "float division by zero",
     "output_type": "error",
     "traceback": [
      "\u001b[0;31m---------------------------------------------------------------------------\u001b[0m",
      "\u001b[0;31mZeroDivisionError\u001b[0m                         Traceback (most recent call last)",
      "Cell \u001b[0;32mIn[1], line 49\u001b[0m\n\u001b[1;32m     46\u001b[0m \u001b[38;5;28;01mfor\u001b[39;00m contorno \u001b[38;5;129;01min\u001b[39;00m contornos:\n\u001b[1;32m     47\u001b[0m     \u001b[38;5;66;03m# Calcular el centroide del contorno\u001b[39;00m\n\u001b[1;32m     48\u001b[0m     momentos \u001b[38;5;241m=\u001b[39m cv2\u001b[38;5;241m.\u001b[39mmoments(contorno)\n\u001b[0;32m---> 49\u001b[0m     centro_x \u001b[38;5;241m=\u001b[39m \u001b[38;5;28mint\u001b[39m(\u001b[43mmomentos\u001b[49m\u001b[43m[\u001b[49m\u001b[38;5;124;43m'\u001b[39;49m\u001b[38;5;124;43mm10\u001b[39;49m\u001b[38;5;124;43m'\u001b[39;49m\u001b[43m]\u001b[49m\u001b[43m \u001b[49m\u001b[38;5;241;43m/\u001b[39;49m\u001b[43m \u001b[49m\u001b[43mmomentos\u001b[49m\u001b[43m[\u001b[49m\u001b[38;5;124;43m'\u001b[39;49m\u001b[38;5;124;43mm00\u001b[39;49m\u001b[38;5;124;43m'\u001b[39;49m\u001b[43m]\u001b[49m)\n\u001b[1;32m     50\u001b[0m     centro_y \u001b[38;5;241m=\u001b[39m \u001b[38;5;28mint\u001b[39m(momentos[\u001b[38;5;124m'\u001b[39m\u001b[38;5;124mm01\u001b[39m\u001b[38;5;124m'\u001b[39m] \u001b[38;5;241m/\u001b[39m momentos[\u001b[38;5;124m'\u001b[39m\u001b[38;5;124mm00\u001b[39m\u001b[38;5;124m'\u001b[39m])\n\u001b[1;32m     52\u001b[0m     \u001b[38;5;66;03m# Dibujar el eje horizontal en azul\u001b[39;00m\n",
      "\u001b[0;31mZeroDivisionError\u001b[0m: float division by zero"
     ]
    }
   ],
   "source": [
    "import cv2\n",
    "import numpy as np\n",
    "\n",
    "# Ruta de la imagen original\n",
    "ruta_imagen_original = '/home/sebastian/Documentos/analisisNETCDF/imagenMezclada/imagenProcesada.png'\n",
    "\n",
    "# Cargar la imagen original\n",
    "imagen_original = cv2.imread(ruta_imagen_original)\n",
    "\n",
    "# Ajustar el contraste y la saturación\n",
    "factor_contraste = 1.5  # Ajusta este valor según tus preferencias\n",
    "factor_saturacion = 1.5  # Ajusta este valor según tus preferencias\n",
    "\n",
    "# Convertir la imagen a formato HSV\n",
    "imagen_hsv = cv2.cvtColor(imagen_original, cv2.COLOR_BGR2HSV)\n",
    "\n",
    "# Extraer la componente de luminosidad (V) de la imagen original\n",
    "imagen_luminosidad = imagen_hsv[..., 2]\n",
    "\n",
    "# Aumentar el contraste de la imagen de luminosidad\n",
    "imagen_luminosidad_aumentada = cv2.multiply(imagen_luminosidad, factor_contraste)\n",
    "\n",
    "# Reemplazar la componente de luminosidad en la imagen HSV aumentada\n",
    "imagen_hsv_aumentada = imagen_hsv.copy()\n",
    "imagen_hsv_aumentada[..., 2] = imagen_luminosidad_aumentada\n",
    "\n",
    "# Convertir la imagen de vuelta a formato BGR\n",
    "imagen_aumentada = cv2.cvtColor(imagen_hsv_aumentada, cv2.COLOR_HSV2BGR)\n",
    "\n",
    "# Aplicar un filtro bilateral para suavizar la imagen\n",
    "imagen_pulida = cv2.bilateralFilter(imagen_aumentada, 9, 75, 75)\n",
    "\n",
    "# Convertir la imagen pulida a escala de grises\n",
    "imagen_gris = cv2.cvtColor(imagen_pulida, cv2.COLOR_BGR2GRAY)\n",
    "\n",
    "# Binarizar la imagen mediante umbralización\n",
    "_, imagen_binaria = cv2.threshold(imagen_gris, 0, 255, cv2.THRESH_BINARY_INV+cv2.THRESH_OTSU)\n",
    "\n",
    "# Encontrar los contornos en la imagen binaria\n",
    "contornos, _ = cv2.findContours(imagen_binaria, cv2.RETR_EXTERNAL, cv2.CHAIN_APPROX_SIMPLE)\n",
    "\n",
    "# Dibujar los contornos en la imagen pulida en verde\n",
    "cv2.drawContours(imagen_pulida, contornos, -1, (0, 255, 0), 2)\n",
    "\n",
    "# Identificar y dibujar los ejes en azul\n",
    "for contorno in contornos:\n",
    "    # Calcular el centroide del contorno\n",
    "    momentos = cv2.moments(contorno)\n",
    "    centro_x = int(momentos['m10'] / momentos['m00'])\n",
    "    centro_y = int(momentos['m01'] / momentos['m00'])\n",
    "\n",
    "    # Dibujar el eje horizontal en azul\n",
    "    cv2.line(imagen_pulida, (centro_x - 50, centro_y), (centro_x + 50, centro_y), (255, 0, 0), 2)\n",
    "\n",
    "    # Dibujar el eje vertical en azul\n",
    "    cv2.line(imagen_pulida, (centro_x, centro_y - 50), (centro_x, centro_y + 50), (255, 0, 0), 2)\n",
    "\n",
    "    # Marcar el centroide con un círculo naranja\n",
    "    cv2.circle(imagen_pulida, (centro_x, centro_y), 5, (0, 165, 255), -1)\n",
    "\n",
    "# Mostrar la imagen original, la imagen aumentada y la imagen pulida con contornos y ejes\n",
    "cv2.imshow('Imagen original', imagen_original)\n",
    "cv2.imshow('Imagen aumentada', imagen_aumentada)\n",
    "cv2.imshow('Imagen pulida con contornos y ejes', imagen_pulida)\n",
    "cv2.waitKey(0)\n",
    "cv2.destroyAllWindows()\n"
   ]
  }
 ],
 "metadata": {
  "kernelspec": {
   "display_name": "Python 3 (ipykernel)",
   "language": "python",
   "name": "python3"
  },
  "language_info": {
   "codemirror_mode": {
    "name": "ipython",
    "version": 3
   },
   "file_extension": ".py",
   "mimetype": "text/x-python",
   "name": "python",
   "nbconvert_exporter": "python",
   "pygments_lexer": "ipython3",
   "version": "3.10.9"
  }
 },
 "nbformat": 4,
 "nbformat_minor": 5
}
