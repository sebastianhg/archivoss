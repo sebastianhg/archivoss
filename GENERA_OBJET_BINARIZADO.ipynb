{
 "cells": [
  {
   "cell_type": "code",
   "execution_count": 4,
   "id": "dc307aec-27be-4fdc-aba3-25dc6d3ba9d2",
   "metadata": {
    "tags": []
   },
   "outputs": [
    {
     "name": "stdout",
     "output_type": "stream",
     "text": [
      "Procesamiento y guardado de imágenes completado.\n"
     ]
    }
   ],
   "source": [
    "import cv2\n",
    "import numpy as np\n",
    "import os\n",
    "\n",
    "# Ruta de la carpeta que contiene las imágenes\n",
    "ruta_carpeta = './contornos_fondo_negro'\n",
    "\n",
    "# Ruta de la carpeta donde se guardarán las imágenes binarizadas\n",
    "carpeta_salida = \"./objetos_binarizados\"\n",
    "os.makedirs(carpeta_salida, exist_ok=True)\n",
    "\n",
    "# Definir el rango de colores azules en el espacio de color HSV\n",
    "lower_blue = np.array([100, 50, 50])\n",
    "upper_blue = np.array([130, 255, 255])\n",
    "\n",
    "# Función para procesar una imagen y encontrar objetos azules\n",
    "def process_image(image_path):\n",
    "    # Leer la imagen\n",
    "    image = cv2.imread(image_path)\n",
    "\n",
    "    # Convertir la imagen a escala de color HSV\n",
    "    hsv_image = cv2.cvtColor(image, cv2.COLOR_BGR2HSV)\n",
    "\n",
    "    # Crear una máscara para los objetos azules en la imagen\n",
    "    blue_mask = cv2.inRange(hsv_image, lower_blue, upper_blue)\n",
    "\n",
    "    # Guardar la imagen binarizada en la carpeta de salida\n",
    "    output_path = os.path.join(carpeta_salida, os.path.basename(image_path))\n",
    "    cv2.imwrite(output_path, blue_mask)\n",
    "\n",
    "# Procesar todas las imágenes en la carpeta\n",
    "for filename in os.listdir(ruta_carpeta):\n",
    "    if filename.endswith('.jpg') or filename.endswith('.png'):  # Filtrar archivos de imagen\n",
    "        image_path = os.path.join(ruta_carpeta, filename)\n",
    "        process_image(image_path)\n",
    "\n",
    "print(\"Procesamiento y guardado de imágenes completado.\")\n",
    "\n"
   ]
  }
 ],
 "metadata": {
  "kernelspec": {
   "display_name": "Python 3 (ipykernel)",
   "language": "python",
   "name": "python3"
  },
  "language_info": {
   "codemirror_mode": {
    "name": "ipython",
    "version": 3
   },
   "file_extension": ".py",
   "mimetype": "text/x-python",
   "name": "python",
   "nbconvert_exporter": "python",
   "pygments_lexer": "ipython3",
   "version": "3.9.18"
  }
 },
 "nbformat": 4,
 "nbformat_minor": 5
}
