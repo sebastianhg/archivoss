{
 "cells": [
  {
   "cell_type": "code",
   "execution_count": 1,
   "id": "f3769468-72c0-4d25-b1ae-f42275286cef",
   "metadata": {
    "tags": []
   },
   "outputs": [
    {
     "name": "stdout",
     "output_type": "stream",
     "text": [
      "Index                  time  latitude  longitude         ivt\n",
      "1       2022-01-01 00:00:00    -57.75     -54.25  251.807892\n",
      "2       2022-01-01 00:00:00    -57.75     -54.00  256.242828\n",
      "3       2022-01-01 00:00:00    -57.75     -53.75  256.437347\n",
      "4       2022-01-01 00:00:00    -57.75     -53.50  256.694092\n",
      "5       2022-01-01 00:00:00    -57.75     -53.25  254.901627\n",
      "...                     ...       ...        ...         ...\n",
      "2483966 2022-01-31 18:00:00     15.00     -26.00  268.630615\n",
      "2483967 2022-01-31 18:00:00     15.00     -25.75  276.027283\n",
      "2483968 2022-01-31 18:00:00     15.00     -25.50  281.533051\n",
      "2483969 2022-01-31 18:00:00     15.00     -25.25  289.593353\n",
      "2483970 2022-01-31 18:00:00     15.00     -25.00  293.868347\n",
      "\n",
      "[2483970 rows x 4 columns]\n"
     ]
    }
   ],
   "source": [
    "import pandas as pd\n",
    "import matplotlib.pyplot as plt\n",
    "import cartopy.crs as ccrs\n",
    "import cartopy.feature as cfeature\n",
    "import os\n",
    "from skimage import measure\n",
    "import xarray as xr\n",
    "import numpy as np\n",
    "\n",
    "ds = xr.open_dataset('/home/sebastian/Documentos/analisisNETCDF/ivt_s_6_2022_Jan.nc')\n",
    "df = ds.to_dataframe()\n",
    "\n",
    "# Filtrar valores mayores a 250\n",
    "df_filtered = df.loc[df['ivt'] > 250]\n",
    "\n",
    "# Resetear el índice y agregar el número como índice al principio\n",
    "df_filtered.reset_index(inplace=True)\n",
    "df_filtered.index += 1\n",
    "\n",
    "# Renombrar el nombre de la columna de índice\n",
    "df = df_filtered.rename_axis(\"Index\", axis=\"columns\")\n",
    "\n",
    "# Guardar el DataFrame en un archivo CSV en la ubicación actual\n",
    "df.to_csv('nombre_del_archivo.csv', index=False)\n",
    "\n",
    "# Imprimir el DataFrame\n",
    "print(df)\n"
   ]
  },
  {
   "cell_type": "code",
   "execution_count": 5,
   "id": "137e7805-0a73-4747-b5b2-eeb97d7502f3",
   "metadata": {
    "tags": []
   },
   "outputs": [
    {
     "name": "stdout",
     "output_type": "stream",
     "text": [
      "Index                  time  latitude  longitude         ivt\n",
      "1       2022-01-01 00:00:00    -57.75     -54.25  251.807892\n",
      "2       2022-01-01 00:00:00    -57.75     -54.00  256.242828\n",
      "3       2022-01-01 00:00:00    -57.75     -53.75  256.437347\n",
      "4       2022-01-01 00:00:00    -57.75     -53.50  256.694092\n",
      "5       2022-01-01 00:00:00    -57.75     -53.25  254.901627\n",
      "...                     ...       ...        ...         ...\n",
      "2483966 2022-01-31 18:00:00     15.00     -26.00  268.630615\n",
      "2483967 2022-01-31 18:00:00     15.00     -25.75  276.027283\n",
      "2483968 2022-01-31 18:00:00     15.00     -25.50  281.533051\n",
      "2483969 2022-01-31 18:00:00     15.00     -25.25  289.593353\n",
      "2483970 2022-01-31 18:00:00     15.00     -25.00  293.868347\n",
      "\n",
      "[2483970 rows x 4 columns]\n"
     ]
    }
   ],
   "source": [
    "#guardar cdf filtrado\n",
    "import xarray as xr\n",
    "import numpy as np\n",
    "\n",
    "# Cargar el conjunto de datos NetCDF\n",
    "ds = xr.open_dataset('/home/sebastian/Documentos/analisisNETCDF/ivt_s_6_2022_Jan.nc')\n",
    "df = ds.to_dataframe()\n",
    "\n",
    "# Filtrar valores mayores a 250\n",
    "df_filtered = df.loc[df['ivt'] > 250]\n",
    "\n",
    "# Resetear el índice y agregar el número como índice al principio\n",
    "df_filtered.reset_index(inplace=True)\n",
    "df_filtered.index += 1\n",
    "\n",
    "# Renombrar el nombre de la columna de índice\n",
    "df_filtered = df_filtered.rename_axis(\"Index\", axis=\"columns\")\n",
    "\n",
    "# Convertir el DataFrame a un objeto Dataset\n",
    "ds_filtered = xr.Dataset.from_dataframe(df_filtered)\n",
    "\n",
    "# Guardar el Dataset filtrado en un archivo NetCDF en la ubicación actual\n",
    "ds_filtered.to_netcdf('nombre_del_archivo.nc')\n",
    "\n",
    "# Imprimir el DataFrame\n",
    "print(df_filtered)\n",
    "\n"
   ]
  },
  {
   "cell_type": "code",
   "execution_count": 8,
   "id": "5e2114b0-1c62-444b-a97f-b8181207a5ce",
   "metadata": {
    "tags": []
   },
   "outputs": [
    {
     "name": "stdout",
     "output_type": "stream",
     "text": [
      "                       time  latitude  longitude         ivt\n",
      "index                                                       \n",
      "1       2022-01-01 00:00:00    -57.75     -54.25  251.807892\n",
      "2       2022-01-01 00:00:00    -57.75     -54.00  256.242828\n",
      "3       2022-01-01 00:00:00    -57.75     -53.75  256.437347\n",
      "4       2022-01-01 00:00:00    -57.75     -53.50  256.694092\n",
      "5       2022-01-01 00:00:00    -57.75     -53.25  254.901627\n",
      "...                     ...       ...        ...         ...\n",
      "2483966 2022-01-31 18:00:00     15.00     -26.00  268.630615\n",
      "2483967 2022-01-31 18:00:00     15.00     -25.75  276.027283\n",
      "2483968 2022-01-31 18:00:00     15.00     -25.50  281.533051\n",
      "2483969 2022-01-31 18:00:00     15.00     -25.25  289.593353\n",
      "2483970 2022-01-31 18:00:00     15.00     -25.00  293.868347\n",
      "\n",
      "[2483970 rows x 4 columns]\n"
     ]
    }
   ],
   "source": [
    "import pandas as pd\n",
    "import matplotlib.pyplot as plt\n",
    "import cartopy.crs as ccrs\n",
    "import cartopy.feature as cfeature\n",
    "import os\n",
    "from skimage import measure\n",
    "import xarray as xr\n",
    "import numpy as np\n",
    "\n",
    "ds = xr.open_dataset('/home/sebastian/Documentos/analisisNETCDF/nombre_del_archivo.nc')\n",
    "df = ds.to_dataframe()\n",
    "print(df)\n"
   ]
  }
 ],
 "metadata": {
  "kernelspec": {
   "display_name": "Python 3 (ipykernel)",
   "language": "python",
   "name": "python3"
  },
  "language_info": {
   "codemirror_mode": {
    "name": "ipython",
    "version": 3
   },
   "file_extension": ".py",
   "mimetype": "text/x-python",
   "name": "python",
   "nbconvert_exporter": "python",
   "pygments_lexer": "ipython3",
   "version": "3.9.18"
  }
 },
 "nbformat": 4,
 "nbformat_minor": 5
}
