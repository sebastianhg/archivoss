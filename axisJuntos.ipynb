{
 "cells": [
  {
   "cell_type": "code",
   "execution_count": 4,
   "id": "6ffe0079-927b-419b-a5fd-03da7d26adfa",
   "metadata": {
    "tags": []
   },
   "outputs": [
    {
     "ename": "NameError",
     "evalue": "name 'x1' is not defined",
     "output_type": "error",
     "traceback": [
      "\u001b[0;31m---------------------------------------------------------------------------\u001b[0m",
      "\u001b[0;31mNameError\u001b[0m                                 Traceback (most recent call last)",
      "Cell \u001b[0;32mIn[4], line 30\u001b[0m\n\u001b[1;32m     26\u001b[0m centro_y \u001b[38;5;241m=\u001b[39m alto \u001b[38;5;241m/\u001b[39m\u001b[38;5;241m/\u001b[39m \u001b[38;5;241m2\u001b[39m\n\u001b[1;32m     28\u001b[0m \u001b[38;5;66;03m# Definir los cuadros a ignorar\u001b[39;00m\n\u001b[1;32m     29\u001b[0m cuadros_ignorar \u001b[38;5;241m=\u001b[39m [\n\u001b[0;32m---> 30\u001b[0m     (\u001b[43mx1\u001b[49m, y1, x2, y2),  \u001b[38;5;66;03m# Especifica las coordenadas (x1, y1) y (x2, y2) de cada cuadro a ignorar\u001b[39;00m\n\u001b[1;32m     31\u001b[0m     \u001b[38;5;66;03m# Agrega más cuadros si es necesario\u001b[39;00m\n\u001b[1;32m     32\u001b[0m ]\n\u001b[1;32m     34\u001b[0m \u001b[38;5;66;03m# Función para verificar si un punto está dentro de algún cuadro\u001b[39;00m\n\u001b[1;32m     35\u001b[0m \u001b[38;5;28;01mdef\u001b[39;00m \u001b[38;5;21mpunto_en_cuadro\u001b[39m(x, y):\n",
      "\u001b[0;31mNameError\u001b[0m: name 'x1' is not defined"
     ]
    }
   ],
   "source": [
    "import cv2\n",
    "import numpy as np\n",
    "\n",
    "# Cargar la imagen\n",
    "ruta_imagen = \"/home/sebastian/Documentos/analisisNETCDF/datosGraficados/componentes_conectados/componentes conectados/2021-01-01.png\"\n",
    "imagen = cv2.imread(ruta_imagen)\n",
    "\n",
    "# Convertir la imagen a escala de grises\n",
    "imgGris = cv2.cvtColor(imagen, cv2.COLOR_BGR2GRAY)\n",
    "\n",
    "# Aplicar un filtro de color para detectar las nubes blancas\n",
    "mascara_color = cv2.inRange(imagen, (200, 200, 200), (255, 255, 255))\n",
    "\n",
    "# Aplicar umbralización para convertir la imagen en una imagen binaria\n",
    "_, mascara = cv2.threshold(mascara_color, 200, 255, cv2.THRESH_BINARY)\n",
    "\n",
    "# Etiquetar los componentes conectados en la imagen binaria\n",
    "componentes_etiquetados = cv2.connectedComponents(mascara)[1]\n",
    "\n",
    "# Obtener los contornos de los componentes conectados\n",
    "contornos, _ = cv2.findContours((componentes_etiquetados > 0).astype(np.uint8), cv2.RETR_EXTERNAL, cv2.CHAIN_APPROX_SIMPLE)\n",
    "\n",
    "# Obtener el centro de la imagen\n",
    "alto, ancho = imgGris.shape\n",
    "centro_x = ancho // 2\n",
    "centro_y = alto // 2\n",
    "\n",
    "# Definir los cuadros a ignorar\n",
    "cuadros_ignorar = [\n",
    "    (x1, y1, x2, y2),  # Especifica las coordenadas (x1, y1) y (x2, y2) de cada cuadro a ignorar\n",
    "    # Agrega más cuadros si es necesario\n",
    "]\n",
    "\n",
    "# Función para verificar si un punto está dentro de algún cuadro\n",
    "def punto_en_cuadro(x, y):\n",
    "    for cuadro in cuadros_ignorar:\n",
    "        x1, y1, x2, y2 = cuadro\n",
    "        if x1 <= x <= x2 and y1 <= y <= y2:\n",
    "            return True\n",
    "    return False\n",
    "\n",
    "# Calcular la distancia de cada contorno al centro de la imagen y verificar si está dentro de algún cuadro\n",
    "def distancia_al_centro(contorno):\n",
    "    M = cv2.moments(contorno)\n",
    "    cX = int(M[\"m10\"] / M[\"m00\"])\n",
    "    cY = int(M[\"m01\"] / M[\"m00\"])\n",
    "    if punto_en_cuadro(cX, cY):\n",
    "        return np.inf  # Ignorar contornos dentro de los cuadros\n",
    "    return np.sqrt((cX - centro_x)**2 + (cY - centro_y)**2)\n",
    "\n",
    "# Ordenar los contornos según su distancia al centro\n",
    "contornos_ordenados = sorted(contornos, key=distancia_al_centro, reverse=True)\n",
    "\n",
    "# Crear una copia de la imagen original para dibujar los contornos\n",
    "imagen_contornos = imagen.copy()\n",
    "\n",
    "# Dibujar contornos en forma de anillos verdes alrededor de los componentes conectados\n",
    "for contorno in contornos_ordenados:\n",
    "    area = cv2.contourArea(contorno)\n",
    "    if area > 1000:  # Ajusta este valor según el tamaño de las nubes que deseas detectar\n",
    "        cv2.drawContours(imagen_contornos, [contorno], -1, (0, 255, 0), 2)\n",
    "\n",
    "# Guardar la imagen con los contornos dibujados\n",
    "ruta_guardado = \"/home/sebastian/Documentos/analisisNETCDF/objetos/componentes_conectados_contornos_ordenados.png\"\n",
    "if cv2.imwrite(ruta_guardado, imagen_contornos):\n",
    "    print(\"Imagen con contornos de componentes conectados guardada exitosamente en:\", ruta_guardado)\n",
    "else:\n",
    "    print(\"No se pudo guardar la imagen.\")"
   ]
  }
 ],
 "metadata": {
  "kernelspec": {
   "display_name": "Python 3 (ipykernel)",
   "language": "python",
   "name": "python3"
  },
  "language_info": {
   "codemirror_mode": {
    "name": "ipython",
    "version": 3
   },
   "file_extension": ".py",
   "mimetype": "text/x-python",
   "name": "python",
   "nbconvert_exporter": "python",
   "pygments_lexer": "ipython3",
   "version": "3.10.9"
  }
 },
 "nbformat": 4,
 "nbformat_minor": 5
}
